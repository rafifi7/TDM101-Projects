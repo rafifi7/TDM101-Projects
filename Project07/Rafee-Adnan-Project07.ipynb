{
 "cells": [
  {
   "cell_type": "markdown",
   "id": "be02a957-7133-4d02-818e-fedeb3cecb05",
   "metadata": {},
   "source": [
    "# Project 7 -- Rafee Adnan"
   ]
  },
  {
   "cell_type": "markdown",
   "id": "a1228853-dd19-4ab2-89e0-0394d7d72de3",
   "metadata": {},
   "source": [
    "**TA Help:** \n",
    "    \n",
    "**Collaboration:** "
   ]
  },
  {
   "cell_type": "markdown",
   "id": "6180e742-8e39-4698-98ff-5b00c8cf8ea0",
   "metadata": {},
   "source": [
    "## Question 1"
   ]
  },
  {
   "cell_type": "code",
   "execution_count": 1,
   "id": "96e68011-e498-446a-8fdd-24bd42df4c3f",
   "metadata": {},
   "outputs": [],
   "source": [
    "options(repr.matrix.max.cols=25, repr.matrix.max.rows=200)"
   ]
  },
  {
   "cell_type": "code",
   "execution_count": 2,
   "id": "57dab74e-4a71-4c6c-b174-8b3c4d079777",
   "metadata": {},
   "outputs": [],
   "source": [
    "options(jupyter.rich_display = F)"
   ]
  },
  {
   "cell_type": "code",
   "execution_count": 3,
   "id": "49445606-d363-41b4-b479-e319a9a84c01",
   "metadata": {},
   "outputs": [],
   "source": [
    "library(data.table)\n",
    "\n",
    "titles <- data.frame(fread(\"/anvil/projects/tdm/data/movies_and_tv/titles.csv\"))\n",
    "episodes <- data.frame(fread(\"/anvil/projects/tdm/data/movies_and_tv/episodes.csv\"))\n",
    "people <- data.frame(fread(\"/anvil/projects/tdm/data/movies_and_tv/people.csv\"))\n",
    "ratings <- data.frame(fread(\"/anvil/projects/tdm/data/movies_and_tv/ratings.csv\"))"
   ]
  },
  {
   "cell_type": "code",
   "execution_count": 4,
   "id": "78d63e01-7e40-458a-9767-e8b74035622e",
   "metadata": {},
   "outputs": [
    {
     "data": {
      "text/plain": [
       "  title_id  type  primary_title          original_title         is_adult\n",
       "1 tt0000001 short Carmencita             Carmencita             0       \n",
       "2 tt0000002 short Le clown et ses chiens Le clown et ses chiens 0       \n",
       "3 tt0000003 short Pauvre Pierrot         Pauvre Pierrot         0       \n",
       "4 tt0000004 short Un bon bock            Un bon bock            0       \n",
       "5 tt0000005 short Blacksmith Scene       Blacksmith Scene       0       \n",
       "6 tt0000006 short Chinese Opium Den      Chinese Opium Den      0       \n",
       "  premiered ended runtime_minutes genres                  \n",
       "1 1894      NA     1              Documentary,Short       \n",
       "2 1892      NA     5              Animation,Short         \n",
       "3 1892      NA     4              Animation,Comedy,Romance\n",
       "4 1892      NA    12              Animation,Short         \n",
       "5 1893      NA     1              Comedy,Short            \n",
       "6 1894      NA     1              Short                   "
      ]
     },
     "metadata": {},
     "output_type": "display_data"
    }
   ],
   "source": [
    "head(titles)"
   ]
  },
  {
   "cell_type": "code",
   "execution_count": 5,
   "id": "09faf374-2456-42b9-9dc9-0719d34cc781",
   "metadata": {},
   "outputs": [],
   "source": [
    "diffGenres <- unlist(strsplit(unique(titles$genres), \",\"))"
   ]
  },
  {
   "cell_type": "code",
   "execution_count": 6,
   "id": "fcb8f2e6-0839-4a44-8cf4-efbc9b63c56d",
   "metadata": {},
   "outputs": [
    {
     "data": {
      "text/plain": [
       " [1] \"Documentary\" \"Short\"       \"Animation\"   \"Comedy\"      \"Romance\"    \n",
       " [6] \"Sport\"       \"News\"        \"Drama\"       \"Fantasy\"     \"Horror\"     \n",
       "[11] \"Biography\"   \"Music\"       \"War\"         \"Crime\"       \"Western\"    \n",
       "[16] \"Family\"      \"Adventure\"   \"Action\"      \"History\"     \"Mystery\"    \n",
       "[21] \"\\\\N\"         \"Sci-Fi\"      \"Musical\"     \"Thriller\"    \"Film-Noir\"  \n",
       "[26] \"Talk-Show\"   \"Game-Show\"   \"Reality-TV\"  \"Adult\"      "
      ]
     },
     "metadata": {},
     "output_type": "display_data"
    }
   ],
   "source": [
    "unique(diffGenres)"
   ]
  },
  {
   "cell_type": "code",
   "execution_count": 7,
   "id": "6f438313-0281-4a88-9cf3-a3e1389d2e18",
   "metadata": {},
   "outputs": [
    {
     "data": {
      "text/plain": [
       "\n",
       " 2013  2014  2018  2015  2017  2016 \n",
       "71963 77034 78393 80199 83916 84227 "
      ]
     },
     "metadata": {},
     "output_type": "display_data"
    }
   ],
   "source": [
    "tail(sort(table(titles[grepl(\"Comedy\", titles$genres), ]$premiered)))"
   ]
  },
  {
   "cell_type": "markdown",
   "id": "b456e57c-4a12-464b-999a-ef2df5af80c1",
   "metadata": {},
   "source": [
    "a) shown above\n",
    "\n",
    "b) 2016 was the year with the most comedies debuted with 84,227."
   ]
  },
  {
   "cell_type": "markdown",
   "id": "fc601975-35ed-4680-a4e1-0273ee3cc047",
   "metadata": {},
   "source": [
    "## Question 2"
   ]
  },
  {
   "cell_type": "code",
   "execution_count": 8,
   "id": "a16336a1-1ef0-41e8-bc7c-49387db27497",
   "metadata": {},
   "outputs": [
    {
     "data": {
      "text/plain": [
       "  episode_title_id show_title_id season_number episode_number\n",
       "1 tt0041951        tt0041038      1            9             \n",
       "2 tt0042816        tt0989125      1            17            \n",
       "3 tt0042889        tt0989125     NA            \\\\N           \n",
       "4 tt0043426        tt0040051      3            42            \n",
       "5 tt0043631        tt0989125      2            16            \n",
       "6 tt0043693        tt0989125      2            8             "
      ]
     },
     "metadata": {},
     "output_type": "display_data"
    }
   ],
   "source": [
    "head(episodes)"
   ]
  },
  {
   "cell_type": "code",
   "execution_count": 9,
   "id": "a335eda2-3f30-4b24-9beb-dd55370f709e",
   "metadata": {},
   "outputs": [
    {
     "data": {
      "text/plain": [
       "[1] 5900030       4"
      ]
     },
     "metadata": {},
     "output_type": "display_data"
    }
   ],
   "source": [
    "dim(episodes)"
   ]
  },
  {
   "cell_type": "code",
   "execution_count": 10,
   "id": "0932c1b2-aa71-4e76-a05e-39021e8dac6e",
   "metadata": {},
   "outputs": [
    {
     "data": {
      "text/plain": [
       "[1] 8064259       9"
      ]
     },
     "metadata": {},
     "output_type": "display_data"
    }
   ],
   "source": [
    "dim(titles)"
   ]
  },
  {
   "cell_type": "code",
   "execution_count": 13,
   "id": "12505d87-4adf-4815-8b71-d4586d951b8f",
   "metadata": {},
   "outputs": [],
   "source": [
    "epiTitles <- merge(episodes, titles, by.x = \"episode_title_id\", by.y = \"title_id\")"
   ]
  },
  {
   "cell_type": "code",
   "execution_count": 14,
   "id": "0990f6cf-0da3-450c-a698-7a172b45145e",
   "metadata": {},
   "outputs": [
    {
     "data": {
      "text/plain": [
       "[1] 5897173      12"
      ]
     },
     "metadata": {},
     "output_type": "display_data"
    }
   ],
   "source": [
    "dim(epiTitles)"
   ]
  },
  {
   "cell_type": "code",
   "execution_count": 15,
   "id": "a5326a8e-f6e9-4990-8447-eec3748da546",
   "metadata": {},
   "outputs": [
    {
     "data": {
      "text/plain": [
       "  episode_title_id show_title_id season_number episode_number type     \n",
       "1 tt0041951        tt0041038      1            9              tvEpisode\n",
       "2 tt0042816        tt0989125      1            17             tvEpisode\n",
       "3 tt0042889        tt0989125     NA            \\\\N            tvEpisode\n",
       "4 tt0043426        tt0040051      3            42             tvEpisode\n",
       "5 tt0043631        tt0989125      2            16             tvEpisode\n",
       "6 tt0043693        tt0989125      2            8              tvEpisode\n",
       "  primary_title                     original_title                    is_adult\n",
       "1 The Tenderfeet                    The Tenderfeet                    0       \n",
       "2 Othello                           Othello                           0       \n",
       "3 The Tragedy of King Richard II/II The Tragedy of King Richard II/II 0       \n",
       "4 Coriolanus                        Coriolanus                        0       \n",
       "5 The Life of King Henry V          The Life of King Henry V          0       \n",
       "6 Julius Caesar                     Julius Caesar                     0       \n",
       "  premiered ended runtime_minutes genres \n",
       "1 1949      NA     30             Western\n",
       "2 1950      NA    135             Drama  \n",
       "3 1950      NA    145             Drama  \n",
       "4 1951      NA     60             Drama  \n",
       "5 1951      NA    133             Drama  \n",
       "6 1951      NA     NA             Drama  "
      ]
     },
     "metadata": {},
     "output_type": "display_data"
    }
   ],
   "source": [
    "head(epiTitles)"
   ]
  },
  {
   "cell_type": "markdown",
   "id": "14dc22d4-ddc3-41cc-a91a-cb0025bc0c80",
   "metadata": {},
   "source": [
    "The merge function creates a new dataframe that includes only the rows that have an equal title id and episode title id combines the information of the number of rows."
   ]
  },
  {
   "cell_type": "markdown",
   "id": "8e586edd-ff26-4ce2-8f6b-2424b26f2929",
   "metadata": {},
   "source": [
    "## Question 3"
   ]
  },
  {
   "cell_type": "code",
   "execution_count": 16,
   "id": "bbe0f40d-9655-4653-9ca8-886bdb61cb91",
   "metadata": {},
   "outputs": [],
   "source": [
    "noTitleFriendsDF <- epiTitles[epiTitles$show_title_id == \"tt0108778\", ]"
   ]
  },
  {
   "cell_type": "code",
   "execution_count": 17,
   "id": "37194251-8fa5-40ff-8149-c2d8c5967434",
   "metadata": {},
   "outputs": [
    {
     "data": {
      "text/plain": [
       "      episode_title_id show_title_id season_number episode_number type     \n",
       "93207 tt0583431        tt0108778      7            8              tvEpisode\n",
       "93208 tt0583432        tt0108778     10            9              tvEpisode\n",
       "93209 tt0583433        tt0108778     10            17             tvEpisode\n",
       "93210 tt0583435        tt0108778      8            1              tvEpisode\n",
       "93211 tt0583436        tt0108778     10            1              tvEpisode\n",
       "93212 tt0583437        tt0108778      5            1              tvEpisode\n",
       "      primary_title                           \n",
       "93207 The One Where Chandler Doesn't Like Dogs\n",
       "93208 The One with the Birth Mother           \n",
       "93209 The Last One                            \n",
       "93210 The One After I Do                      \n",
       "93211 The One After Joey and Rachel Kiss      \n",
       "93212 The One After Ross Says Rachel          \n",
       "      original_title                           is_adult premiered ended\n",
       "93207 The One Where Chandler Doesn't Like Dogs 0        2000      NA   \n",
       "93208 The One with the Birth Mother            0        2004      NA   \n",
       "93209 The Last One                             0        2004      NA   \n",
       "93210 The One After I Do                       0        2001      NA   \n",
       "93211 The One After Joey and Rachel Kiss       0        2003      NA   \n",
       "93212 The One After Ross Says Rachel           0        1998      NA   \n",
       "      runtime_minutes genres        \n",
       "93207 22              Comedy,Romance\n",
       "93208 22              Comedy,Romance\n",
       "93209 30              Comedy,Romance\n",
       "93210 22              Comedy,Romance\n",
       "93211 22              Comedy,Romance\n",
       "93212 22              Comedy,Romance"
      ]
     },
     "metadata": {},
     "output_type": "display_data"
    }
   ],
   "source": [
    "head(noTitleFriendsDF)"
   ]
  },
  {
   "cell_type": "code",
   "execution_count": 18,
   "id": "42e81f29-9690-46b1-99c8-ec0e623627ee",
   "metadata": {},
   "outputs": [],
   "source": [
    "friendsDFnoRating <- merge(noTitleFriendsDF, titles, by.x = \"show_title_id\", by.y = \"title_id\")"
   ]
  },
  {
   "cell_type": "code",
   "execution_count": 19,
   "id": "0a23005a-cf5d-4c31-8130-4a918c0732ed",
   "metadata": {},
   "outputs": [],
   "source": [
    "friendsDFrating <- merge(friendsDFnoRating, ratings, by.x = \"episode_title_id\", by.y = \"title_id\")"
   ]
  },
  {
   "cell_type": "code",
   "execution_count": 33,
   "id": "b5d90c70-0717-4e7a-ad78-467a3c771103",
   "metadata": {},
   "outputs": [
    {
     "data": {
      "text/plain": [
       "  episode_title_id show_title_id season_number episode_number type.x   \n",
       "1 tt0583431        tt0108778      7            8              tvEpisode\n",
       "2 tt0583432        tt0108778     10            9              tvEpisode\n",
       "3 tt0583433        tt0108778     10            17             tvEpisode\n",
       "4 tt0583435        tt0108778      8            1              tvEpisode\n",
       "5 tt0583436        tt0108778     10            1              tvEpisode\n",
       "6 tt0583437        tt0108778      5            1              tvEpisode\n",
       "  primary_title.x                         \n",
       "1 The One Where Chandler Doesn't Like Dogs\n",
       "2 The One with the Birth Mother           \n",
       "3 The Last One                            \n",
       "4 The One After I Do                      \n",
       "5 The One After Joey and Rachel Kiss      \n",
       "6 The One After Ross Says Rachel          \n",
       "  original_title.x                         is_adult.x premiered.x ended.x\n",
       "1 The One Where Chandler Doesn't Like Dogs 0          2000        NA     \n",
       "2 The One with the Birth Mother            0          2004        NA     \n",
       "3 The Last One                             0          2004        NA     \n",
       "4 The One After I Do                       0          2001        NA     \n",
       "5 The One After Joey and Rachel Kiss       0          2003        NA     \n",
       "6 The One After Ross Says Rachel           0          1998        NA     \n",
       "  runtime_minutes.x genres.x       type.y   primary_title.y original_title.y\n",
       "1 22                Comedy,Romance tvSeries Friends         Friends         \n",
       "2 22                Comedy,Romance tvSeries Friends         Friends         \n",
       "3 30                Comedy,Romance tvSeries Friends         Friends         \n",
       "4 22                Comedy,Romance tvSeries Friends         Friends         \n",
       "5 22                Comedy,Romance tvSeries Friends         Friends         \n",
       "6 22                Comedy,Romance tvSeries Friends         Friends         \n",
       "  is_adult.y premiered.y ended.y runtime_minutes.y genres.y       rating votes\n",
       "1 0          1994        2004    22                Comedy,Romance 8.2     3380\n",
       "2 0          1994        2004    22                Comedy,Romance 8.6     3489\n",
       "3 0          1994        2004    22                Comedy,Romance 9.7    13064\n",
       "4 0          1994        2004    22                Comedy,Romance 8.7     3679\n",
       "5 0          1994        2004    22                Comedy,Romance 8.5     3784\n",
       "6 0          1994        2004    22                Comedy,Romance 8.9     4354"
      ]
     },
     "metadata": {},
     "output_type": "display_data"
    }
   ],
   "source": [
    "head(friendsDFrating)"
   ]
  },
  {
   "cell_type": "code",
   "execution_count": 20,
   "id": "58afe7c8-fa1d-4055-aa40-ba7a69eb9cc8",
   "metadata": {},
   "outputs": [],
   "source": [
    "friendsDF <- merge(friendsDFrating, ratings, by.x = \"show_title_id\", by.y = \"title_id\")[ , c(\"primary_title.x\", \"primary_title.y\", \"rating.x\", \"rating.y\")]"
   ]
  },
  {
   "cell_type": "code",
   "execution_count": 21,
   "id": "1e31bdf8-b270-456e-8f0d-50a4609b54ec",
   "metadata": {},
   "outputs": [
    {
     "data": {
      "text/plain": [
       "  primary_title.x                          primary_title.y rating.x rating.y\n",
       "1 The One Where Chandler Doesn't Like Dogs Friends         8.2      8.9     \n",
       "2 The One with the Birth Mother            Friends         8.6      8.9     \n",
       "3 The Last One                             Friends         9.7      8.9     \n",
       "4 The One After I Do                       Friends         8.7      8.9     \n",
       "5 The One After Joey and Rachel Kiss       Friends         8.5      8.9     \n",
       "6 The One After Ross Says Rachel           Friends         8.9      8.9     "
      ]
     },
     "metadata": {},
     "output_type": "display_data"
    }
   ],
   "source": [
    "head(friendsDF)"
   ]
  },
  {
   "cell_type": "code",
   "execution_count": 22,
   "id": "9de0f048-9b44-4c7e-90ed-de2a37bbb96c",
   "metadata": {},
   "outputs": [],
   "source": [
    "names(friendsDF) <- c(\"episode_title\", \"show_title\", \"episode_rating\", \"show_rating\")"
   ]
  },
  {
   "cell_type": "code",
   "execution_count": 23,
   "id": "ef6bf84b-0810-4c35-aade-0cddc02ff307",
   "metadata": {},
   "outputs": [
    {
     "data": {
      "text/plain": [
       "  episode_title                            show_title episode_rating\n",
       "1 The One Where Chandler Doesn't Like Dogs Friends    8.2           \n",
       "2 The One with the Birth Mother            Friends    8.6           \n",
       "3 The Last One                             Friends    9.7           \n",
       "4 The One After I Do                       Friends    8.7           \n",
       "5 The One After Joey and Rachel Kiss       Friends    8.5           \n",
       "6 The One After Ross Says Rachel           Friends    8.9           \n",
       "  show_rating\n",
       "1 8.9        \n",
       "2 8.9        \n",
       "3 8.9        \n",
       "4 8.9        \n",
       "5 8.9        \n",
       "6 8.9        "
      ]
     },
     "metadata": {},
     "output_type": "display_data"
    }
   ],
   "source": [
    "head(friendsDF)"
   ]
  },
  {
   "cell_type": "code",
   "execution_count": 32,
   "id": "65cb4aea-48ae-4b80-9f28-d89356b7b521",
   "metadata": {},
   "outputs": [
    {
     "data": {
      "text/plain": [
       "    episode_title                     show_title episode_rating show_rating\n",
       "225 The One with the Videotape        Friends    9.3            8.9        \n",
       "235 The One with the Proposal         Friends    9.3            8.9        \n",
       "202 The One with the Prom Video       Friends    9.4            8.9        \n",
       "167 The One with the Embryos          Friends    9.5            8.9        \n",
       "3   The Last One                      Friends    9.7            8.9        \n",
       "21  The One Where Everybody Finds Out Friends    9.7            8.9        "
      ]
     },
     "metadata": {},
     "output_type": "display_data"
    }
   ],
   "source": [
    "tail(friendsDF[order(friendsDF$episode_rating), ])"
   ]
  },
  {
   "cell_type": "markdown",
   "id": "47c6229f-35f7-400c-8366-c442baa5cf47",
   "metadata": {},
   "source": [
    "a) shown above"
   ]
  },
  {
   "cell_type": "markdown",
   "id": "da22f29c-d245-4d2b-9fc1-ca14cb6087d9",
   "metadata": {},
   "source": [
    "## Question 4"
   ]
  },
  {
   "cell_type": "code",
   "execution_count": 34,
   "id": "e6916ec0-eac0-4da2-9ce4-f1221d94f0d6",
   "metadata": {},
   "outputs": [],
   "source": [
    "friendsDF <- merge(friendsDFrating, ratings, by.x = \"show_title_id\", by.y = \"title_id\")[ , c(\"primary_title.x\", \"primary_title.y\", \"rating.x\", \"rating.y\", \"season_number\")]"
   ]
  },
  {
   "cell_type": "code",
   "execution_count": 41,
   "id": "bc079b8c-8633-4567-a43a-9a9319e35b40",
   "metadata": {},
   "outputs": [],
   "source": [
    "names(friendsDF) <- c(\"episode_title\", \"show_title\", \"episode_rating\", \"show_rating\", \"season_number\")"
   ]
  },
  {
   "cell_type": "code",
   "execution_count": 42,
   "id": "d469bc6f-23a2-4043-86e5-827f03392ddb",
   "metadata": {},
   "outputs": [
    {
     "data": {
      "text/plain": [
       "  episode_title                            show_title episode_rating\n",
       "1 The One Where Chandler Doesn't Like Dogs Friends    8.2           \n",
       "2 The One with the Birth Mother            Friends    8.6           \n",
       "3 The Last One                             Friends    9.7           \n",
       "4 The One After I Do                       Friends    8.7           \n",
       "5 The One After Joey and Rachel Kiss       Friends    8.5           \n",
       "6 The One After Ross Says Rachel           Friends    8.9           \n",
       "  show_rating season_number\n",
       "1 8.9          7           \n",
       "2 8.9         10           \n",
       "3 8.9         10           \n",
       "4 8.9          8           \n",
       "5 8.9         10           \n",
       "6 8.9          5           "
      ]
     },
     "metadata": {},
     "output_type": "display_data"
    }
   ],
   "source": [
    "head(friendsDF)"
   ]
  },
  {
   "cell_type": "code",
   "execution_count": 47,
   "id": "ad79f48c-53d4-4b72-aec9-1753b554c3e3",
   "metadata": {},
   "outputs": [],
   "source": [
    "sznFiveGood <- friendsDF[(friendsDF$episode_rating > 9) & (friendsDF$season_number == 5), ]"
   ]
  },
  {
   "cell_type": "code",
   "execution_count": 50,
   "id": "b81fbb45-633a-44a7-b3c5-d117857b068d",
   "metadata": {},
   "outputs": [
    {
     "name": "stdout",
     "output_type": "stream",
     "text": [
      "                         episode_title show_title episode_rating show_rating\n",
      "21   The One Where Everybody Finds Out    Friends            9.7         8.9\n",
      "78    The One with All the Resolutions    Friends            9.1         8.9\n",
      "130       The One with Ross's Sandwich    Friends            9.1         8.9\n",
      "219 The One with All the Thanksgivings    Friends            9.2         8.9\n",
      "233           The One in Vegas: Part 2    Friends            9.1         8.9\n",
      "    season_number\n",
      "21              5\n",
      "78              5\n",
      "130             5\n",
      "219             5\n",
      "233             5\n"
     ]
    }
   ],
   "source": [
    "print(sznFiveGood)"
   ]
  },
  {
   "cell_type": "markdown",
   "id": "0d552245-b4d6-474a-9cc9-fa7b8e674d55",
   "metadata": {},
   "source": [
    "a) shown above"
   ]
  },
  {
   "cell_type": "markdown",
   "id": "88c9cdac-3e92-498f-83fa-e089bfc44ac8",
   "metadata": {},
   "source": [
    "## Question 5"
   ]
  },
  {
   "cell_type": "code",
   "execution_count": 53,
   "id": "d370d7c9-06db-42b9-b75f-240481a5c491",
   "metadata": {},
   "outputs": [],
   "source": [
    "results <- friendsDF"
   ]
  },
  {
   "cell_type": "code",
   "execution_count": 56,
   "id": "0b82506a-3890-4080-8371-fefc324b863c",
   "metadata": {},
   "outputs": [],
   "source": [
    "season_number = 6"
   ]
  },
  {
   "cell_type": "code",
   "execution_count": 58,
   "id": "a5e39a80-8e01-401f-b78f-10d19b007708",
   "metadata": {},
   "outputs": [
    {
     "data": {
      "text/plain": [
       "    episode_title               show_title episode_rating show_rating\n",
       "51  The One Where Ross Got High Friends    9.2            8.9        \n",
       "137 The One with Unagi          Friends    9.1            8.9        \n",
       "235 The One with the Proposal   Friends    9.3            8.9        \n",
       "    season_number\n",
       "51  6            \n",
       "137 6            \n",
       "235 6            "
      ]
     },
     "metadata": {},
     "output_type": "display_data"
    }
   ],
   "source": [
    "results[results$episode_rating > 9 & results$season_number == season_number,]"
   ]
  },
  {
   "cell_type": "code",
   "execution_count": 61,
   "id": "53f38004-f38b-4f15-8ddc-34c1f0db85eb",
   "metadata": {},
   "outputs": [
    {
     "data": {
      "text/plain": [
       "    episode_title                                      show_title\n",
       "3   The Last One                                       Friends   \n",
       "21  The One Where Everybody Finds Out                  Friends   \n",
       "51  The One Where Ross Got High                        Friends   \n",
       "70  The One with the Morning After                     Friends   \n",
       "78  The One with All the Resolutions                   Friends   \n",
       "82  The One with Chandler in a Box                     Friends   \n",
       "99  The One with Monica and Chandler's Wedding: Part 2 Friends   \n",
       "130 The One with Ross's Sandwich                       Friends   \n",
       "137 The One with Unagi                                 Friends   \n",
       "167 The One with the Embryos                           Friends   \n",
       "173 The One with the Flashback                         Friends   \n",
       "187 The One with the Jellyfish                         Friends   \n",
       "202 The One with the Prom Video                        Friends   \n",
       "205 The One with the Red Sweater                       Friends   \n",
       "209 The One with the Rumor                             Friends   \n",
       "219 The One with All the Thanksgivings                 Friends   \n",
       "225 The One with the Videotape                         Friends   \n",
       "233 The One in Vegas: Part 2                           Friends   \n",
       "234 The One with Ross's Wedding: Part 2                Friends   \n",
       "235 The One with the Proposal                          Friends   \n",
       "    episode_rating show_rating season_number\n",
       "3   9.7            8.9         10           \n",
       "21  9.7            8.9          5           \n",
       "51  9.2            8.9          6           \n",
       "70  9.1            8.9          3           \n",
       "78  9.1            8.9          5           \n",
       "82  9.1            8.9          4           \n",
       "99  9.2            8.9          7           \n",
       "130 9.1            8.9          5           \n",
       "137 9.1            8.9          6           \n",
       "167 9.5            8.9          4           \n",
       "173 9.1            8.9          3           \n",
       "187 9.1            8.9          4           \n",
       "202 9.4            8.9          2           \n",
       "205 9.1            8.9          8           \n",
       "209 9.3            8.9          8           \n",
       "219 9.2            8.9          5           \n",
       "225 9.3            8.9          8           \n",
       "233 9.1            8.9          5           \n",
       "234 9.2            8.9          4           \n",
       "235 9.3            8.9          6           "
      ]
     },
     "metadata": {},
     "output_type": "display_data"
    }
   ],
   "source": [
    "subset(results, episode_rating > 9 & season_number == season_number)"
   ]
  },
  {
   "cell_type": "code",
   "execution_count": 62,
   "id": "abeb492e-f310-4220-94e6-4113dc13bf5f",
   "metadata": {},
   "outputs": [
    {
     "data": {
      "text/plain": [
       "    episode_title               show_title episode_rating show_rating\n",
       "51  The One Where Ross Got High Friends    9.2            8.9        \n",
       "137 The One with Unagi          Friends    9.1            8.9        \n",
       "235 The One with the Proposal   Friends    9.3            8.9        \n",
       "    season_number\n",
       "51  6            \n",
       "137 6            \n",
       "235 6            "
      ]
     },
     "metadata": {},
     "output_type": "display_data"
    }
   ],
   "source": [
    "subset(results, episode_rating > 9 & season_number == 6)"
   ]
  },
  {
   "cell_type": "markdown",
   "id": "9fbf00fb-2418-460f-ae94-2a32b0c28952",
   "metadata": {},
   "source": [
    "Subset gets a different value than regular indexing because it uses non standard evaluation. Rather than evalutating, subset creates a temporary dataframe in which it will substitute some of the variables with different values. If you look at the function above, if you use 6 rather than season_number = 6, it displays the correct episodes. "
   ]
  },
  {
   "cell_type": "markdown",
   "id": "f76442d6-d02e-4f26-b9d6-c3183e1d6929",
   "metadata": {},
   "source": [
    "## Pledge\n",
    "\n",
    "By submitting this work I hereby pledge that this is my own, personal work. I've acknowledged in the designated place at the top of this file all sources that I used to complete said work, including but not limited to: online resources, books, and electronic communications. I've noted all collaboration with fellow students and/or TA's. I did not copy or plagiarize another's work.\n",
    "\n",
    "> As a Boilermaker pursuing academic excellence, I pledge to be honest and true in all that I do. Accountable together – We are Purdue."
   ]
  }
 ],
 "metadata": {
  "kernelspec": {
   "display_name": "f2022-s2023-r",
   "language": "R",
   "name": "f2022-s2023-r"
  },
  "language_info": {
   "codemirror_mode": "r",
   "file_extension": ".r",
   "mimetype": "text/x-r-source",
   "name": "R",
   "pygments_lexer": "r",
   "version": "4.2.1"
  }
 },
 "nbformat": 4,
 "nbformat_minor": 5
}
