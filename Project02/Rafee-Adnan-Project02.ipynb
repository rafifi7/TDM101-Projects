{
 "cells": [
  {
   "cell_type": "markdown",
   "id": "be02a957-7133-4d02-818e-fedeb3cecb05",
   "metadata": {},
   "source": [
    "# Project 2 -- Rafee Adnan"
   ]
  },
  {
   "cell_type": "markdown",
   "id": "a1228853-dd19-4ab2-89e0-0394d7d72de3",
   "metadata": {},
   "source": [
    "**TA Help:** \n",
    "\n",
    "**Collaboration:**\n",
    "    \n",
    "  "
   ]
  },
  {
   "cell_type": "markdown",
   "id": "6180e742-8e39-4698-98ff-5b00c8cf8ea0",
   "metadata": {},
   "source": [
    "## Question 1"
   ]
  },
  {
   "cell_type": "code",
   "execution_count": 2,
   "id": "49445606-d363-41b4-b479-e319a9a84c01",
   "metadata": {},
   "outputs": [
    {
     "name": "stdout",
     "output_type": "stream",
     "text": [
      "  Year Month DayofMonth DayOfWeek DepTime CRSDepTime ArrTime CRSArrTime\n",
      "1 1995     1          6         5     657        645     952        937\n",
      "2 1995     1          7         6     648        645     938        937\n",
      "3 1995     1          8         7     649        645     932        937\n",
      "4 1995     1          9         1     645        645     928        937\n",
      "5 1995     1         10         2     645        645     931        937\n",
      "6 1995     1         11         3     646        645     929        937\n",
      "  UniqueCarrier FlightNum TailNum ActualElapsedTime CRSElapsedTime AirTime\n",
      "1            UA       482  N7298U               115            112      83\n",
      "2            UA       482  N7449U               110            112      88\n",
      "3            UA       482  N7453U               103            112      83\n",
      "4            UA       482  N7288U               103            112      84\n",
      "5            UA       482  N7275U               106            112      82\n",
      "6            UA       482  N7281U               103            112      85\n",
      "  ArrDelay DepDelay Origin Dest Distance TaxiIn TaxiOut Cancelled\n",
      "1       15       12    ORD  PHL      678      7      25         0\n",
      "2        1        3    ORD  PHL      678      5      17         0\n",
      "3       -5        4    ORD  PHL      678      3      17         0\n",
      "4       -9        0    ORD  PHL      678      3      16         0\n",
      "5       -6        0    ORD  PHL      678      6      18         0\n",
      "6       -8        1    ORD  PHL      678      5      13         0\n",
      "  CancellationCode Diverted CarrierDelay WeatherDelay NASDelay SecurityDelay\n",
      "1               NA        0           NA           NA       NA            NA\n",
      "2               NA        0           NA           NA       NA            NA\n",
      "3               NA        0           NA           NA       NA            NA\n",
      "4               NA        0           NA           NA       NA            NA\n",
      "5               NA        0           NA           NA       NA            NA\n",
      "6               NA        0           NA           NA       NA            NA\n",
      "  LateAircraftDelay\n",
      "1                NA\n",
      "2                NA\n",
      "3                NA\n",
      "4                NA\n",
      "5                NA\n",
      "6                NA\n"
     ]
    }
   ],
   "source": [
    "%%R\n",
    "myDF <- read.csv(\"/anvil/projects/tdm/data/flights/subset/1995.csv\", stringsAsFactors = TRUE)\n",
    "head(myDF)"
   ]
  },
  {
   "cell_type": "code",
   "execution_count": 10,
   "id": "92da39ee-5f04-461e-abe3-7d8b77c7ccb8",
   "metadata": {},
   "outputs": [
    {
     "name": "stdout",
     "output_type": "stream",
     "text": [
      "[1] 5327435      29\n"
     ]
    }
   ],
   "source": [
    "%%R\n",
    "dim(myDF)"
   ]
  },
  {
   "cell_type": "code",
   "execution_count": 11,
   "id": "c55a4c23-23da-4878-a5c3-b55d0bd860fa",
   "metadata": {},
   "outputs": [
    {
     "name": "stdout",
     "output_type": "stream",
     "text": [
      "'data.frame':\t5327435 obs. of  29 variables:\n",
      " $ Year             : int  1995 1995 1995 1995 1995 1995 1995 1995 1995 1995 ...\n",
      " $ Month            : int  1 1 1 1 1 1 1 1 1 1 ...\n",
      " $ DayofMonth       : int  6 7 8 9 10 11 12 13 14 15 ...\n",
      " $ DayOfWeek        : int  5 6 7 1 2 3 4 5 6 7 ...\n",
      " $ DepTime          : int  657 648 649 645 645 646 NA 644 644 643 ...\n",
      " $ CRSDepTime       : int  645 645 645 645 645 645 645 645 645 645 ...\n",
      " $ ArrTime          : int  952 938 932 928 931 929 NA 953 938 940 ...\n",
      " $ CRSArrTime       : int  937 937 937 937 937 937 937 937 937 937 ...\n",
      " $ UniqueCarrier    : Factor w/ 10 levels \"AA\",\"AS\",\"CO\",..: 8 8 8 8 8 8 8 8 8 8 ...\n",
      " $ FlightNum        : int  482 482 482 482 482 482 482 482 482 482 ...\n",
      " $ TailNum          : Factor w/ 3508 levels \"112\",\"EI-BOM\",..: 2526 2561 2566 2511 2489 2498 3508 2467 2504 2484 ...\n",
      " $ ActualElapsedTime: int  115 110 103 103 106 103 NA 129 114 117 ...\n",
      " $ CRSElapsedTime   : int  112 112 112 112 112 112 112 112 112 112 ...\n",
      " $ AirTime          : int  83 88 83 84 82 85 45 110 94 99 ...\n",
      " $ ArrDelay         : int  15 1 -5 -9 -6 -8 NA 16 1 3 ...\n",
      " $ DepDelay         : int  12 3 4 0 0 1 NA -1 -1 -2 ...\n",
      " $ Origin           : Factor w/ 218 levels \"ABE\",\"ABQ\",\"ACK\",..: 157 157 157 157 157 157 157 157 157 157 ...\n",
      " $ Dest             : Factor w/ 218 levels \"ABE\",\"ABQ\",\"ACK\",..: 165 165 165 165 165 165 165 165 165 165 ...\n",
      " $ Distance         : int  678 678 678 678 678 678 678 678 678 678 ...\n",
      " $ TaxiIn           : int  7 5 3 3 6 5 6 5 5 3 ...\n",
      " $ TaxiOut          : int  25 17 17 16 18 13 10 14 15 15 ...\n",
      " $ Cancelled        : int  0 0 0 0 0 0 1 0 0 0 ...\n",
      " $ CancellationCode : logi  NA NA NA NA NA NA ...\n",
      " $ Diverted         : int  0 0 0 0 0 0 0 0 0 0 ...\n",
      " $ CarrierDelay     : logi  NA NA NA NA NA NA ...\n",
      " $ WeatherDelay     : logi  NA NA NA NA NA NA ...\n",
      " $ NASDelay         : logi  NA NA NA NA NA NA ...\n",
      " $ SecurityDelay    : logi  NA NA NA NA NA NA ...\n",
      " $ LateAircraftDelay: logi  NA NA NA NA NA NA ...\n"
     ]
    }
   ],
   "source": [
    "%%R\n",
    "str(myDF)"
   ]
  },
  {
   "cell_type": "markdown",
   "id": "e41893b7-d5c5-4e48-a828-20180fd71b4b",
   "metadata": {},
   "source": [
    "Answers:\n",
    "\n",
    "a) 29 \n",
    "\n",
    "b) 5,327,435\n",
    "\n",
    "c) integer, factor, logical"
   ]
  },
  {
   "cell_type": "markdown",
   "id": "b456e57c-4a12-464b-999a-ef2df5af80c1",
   "metadata": {},
   "source": [
    "The answer to part a was found through the dim() function that returns the number of rows and the number of columns.\n",
    "\n",
    "The answer to part b was found through the dim() function that returns the number of rows and the number of columns.\n",
    "\n",
    "The answer to part c was found through the str() function which returns all of the rows and their corresponding type of variables."
   ]
  },
  {
   "cell_type": "markdown",
   "id": "fc601975-35ed-4680-a4e1-0273ee3cc047",
   "metadata": {},
   "source": [
    "## Question 2"
   ]
  },
  {
   "cell_type": "code",
   "execution_count": 18,
   "id": "a16336a1-1ef0-41e8-bc7c-49387db27497",
   "metadata": {},
   "outputs": [
    {
     "name": "stdout",
     "output_type": "stream",
     "text": [
      " Factor w/ 218 levels \"ABE\",\"ABQ\",\"ACK\",..: 157 157 157 157 157 157 157 157 157 157 ...\n"
     ]
    }
   ],
   "source": [
    "%%R\n",
    "myairports <- myDF$Origin\n",
    "str(myairports)"
   ]
  },
  {
   "cell_type": "code",
   "execution_count": 14,
   "id": "38f1fa32-e4a9-4e2f-a905-ca0bcaea386c",
   "metadata": {},
   "outputs": [
    {
     "name": "stdout",
     "output_type": "stream",
     "text": [
      "ORD \n",
      "237 \n"
     ]
    }
   ],
   "source": [
    "%%R\n",
    "table(head(myairports, 250))[\"ORD\"]"
   ]
  },
  {
   "cell_type": "code",
   "execution_count": 15,
   "id": "11a3d6f5-5f02-428a-81c1-2cc305a34351",
   "metadata": {},
   "outputs": [
    {
     "name": "stdout",
     "output_type": "stream",
     "text": [
      "   ORD \n",
      "293422 \n"
     ]
    }
   ],
   "source": [
    "%%R\n",
    "table(myairports)[\"ORD\"]"
   ]
  },
  {
   "cell_type": "markdown",
   "id": "c6531864-4310-4361-8752-026a34769831",
   "metadata": {},
   "source": [
    "Answers:\n",
    "\n",
    "a) Factor\n",
    "\n",
    "b) 237\n",
    "\n",
    "c) 293422"
   ]
  },
  {
   "cell_type": "markdown",
   "id": "14dc22d4-ddc3-41cc-a91a-cb0025bc0c80",
   "metadata": {},
   "source": [
    "The answer to part a was found by using the str function which returns the type of variable and the number of possible values it can have.\n",
    "\n",
    "The answer to part b was found by using the head function to get the first 250 airports and the table function to get a count of how many of the 250 were at O'hare.\n",
    "\n",
    "The answer to part c was found by using the table function on the entire myairports vector to get a count of how many of the total amount of flights were at O'hare. "
   ]
  },
  {
   "cell_type": "markdown",
   "id": "8e586edd-ff26-4ce2-8f6b-2424b26f2929",
   "metadata": {},
   "source": [
    "## Question 3"
   ]
  },
  {
   "cell_type": "code",
   "execution_count": 19,
   "id": "bbe0f40d-9655-4653-9ca8-886bdb61cb91",
   "metadata": {
    "tags": []
   },
   "outputs": [
    {
     "name": "stdout",
     "output_type": "stream",
     "text": [
      "  IND \n",
      "37092 \n"
     ]
    }
   ],
   "source": [
    "%%R\n",
    "table(myairports)[\"IND\"]"
   ]
  },
  {
   "cell_type": "code",
   "execution_count": 20,
   "id": "a93e7547-8945-4c5c-83e0-1c09d5382888",
   "metadata": {},
   "outputs": [
    {
     "name": "stdout",
     "output_type": "stream",
     "text": [
      "  IND \n",
      "37103 \n"
     ]
    }
   ],
   "source": [
    "%%R\n",
    "table(myDF$Dest)[\"IND\"]"
   ]
  },
  {
   "cell_type": "code",
   "execution_count": 15,
   "id": "0b63770a-94e0-4ddd-b0f7-0433141b1b14",
   "metadata": {},
   "outputs": [
    {
     "name": "stdout",
     "output_type": "stream",
     "text": [
      "    Year Month DayofMonth DayOfWeek DepTime CRSDepTime ArrTime CRSArrTime\n",
      "894 1995     1          8         7    1838       1840    1944       1949\n",
      "    UniqueCarrier FlightNum TailNum ActualElapsedTime CRSElapsedTime AirTime\n",
      "894            US       931  N442US                66             69      54\n",
      "    ArrDelay DepDelay Origin Dest Distance TaxiIn TaxiOut Cancelled\n",
      "894       -5       -2    PVD  PHL      238      4       8         0\n",
      "    CancellationCode Diverted CarrierDelay WeatherDelay NASDelay SecurityDelay\n",
      "894               NA        0           NA           NA       NA            NA\n",
      "    LateAircraftDelay\n",
      "894                NA\n"
     ]
    }
   ],
   "source": [
    "%%R\n",
    "myDF[894,]\n"
   ]
  },
  {
   "cell_type": "code",
   "execution_count": 19,
   "id": "7e96190b-576b-4c9e-94f6-bd8002e1627e",
   "metadata": {},
   "outputs": [
    {
     "name": "stdout",
     "output_type": "stream",
     "text": [
      "[1] 475141\n"
     ]
    }
   ],
   "source": [
    "%%R\n",
    "length(myDF$Distance[myDF$Distance < 200])\n",
    "#This method includes the NA values"
   ]
  },
  {
   "cell_type": "markdown",
   "id": "85aea146-febc-4c87-814e-8d4bf12135b8",
   "metadata": {},
   "source": [
    "Answers:\n",
    "\n",
    "a) Departs from IND: 37092 Arrivals to IND: 37103\n",
    "\n",
    "b) Origin: PVD Dest: PHL\n",
    "\n",
    "c) 475,141"
   ]
  },
  {
   "cell_type": "markdown",
   "id": "97ef7671-1a22-4c9d-9495-f44abc5cc0df",
   "metadata": {},
   "source": [
    "The answer to part a was found by using the table function on the entire myairports vector to get a count of how many of the total amount of flights originated in \"IND\" and using the table function on the (myDF$Dest) to get a count of how many of the total amount of flights arrived in \"IND\".\n",
    "\n",
    "The answer to part b was found by looking at the data for row 894 of the myDF dataframe. I searched for the columns titled \"Origin\" and \"Dest\" and their corresponding locations.\n",
    "\n",
    "The answer to part c was found by using the length function which shows the number of items in a vector after only including the distances that are less than 200. "
   ]
  },
  {
   "cell_type": "markdown",
   "id": "da22f29c-d245-4d2b-9fc1-ca14cb6087d9",
   "metadata": {},
   "source": [
    "## Question 4"
   ]
  },
  {
   "cell_type": "code",
   "execution_count": 36,
   "id": "8cffc767-d1c8-4d64-b7dc-f0d2ee8a80d1",
   "metadata": {},
   "outputs": [
    {
     "name": "stdout",
     "output_type": "stream",
     "text": [
      "\n",
      "    AS     HP     TW     CO     NW     AA     WN     UA     US     DL \n",
      "135124 194508 272452 434425 521693 688471 693101 724807 778835 884019 \n"
     ]
    }
   ],
   "source": [
    "%%R\n",
    "airlines <- table(myDF$UniqueCarrier)\n",
    "tail(sort(airlines), n = 10)"
   ]
  },
  {
   "cell_type": "code",
   "execution_count": 33,
   "id": "470b9171-1ab1-49fd-9747-189405f5ab59",
   "metadata": {},
   "outputs": [
    {
     "name": "stdout",
     "output_type": "stream",
     "text": [
      "\n",
      "    UA     US     DL \n",
      "724807 778835 884019 \n"
     ]
    }
   ],
   "source": [
    "%%R\n",
    "tail(sort(airlines), n = 3)"
   ]
  },
  {
   "cell_type": "code",
   "execution_count": 29,
   "id": "3efc091f-d633-47ba-8d6c-fff9038f17e1",
   "metadata": {},
   "outputs": [
    {
     "name": "stdout",
     "output_type": "stream",
     "text": [
      "\n",
      "    DL     US     UA     WN     AA     NW     CO     TW     HP     AS \n",
      "884019 778835 724807 693101 688471 521693 434425 272452 194508 135124 \n"
     ]
    }
   ],
   "source": [
    "%%R\n",
    "head(sort(table(myDF$UniqueCarrier), decreasing = TRUE), n=10)"
   ]
  },
  {
   "cell_type": "markdown",
   "id": "0d552245-b4d6-474a-9cc9-fa7b8e674d55",
   "metadata": {},
   "source": [
    "Answers:\n",
    "\n",
    "a) 1. DL 2. US 3. UA 4. WN 5. AA 6. NW 7. CO 8. TW 9. HP 10. AS\n",
    "\n",
    "b)The three most popular airlines are UA, US, and DL in increasing order. \n",
    "\n",
    "c)Shown in third output of Question 4.\n"
   ]
  },
  {
   "cell_type": "markdown",
   "id": "53bed616-4013-4270-b067-67bcafec7523",
   "metadata": {},
   "source": [
    "In part a, all 10 of the airlines are printed according to their number of flights and in increasing order. \n",
    "\n",
    "In part b, the sort function sorts the number of flights in increasing order and the tail function returns the last 3 of the airlines.  \n",
    "\n",
    "In part c, the third code output of this question shows the number of flights and their airlines in decreasing order."
   ]
  },
  {
   "cell_type": "markdown",
   "id": "88c9cdac-3e92-498f-83fa-e089bfc44ac8",
   "metadata": {},
   "source": [
    "## Question 5"
   ]
  },
  {
   "cell_type": "markdown",
   "id": "6acaf487-54c9-4f62-935f-31d5ba80bad4",
   "metadata": {},
   "source": [
    "Question I want answered: Which month(s) had the largest number of flights in 1995?"
   ]
  },
  {
   "cell_type": "code",
   "execution_count": 41,
   "id": "d370d7c9-06db-42b9-b75f-240481a5c491",
   "metadata": {},
   "outputs": [
    {
     "data": {
      "image/png": "[encoded data removed]"
     },
     "metadata": {},
     "output_type": "display_data"
    }
   ],
   "source": [
    "%%R\n",
    "myMonth<- head(sort(table(myDF$Month)),n = 12)\n",
    "dotchart(myMonth, pch = 21, bg = \"green\", pt.cex = 1.5)"
   ]
  },
  {
   "cell_type": "markdown",
   "id": "a9f2d6d2-edfb-4a68-8395-87673c51f3ca",
   "metadata": {},
   "source": [
    "According to the dot plot above, the three months containing the highest number of flights were 1, 3, and 8 in decreasing order which are January, March, and August respectively while the three months containing the lowest number of flights were 9, 11, and 2 in decreasing order which are February, November, and September respectively. The plot doesn't seem to reveal any patterns about a change in the amount of flights throughout the year."
   ]
  },
  {
   "cell_type": "markdown",
   "id": "f76442d6-d02e-4f26-b9d6-c3183e1d6929",
   "metadata": {},
   "source": [
    "## Pledge\n",
    "\n",
    "By submitting this work I hereby pledge that this is my own, personal work. I've acknowledged in the designated place at the top of this file all sources that I used to complete said work, including but not limited to: online resources, books, and electronic communications. I've noted all collaboration with fellow students and/or TA's. I did not copy or plagiarize another's work.\n",
    "\n",
    "> As a Boilermaker pursuing academic excellence, I pledge to be honest and true in all that I do. Accountable together – We are Purdue."
   ]
  },
  {
   "cell_type": "code",
   "execution_count": null,
   "id": "3c745c62-74af-4e1d-88cf-9abb70deb025",
   "metadata": {},
   "outputs": [],
   "source": []
  }
 ],
 "metadata": {
  "kernelspec": {
   "display_name": "f2022-s2023",
   "language": "python",
   "name": "f2022-s2023"
  },
  "language_info": {
   "codemirror_mode": {
    "name": "ipython",
    "version": 3
   },
   "file_extension": ".py",
   "mimetype": "text/x-python",
   "name": "python",
   "nbconvert_exporter": "python",
   "pygments_lexer": "ipython3",
   "version": "3.10.5"
  }
 },
 "nbformat": 4,
 "nbformat_minor": 5
}
