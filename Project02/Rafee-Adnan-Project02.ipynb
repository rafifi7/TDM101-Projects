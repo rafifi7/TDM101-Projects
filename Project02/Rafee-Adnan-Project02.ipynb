{
 "cells": [
  {
   "cell_type": "markdown",
   "id": "be02a957-7133-4d02-818e-fedeb3cecb05",
   "metadata": {},
   "source": [
    "# Project 2 -- Rafee Adnan"
   ]
  },
  {
   "cell_type": "markdown",
   "id": "a1228853-dd19-4ab2-89e0-0394d7d72de3",
   "metadata": {},
   "source": [
    "**TA Help:** \n",
    "\n",
    "**Collaboration:**\n",
    "    \n",
    "  "
   ]
  },
  {
   "cell_type": "markdown",
   "id": "6180e742-8e39-4698-98ff-5b00c8cf8ea0",
   "metadata": {},
   "source": [
    "## Question 1"
   ]
  },
  {
   "cell_type": "code",
   "execution_count": 14,
   "id": "49445606-d363-41b4-b479-e319a9a84c01",
   "metadata": {},
   "outputs": [
    {
     "name": "stdout",
     "output_type": "stream",
     "text": [
      "  YEAR QUARTER MONTH DAY_OF_MONTH DAY_OF_WEEK    FL_DATE OP_UNIQUE_CARRIER\n",
      "1 1987       4    10           30           5 1987-10-30                PS\n",
      "2 1987       4    10           31           6 1987-10-31                PS\n",
      "3 1987       4    10            1           4 1987-10-01                PS\n",
      "4 1987       4    10            2           5 1987-10-02                PS\n",
      "5 1987       4    10            3           6 1987-10-03                PS\n",
      "6 1987       4    10            5           1 1987-10-05                PS\n",
      "  OP_CARRIER_AIRLINE_ID OP_CARRIER TAIL_NUM OP_CARRIER_FL_NUM ORIGIN_AIRPORT_ID\n",
      "1                 19391         PS       NA              1442             13796\n",
      "2                 19391         PS       NA              1442             13796\n",
      "3                 19391         PS       NA              1443             10800\n",
      "4                 19391         PS       NA              1443             10800\n",
      "5                 19391         PS       NA              1443             10800\n",
      "6                 19391         PS       NA              1443             10800\n",
      "  ORIGIN_AIRPORT_SEQ_ID ORIGIN_CITY_MARKET_ID ORIGIN ORIGIN_CITY_NAME\n",
      "1               1379601                 32457    OAK      Oakland, CA\n",
      "2               1379601                 32457    OAK      Oakland, CA\n",
      "3               1080001                 32575    BUR      Burbank, CA\n",
      "4               1080001                 32575    BUR      Burbank, CA\n",
      "5               1080001                 32575    BUR      Burbank, CA\n",
      "6               1080001                 32575    BUR      Burbank, CA\n",
      "  ORIGIN_STATE_ABR ORIGIN_STATE_FIPS ORIGIN_STATE_NM ORIGIN_WAC DEST_AIRPORT_ID\n",
      "1               CA                 6      California         91           10800\n",
      "2               CA                 6      California         91           10800\n",
      "3               CA                 6      California         91           14831\n",
      "4               CA                 6      California         91           14831\n",
      "5               CA                 6      California         91           14831\n",
      "6               CA                 6      California         91           14831\n",
      "  DEST_AIRPORT_SEQ_ID DEST_CITY_MARKET_ID DEST DEST_CITY_NAME DEST_STATE_ABR\n",
      "1             1080001               32575  BUR    Burbank, CA             CA\n",
      "2             1080001               32575  BUR    Burbank, CA             CA\n",
      "3             1483101               32457  SJC   San Jose, CA             CA\n",
      "4             1483101               32457  SJC   San Jose, CA             CA\n",
      "5             1483101               32457  SJC   San Jose, CA             CA\n",
      "6             1483101               32457  SJC   San Jose, CA             CA\n",
      "  DEST_STATE_FIPS DEST_STATE_NM DEST_WAC CRS_DEP_TIME DEP_TIME DEP_DELAY\n",
      "1               6    California       91          937      936        -1\n",
      "2               6    California       91          937      936        -1\n",
      "3               6    California       91          855       NA        NA\n",
      "4               6    California       91          855      858         3\n",
      "5               6    California       91          855      859         4\n",
      "6               6    California       91          855      854        -1\n",
      "  DEP_DELAY_NEW DEP_DEL15 DEP_DELAY_GROUP DEP_TIME_BLK TAXI_OUT WHEELS_OFF\n",
      "1             0         0              -1    0900-0959       NA         NA\n",
      "2             0         0              -1    0900-0959       NA         NA\n",
      "3            NA        NA              NA    0800-0859       NA         NA\n",
      "4             3         0               0    0800-0859       NA         NA\n",
      "5             4         0               0    0800-0859       NA         NA\n",
      "6             0         0              -1    0800-0859       NA         NA\n",
      "  WHEELS_ON TAXI_IN CRS_ARR_TIME ARR_TIME ARR_DELAY ARR_DELAY_NEW ARR_DEL15\n",
      "1        NA      NA         1040     1046         6             6         0\n",
      "2        NA      NA         1040     1046         6             6         0\n",
      "3        NA      NA          958       NA        NA            NA        NA\n",
      "4        NA      NA          958      959         1             1         0\n",
      "5        NA      NA          958      959         1             1         0\n",
      "6        NA      NA          958      955        -3             0         0\n",
      "  ARR_DELAY_GROUP ARR_TIME_BLK CANCELLED CANCELLATION_CODE DIVERTED\n",
      "1               0    1000-1059         0                NA        0\n",
      "2               0    1000-1059         0                NA        0\n",
      "3              NA    0900-0959         1                NA        0\n",
      "4               0    0900-0959         0                NA        0\n",
      "5               0    0900-0959         0                NA        0\n",
      "6              -1    0900-0959         0                NA        0\n",
      "  CRS_ELAPSED_TIME ACTUAL_ELAPSED_TIME AIR_TIME FLIGHTS DISTANCE DISTANCE_GROUP\n",
      "1               63                  70       NA       1      325              2\n",
      "2               63                  70       NA       1      325              2\n",
      "3               63                  NA       NA       1      297              2\n",
      "4               63                  61       NA       1      297              2\n",
      "5               63                  60       NA       1      297              2\n",
      "6               63                  61       NA       1      297              2\n",
      "  CARRIER_DELAY WEATHER_DELAY NAS_DELAY SECURITY_DELAY LATE_AIRCRAFT_DELAY\n",
      "1            NA            NA        NA             NA                  NA\n",
      "2            NA            NA        NA             NA                  NA\n",
      "3            NA            NA        NA             NA                  NA\n",
      "4            NA            NA        NA             NA                  NA\n",
      "5            NA            NA        NA             NA                  NA\n",
      "6            NA            NA        NA             NA                  NA\n",
      "  FIRST_DEP_TIME TOTAL_ADD_GTIME LONGEST_ADD_GTIME DIV_AIRPORT_LANDINGS\n",
      "1             NA              NA                NA                   NA\n",
      "2             NA              NA                NA                   NA\n",
      "3             NA              NA                NA                   NA\n",
      "4             NA              NA                NA                   NA\n",
      "5             NA              NA                NA                   NA\n",
      "6             NA              NA                NA                   NA\n",
      "  DIV_REACHED_DEST DIV_ACTUAL_ELAPSED_TIME DIV_ARR_DELAY DIV_DISTANCE\n",
      "1               NA                      NA            NA           NA\n",
      "2               NA                      NA            NA           NA\n",
      "3               NA                      NA            NA           NA\n",
      "4               NA                      NA            NA           NA\n",
      "5               NA                      NA            NA           NA\n",
      "6               NA                      NA            NA           NA\n",
      "  DIV1_AIRPORT DIV1_AIRPORT_ID DIV1_AIRPORT_SEQ_ID DIV1_WHEELS_ON\n",
      "1           NA              NA                  NA             NA\n",
      "2           NA              NA                  NA             NA\n",
      "3           NA              NA                  NA             NA\n",
      "4           NA              NA                  NA             NA\n",
      "5           NA              NA                  NA             NA\n",
      "6           NA              NA                  NA             NA\n",
      "  DIV1_TOTAL_GTIME DIV1_LONGEST_GTIME DIV1_WHEELS_OFF DIV1_TAIL_NUM\n",
      "1               NA                 NA              NA            NA\n",
      "2               NA                 NA              NA            NA\n",
      "3               NA                 NA              NA            NA\n",
      "4               NA                 NA              NA            NA\n",
      "5               NA                 NA              NA            NA\n",
      "6               NA                 NA              NA            NA\n",
      "  DIV2_AIRPORT DIV2_AIRPORT_ID DIV2_AIRPORT_SEQ_ID DIV2_WHEELS_ON\n",
      "1           NA              NA                  NA             NA\n",
      "2           NA              NA                  NA             NA\n",
      "3           NA              NA                  NA             NA\n",
      "4           NA              NA                  NA             NA\n",
      "5           NA              NA                  NA             NA\n",
      "6           NA              NA                  NA             NA\n",
      "  DIV2_TOTAL_GTIME DIV2_LONGEST_GTIME DIV2_WHEELS_OFF DIV2_TAIL_NUM\n",
      "1               NA                 NA              NA            NA\n",
      "2               NA                 NA              NA            NA\n",
      "3               NA                 NA              NA            NA\n",
      "4               NA                 NA              NA            NA\n",
      "5               NA                 NA              NA            NA\n",
      "6               NA                 NA              NA            NA\n",
      "  DIV3_AIRPORT DIV3_AIRPORT_ID DIV3_AIRPORT_SEQ_ID DIV3_WHEELS_ON\n",
      "1           NA              NA                  NA             NA\n",
      "2           NA              NA                  NA             NA\n",
      "3           NA              NA                  NA             NA\n",
      "4           NA              NA                  NA             NA\n",
      "5           NA              NA                  NA             NA\n",
      "6           NA              NA                  NA             NA\n",
      "  DIV3_TOTAL_GTIME DIV3_LONGEST_GTIME DIV3_WHEELS_OFF DIV3_TAIL_NUM\n",
      "1               NA                 NA              NA            NA\n",
      "2               NA                 NA              NA            NA\n",
      "3               NA                 NA              NA            NA\n",
      "4               NA                 NA              NA            NA\n",
      "5               NA                 NA              NA            NA\n",
      "6               NA                 NA              NA            NA\n",
      "  DIV4_AIRPORT DIV4_AIRPORT_ID DIV4_AIRPORT_SEQ_ID DIV4_WHEELS_ON\n",
      "1           NA              NA                  NA             NA\n",
      "2           NA              NA                  NA             NA\n",
      "3           NA              NA                  NA             NA\n",
      "4           NA              NA                  NA             NA\n",
      "5           NA              NA                  NA             NA\n",
      "6           NA              NA                  NA             NA\n",
      "  DIV4_TOTAL_GTIME DIV4_LONGEST_GTIME DIV4_WHEELS_OFF DIV4_TAIL_NUM\n",
      "1               NA                 NA              NA            NA\n",
      "2               NA                 NA              NA            NA\n",
      "3               NA                 NA              NA            NA\n",
      "4               NA                 NA              NA            NA\n",
      "5               NA                 NA              NA            NA\n",
      "6               NA                 NA              NA            NA\n",
      "  DIV5_AIRPORT DIV5_AIRPORT_ID DIV5_AIRPORT_SEQ_ID DIV5_WHEELS_ON\n",
      "1           NA              NA                  NA             NA\n",
      "2           NA              NA                  NA             NA\n",
      "3           NA              NA                  NA             NA\n",
      "4           NA              NA                  NA             NA\n",
      "5           NA              NA                  NA             NA\n",
      "6           NA              NA                  NA             NA\n",
      "  DIV5_TOTAL_GTIME DIV5_LONGEST_GTIME DIV5_WHEELS_OFF DIV5_TAIL_NUM  X\n",
      "1               NA                 NA              NA            NA NA\n",
      "2               NA                 NA              NA            NA NA\n",
      "3               NA                 NA              NA            NA NA\n",
      "4               NA                 NA              NA            NA NA\n",
      "5               NA                 NA              NA            NA NA\n",
      "6               NA                 NA              NA            NA NA\n"
     ]
    }
   ],
   "source": [
    "%%R\n",
    "myDF <- read.csv(\"/anvil/projects/tdm/data/flights/1987.csv\", stringsAsFactors = TRUE)\n",
    "head(myDF)"
   ]
  },
  {
   "cell_type": "code",
   "execution_count": 2,
   "id": "92da39ee-5f04-461e-abe3-7d8b77c7ccb8",
   "metadata": {},
   "outputs": [
    {
     "name": "stdout",
     "output_type": "stream",
     "text": [
      "[1] 110\n"
     ]
    }
   ],
   "source": [
    "%%R\n",
    "ncol(myDF)"
   ]
  },
  {
   "cell_type": "code",
   "execution_count": 3,
   "id": "23679a2e-a180-43e5-a124-d6d2fad3f882",
   "metadata": {},
   "outputs": [
    {
     "name": "stdout",
     "output_type": "stream",
     "text": [
      "        YEAR QUARTER MONTH DAY_OF_MONTH DAY_OF_WEEK    FL_DATE\n",
      "1311821 1987       4    12           23           3 1987-12-23\n",
      "1311822 1987       4    12           24           4 1987-12-24\n",
      "1311823 1987       4    12           25           5 1987-12-25\n",
      "1311824 1987       4    12           27           7 1987-12-27\n",
      "1311825 1987       4    12           29           2 1987-12-29\n",
      "1311826 1987       4    12           31           4 1987-12-31\n",
      "        OP_UNIQUE_CARRIER OP_CARRIER_AIRLINE_ID OP_CARRIER TAIL_NUM\n",
      "1311821                WN                 19393         WN       NA\n",
      "1311822                WN                 19393         WN       NA\n",
      "1311823                WN                 19393         WN       NA\n",
      "1311824                WN                 19393         WN       NA\n",
      "1311825                WN                 19393         WN       NA\n",
      "1311826                WN                 19393         WN       NA\n",
      "        OP_CARRIER_FL_NUM ORIGIN_AIRPORT_ID ORIGIN_AIRPORT_SEQ_ID\n",
      "1311821               997             14107               1410701\n",
      "1311822               997             14107               1410701\n",
      "1311823               997             14107               1410701\n",
      "1311824               997             14107               1410701\n",
      "1311825               997             14107               1410701\n",
      "1311826               997             14107               1410701\n",
      "        ORIGIN_CITY_MARKET_ID ORIGIN ORIGIN_CITY_NAME ORIGIN_STATE_ABR\n",
      "1311821                 30466    PHX      Phoenix, AZ               AZ\n",
      "1311822                 30466    PHX      Phoenix, AZ               AZ\n",
      "1311823                 30466    PHX      Phoenix, AZ               AZ\n",
      "1311824                 30466    PHX      Phoenix, AZ               AZ\n",
      "1311825                 30466    PHX      Phoenix, AZ               AZ\n",
      "1311826                 30466    PHX      Phoenix, AZ               AZ\n",
      "        ORIGIN_STATE_FIPS ORIGIN_STATE_NM ORIGIN_WAC DEST_AIRPORT_ID\n",
      "1311821                 4         Arizona         81           11540\n",
      "1311822                 4         Arizona         81           11540\n",
      "1311823                 4         Arizona         81           11540\n",
      "1311824                 4         Arizona         81           11540\n",
      "1311825                 4         Arizona         81           11540\n",
      "1311826                 4         Arizona         81           11540\n",
      "        DEST_AIRPORT_SEQ_ID DEST_CITY_MARKET_ID DEST DEST_CITY_NAME\n",
      "1311821             1154001               30615  ELP    El Paso, TX\n",
      "1311822             1154001               30615  ELP    El Paso, TX\n",
      "1311823             1154001               30615  ELP    El Paso, TX\n",
      "1311824             1154001               30615  ELP    El Paso, TX\n",
      "1311825             1154001               30615  ELP    El Paso, TX\n",
      "1311826             1154001               30615  ELP    El Paso, TX\n",
      "        DEST_STATE_ABR DEST_STATE_FIPS DEST_STATE_NM DEST_WAC CRS_DEP_TIME\n",
      "1311821             TX              48         Texas       74         1955\n",
      "1311822             TX              48         Texas       74         1955\n",
      "1311823             TX              48         Texas       74         1955\n",
      "1311824             TX              48         Texas       74         1955\n",
      "1311825             TX              48         Texas       74         1955\n",
      "1311826             TX              48         Texas       74         1955\n",
      "        DEP_TIME DEP_DELAY DEP_DELAY_NEW DEP_DEL15 DEP_DELAY_GROUP DEP_TIME_BLK\n",
      "1311821     2038        43            43         1               2    1900-1959\n",
      "1311822     1958         3             3         0               0    1900-1959\n",
      "1311823     1955         0             0         0               0    1900-1959\n",
      "1311824     2005        10            10         0               0    1900-1959\n",
      "1311825     2025        30            30         1               2    1900-1959\n",
      "1311826     2002         7             7         0               0    1900-1959\n",
      "        TAXI_OUT WHEELS_OFF WHEELS_ON TAXI_IN CRS_ARR_TIME ARR_TIME ARR_DELAY\n",
      "1311821       NA         NA        NA      NA         2100     2141        41\n",
      "1311822       NA         NA        NA      NA         2100     2101         1\n",
      "1311823       NA         NA        NA      NA         2100     2058        -2\n",
      "1311824       NA         NA        NA      NA         2100     2106         6\n",
      "1311825       NA         NA        NA      NA         2100     2125        25\n",
      "1311826       NA         NA        NA      NA         2100     2104         4\n",
      "        ARR_DELAY_NEW ARR_DEL15 ARR_DELAY_GROUP ARR_TIME_BLK CANCELLED\n",
      "1311821            41         1               2    2100-2159         0\n",
      "1311822             1         0               0    2100-2159         0\n",
      "1311823             0         0              -1    2100-2159         0\n",
      "1311824             6         0               0    2100-2159         0\n",
      "1311825            25         1               1    2100-2159         0\n",
      "1311826             4         0               0    2100-2159         0\n",
      "        CANCELLATION_CODE DIVERTED CRS_ELAPSED_TIME ACTUAL_ELAPSED_TIME\n",
      "1311821                NA        0               65                  63\n",
      "1311822                NA        0               65                  63\n",
      "1311823                NA        0               65                  63\n",
      "1311824                NA        0               65                  61\n",
      "1311825                NA        0               65                  60\n",
      "1311826                NA        0               65                  62\n",
      "        AIR_TIME FLIGHTS DISTANCE DISTANCE_GROUP CARRIER_DELAY WEATHER_DELAY\n",
      "1311821       NA       1      347              2            NA            NA\n",
      "1311822       NA       1      347              2            NA            NA\n",
      "1311823       NA       1      347              2            NA            NA\n",
      "1311824       NA       1      347              2            NA            NA\n",
      "1311825       NA       1      347              2            NA            NA\n",
      "1311826       NA       1      347              2            NA            NA\n",
      "        NAS_DELAY SECURITY_DELAY LATE_AIRCRAFT_DELAY FIRST_DEP_TIME\n",
      "1311821        NA             NA                  NA             NA\n",
      "1311822        NA             NA                  NA             NA\n",
      "1311823        NA             NA                  NA             NA\n",
      "1311824        NA             NA                  NA             NA\n",
      "1311825        NA             NA                  NA             NA\n",
      "1311826        NA             NA                  NA             NA\n",
      "        TOTAL_ADD_GTIME LONGEST_ADD_GTIME DIV_AIRPORT_LANDINGS DIV_REACHED_DEST\n",
      "1311821              NA                NA                   NA               NA\n",
      "1311822              NA                NA                   NA               NA\n",
      "1311823              NA                NA                   NA               NA\n",
      "1311824              NA                NA                   NA               NA\n",
      "1311825              NA                NA                   NA               NA\n",
      "1311826              NA                NA                   NA               NA\n",
      "        DIV_ACTUAL_ELAPSED_TIME DIV_ARR_DELAY DIV_DISTANCE DIV1_AIRPORT\n",
      "1311821                      NA            NA           NA           NA\n",
      "1311822                      NA            NA           NA           NA\n",
      "1311823                      NA            NA           NA           NA\n",
      "1311824                      NA            NA           NA           NA\n",
      "1311825                      NA            NA           NA           NA\n",
      "1311826                      NA            NA           NA           NA\n",
      "        DIV1_AIRPORT_ID DIV1_AIRPORT_SEQ_ID DIV1_WHEELS_ON DIV1_TOTAL_GTIME\n",
      "1311821              NA                  NA             NA               NA\n",
      "1311822              NA                  NA             NA               NA\n",
      "1311823              NA                  NA             NA               NA\n",
      "1311824              NA                  NA             NA               NA\n",
      "1311825              NA                  NA             NA               NA\n",
      "1311826              NA                  NA             NA               NA\n",
      "        DIV1_LONGEST_GTIME DIV1_WHEELS_OFF DIV1_TAIL_NUM DIV2_AIRPORT\n",
      "1311821                 NA              NA            NA           NA\n",
      "1311822                 NA              NA            NA           NA\n",
      "1311823                 NA              NA            NA           NA\n",
      "1311824                 NA              NA            NA           NA\n",
      "1311825                 NA              NA            NA           NA\n",
      "1311826                 NA              NA            NA           NA\n",
      "        DIV2_AIRPORT_ID DIV2_AIRPORT_SEQ_ID DIV2_WHEELS_ON DIV2_TOTAL_GTIME\n",
      "1311821              NA                  NA             NA               NA\n",
      "1311822              NA                  NA             NA               NA\n",
      "1311823              NA                  NA             NA               NA\n",
      "1311824              NA                  NA             NA               NA\n",
      "1311825              NA                  NA             NA               NA\n",
      "1311826              NA                  NA             NA               NA\n",
      "        DIV2_LONGEST_GTIME DIV2_WHEELS_OFF DIV2_TAIL_NUM DIV3_AIRPORT\n",
      "1311821                 NA              NA            NA           NA\n",
      "1311822                 NA              NA            NA           NA\n",
      "1311823                 NA              NA            NA           NA\n",
      "1311824                 NA              NA            NA           NA\n",
      "1311825                 NA              NA            NA           NA\n",
      "1311826                 NA              NA            NA           NA\n",
      "        DIV3_AIRPORT_ID DIV3_AIRPORT_SEQ_ID DIV3_WHEELS_ON DIV3_TOTAL_GTIME\n",
      "1311821              NA                  NA             NA               NA\n",
      "1311822              NA                  NA             NA               NA\n",
      "1311823              NA                  NA             NA               NA\n",
      "1311824              NA                  NA             NA               NA\n",
      "1311825              NA                  NA             NA               NA\n",
      "1311826              NA                  NA             NA               NA\n",
      "        DIV3_LONGEST_GTIME DIV3_WHEELS_OFF DIV3_TAIL_NUM DIV4_AIRPORT\n",
      "1311821                 NA              NA            NA           NA\n",
      "1311822                 NA              NA            NA           NA\n",
      "1311823                 NA              NA            NA           NA\n",
      "1311824                 NA              NA            NA           NA\n",
      "1311825                 NA              NA            NA           NA\n",
      "1311826                 NA              NA            NA           NA\n",
      "        DIV4_AIRPORT_ID DIV4_AIRPORT_SEQ_ID DIV4_WHEELS_ON DIV4_TOTAL_GTIME\n",
      "1311821              NA                  NA             NA               NA\n",
      "1311822              NA                  NA             NA               NA\n",
      "1311823              NA                  NA             NA               NA\n",
      "1311824              NA                  NA             NA               NA\n",
      "1311825              NA                  NA             NA               NA\n",
      "1311826              NA                  NA             NA               NA\n",
      "        DIV4_LONGEST_GTIME DIV4_WHEELS_OFF DIV4_TAIL_NUM DIV5_AIRPORT\n",
      "1311821                 NA              NA            NA           NA\n",
      "1311822                 NA              NA            NA           NA\n",
      "1311823                 NA              NA            NA           NA\n",
      "1311824                 NA              NA            NA           NA\n",
      "1311825                 NA              NA            NA           NA\n",
      "1311826                 NA              NA            NA           NA\n",
      "        DIV5_AIRPORT_ID DIV5_AIRPORT_SEQ_ID DIV5_WHEELS_ON DIV5_TOTAL_GTIME\n",
      "1311821              NA                  NA             NA               NA\n",
      "1311822              NA                  NA             NA               NA\n",
      "1311823              NA                  NA             NA               NA\n",
      "1311824              NA                  NA             NA               NA\n",
      "1311825              NA                  NA             NA               NA\n",
      "1311826              NA                  NA             NA               NA\n",
      "        DIV5_LONGEST_GTIME DIV5_WHEELS_OFF DIV5_TAIL_NUM  X\n",
      "1311821                 NA              NA            NA NA\n",
      "1311822                 NA              NA            NA NA\n",
      "1311823                 NA              NA            NA NA\n",
      "1311824                 NA              NA            NA NA\n",
      "1311825                 NA              NA            NA NA\n",
      "1311826                 NA              NA            NA NA\n"
     ]
    }
   ],
   "source": [
    "%%R\n",
    "tail(myDF)"
   ]
  },
  {
   "cell_type": "code",
   "execution_count": 4,
   "id": "c55a4c23-23da-4878-a5c3-b55d0bd860fa",
   "metadata": {},
   "outputs": [
    {
     "name": "stdout",
     "output_type": "stream",
     "text": [
      "[1] \"list\"\n"
     ]
    }
   ],
   "source": [
    "%%R\n",
    "typeof(myDF)"
   ]
  },
  {
   "cell_type": "markdown",
   "id": "e41893b7-d5c5-4e48-a828-20180fd71b4b",
   "metadata": {},
   "source": [
    "Answers:\n",
    "\n",
    "a) 110 \n",
    "\n",
    "b) 1,311,826\n",
    "\n",
    "c) list"
   ]
  },
  {
   "cell_type": "markdown",
   "id": "b456e57c-4a12-464b-999a-ef2df5af80c1",
   "metadata": {},
   "source": [
    "The answer to part a was found by looking up the function name for the number of columns. I found ncol from this website https://www.digitalocean.com/community/tutorials/get-number-of-rows-and-columns-in-r\n",
    "The answer to part b was found by looking at the last number after the tail function was called from the output above.\n",
    "The answer to part c was found by using the typeof function which output \"list\" above."
   ]
  },
  {
   "cell_type": "markdown",
   "id": "fc601975-35ed-4680-a4e1-0273ee3cc047",
   "metadata": {},
   "source": [
    "## Question 2"
   ]
  },
  {
   "cell_type": "code",
   "execution_count": 6,
   "id": "a16336a1-1ef0-41e8-bc7c-49387db27497",
   "metadata": {},
   "outputs": [
    {
     "name": "stdout",
     "output_type": "stream",
     "text": [
      "[1] 10 10 10 10 10 10\n"
     ]
    }
   ],
   "source": [
    "%%R\n",
    "myDF2 <- myDF$MONTH\n",
    "head(myDF2)"
   ]
  },
  {
   "cell_type": "code",
   "execution_count": 7,
   "id": "38f1fa32-e4a9-4e2f-a905-ca0bcaea386c",
   "metadata": {},
   "outputs": [
    {
     "name": "stdout",
     "output_type": "stream",
     "text": [
      "[1] 12 12 12 12 12 12\n"
     ]
    }
   ],
   "source": [
    "%%R\n",
    "tail(myDF2)"
   ]
  },
  {
   "cell_type": "code",
   "execution_count": 8,
   "id": "11a3d6f5-5f02-428a-81c1-2cc305a34351",
   "metadata": {},
   "outputs": [
    {
     "name": "stdout",
     "output_type": "stream",
     "text": [
      "[1] \"integer\"\n"
     ]
    }
   ],
   "source": [
    "%%R\n",
    "typeof(myDF2)"
   ]
  },
  {
   "cell_type": "markdown",
   "id": "c6531864-4310-4361-8752-026a34769831",
   "metadata": {},
   "source": [
    "Answers:\n",
    "\n",
    "a) 10\n",
    "\n",
    "b) 12\n",
    "\n",
    "c) integer"
   ]
  },
  {
   "cell_type": "markdown",
   "id": "14dc22d4-ddc3-41cc-a91a-cb0025bc0c80",
   "metadata": {},
   "source": [
    "The answer to part a was found by using the head function and looking at the first value outputted. The answer to part b was found by using the tail function and looking at the last value outputted. The answer to part c was found by using the typeof function on the vector \"myDF2\" and the output was \"integer\"."
   ]
  },
  {
   "cell_type": "markdown",
   "id": "8e586edd-ff26-4ce2-8f6b-2424b26f2929",
   "metadata": {},
   "source": [
    "## Question 3"
   ]
  },
  {
   "cell_type": "code",
   "execution_count": 9,
   "id": "bbe0f40d-9655-4653-9ca8-886bdb61cb91",
   "metadata": {
    "tags": []
   },
   "outputs": [
    {
     "name": "stdout",
     "output_type": "stream",
     "text": [
      " [1] 1987 1987 1987 1987 1987 1987 1987 1987 1987 1987 1987 1987 1987 1987 1987\n",
      "[16] 1987 1987 1987 1987 1987 1987 1987 1987 1987 1987 1987 1987 1987 1987 1987\n",
      "[31] 1987 1987 1987 1987 1987 1987 1987 1987 1987 1987 1987 1987 1987 1987 1987\n",
      "[46] 1987 1987 1987 1987 1987 1987 1987 1987 1987 1987 1987 1987 1987 1987 1987\n",
      "[61] 1987 1987 1987 1987 1987 1987 1987 1987 1987 1987 1987 1987 1987 1987 1987\n",
      "[76] 1987 1987\n"
     ]
    }
   ],
   "source": [
    "%%R\n",
    "myDFyears <- myDF$YEAR\n",
    "myDFyears[345:421]"
   ]
  },
  {
   "cell_type": "code",
   "execution_count": 13,
   "id": "0b63770a-94e0-4ddd-b0f7-0433141b1b14",
   "metadata": {},
   "outputs": [
    {
     "name": "stdout",
     "output_type": "stream",
     "text": [
      "[1] Santa Ana, CA\n",
      "233 Levels: Akron, OH Albany, NY ... Yuma, AZ\n"
     ]
    }
   ],
   "source": [
    "%%R\n",
    "myDFcities <- myDF$DEST_CITY_NAME\n",
    "myDFcities[894]"
   ]
  },
  {
   "cell_type": "code",
   "execution_count": 30,
   "id": "7e96190b-576b-4c9e-94f6-bd8002e1627e",
   "metadata": {},
   "outputs": [
    {
     "name": "stdout",
     "output_type": "stream",
     "text": [
      "[1] 207605\n"
     ]
    }
   ],
   "source": [
    "%%R\n",
    "myDFdist <- myDF[myDF$DISTANCE < 200, ]\n",
    "dist <- myDFdist$DISTANCE\n",
    "sum(complete.cases(dist))"
   ]
  },
  {
   "cell_type": "markdown",
   "id": "85aea146-febc-4c87-814e-8d4bf12135b8",
   "metadata": {},
   "source": [
    "Answers:\n",
    "\n",
    "a) 1987\n",
    "\n",
    "b) Santa Ana, CA\n",
    "\n",
    "c) 207605"
   ]
  },
  {
   "cell_type": "markdown",
   "id": "97ef7671-1a22-4c9d-9495-f44abc5cc0df",
   "metadata": {},
   "source": [
    "The answer to part a was found through printing the 345th element to the 421st element of the vector, myDFyears. The answer to part b was found by printing the 894th element of the vector, myDFcities. The answer to part c was found by first creating a subset of myDF with flights that had a distance less than 200, then creating a vector called dist that contains all of the distances."
   ]
  },
  {
   "cell_type": "markdown",
   "id": "da22f29c-d245-4d2b-9fc1-ca14cb6087d9",
   "metadata": {},
   "source": [
    "## Question 4"
   ]
  },
  {
   "cell_type": "code",
   "execution_count": 10,
   "id": "8cffc767-d1c8-4d64-b7dc-f0d2ee8a80d1",
   "metadata": {},
   "outputs": [
    {
     "name": "stdout",
     "output_type": "stream",
     "text": [
      " [1]  1  2  3  4  5  6  7  8  9 10\n"
     ]
    }
   ],
   "source": [
    "%%R\n",
    "numbers <- c(1:10)\n",
    "numbers"
   ]
  },
  {
   "cell_type": "code",
   "execution_count": 8,
   "id": "470b9171-1ab1-49fd-9747-189405f5ab59",
   "metadata": {},
   "outputs": [
    {
     "name": "stdout",
     "output_type": "stream",
     "text": [
      " [1] \"a\" \"b\" \"c\" \"d\" \"e\" \"f\" \"g\" \"h\" \"i\" \"j\" \"k\"\n"
     ]
    }
   ],
   "source": [
    "%%R\n",
    "letters <- c('a', 'b', 'c', 'd', 'e', 'f', 'g', 'h', 'i', 'j', 'k')\n",
    "letters"
   ]
  },
  {
   "cell_type": "code",
   "execution_count": 9,
   "id": "3efc091f-d633-47ba-8d6c-fff9038f17e1",
   "metadata": {},
   "outputs": [
    {
     "name": "stdout",
     "output_type": "stream",
     "text": [
      " [1] \"1\"  \"2\"  \"3\"  \"4\"  \"5\"  \"6\"  \"7\"  \"8\"  \"9\"  \"10\" \"a\"  \"b\"  \"c\"  \"d\"  \"e\" \n",
      "[16] \"f\"  \"g\"  \"h\"  \"i\"  \"j\"  \"k\" \n"
     ]
    }
   ],
   "source": [
    "%%R\n",
    "mixup <- c(numbers, letters)\n",
    "mixup"
   ]
  },
  {
   "cell_type": "markdown",
   "id": "0d552245-b4d6-474a-9cc9-fa7b8e674d55",
   "metadata": {},
   "source": [
    "Answers:\n",
    "\n",
    "a)numbers <- c(1:10)\n",
    "\n",
    "b)letters <- c('a', 'b', 'c', 'd', 'e', 'f', 'g', 'h', 'i', 'j', 'k')\n",
    "\n",
    "c)mixup <- c(numbers, letters)\n"
   ]
  },
  {
   "cell_type": "markdown",
   "id": "53bed616-4013-4270-b067-67bcafec7523",
   "metadata": {},
   "source": [
    "The line in part a puts the numbers 1-10 into the vector \"numbers\". The line in part b puts the letters from a to k into the vector \"letters\". The line in part c put all of the values from both of the previously mentioned vectors into a new vector called \"mixup\"."
   ]
  },
  {
   "cell_type": "markdown",
   "id": "88c9cdac-3e92-498f-83fa-e089bfc44ac8",
   "metadata": {},
   "source": [
    "## Question 5"
   ]
  },
  {
   "cell_type": "markdown",
   "id": "6acaf487-54c9-4f62-935f-31d5ba80bad4",
   "metadata": {},
   "source": [
    "Question I want answered: Which month(s) had the largest number of flights in 1987?"
   ]
  },
  {
   "cell_type": "code",
   "execution_count": 9,
   "id": "d370d7c9-06db-42b9-b75f-240481a5c491",
   "metadata": {},
   "outputs": [
    {
     "data": {
      "image/png": "[encoded data removed]"
     },
     "metadata": {},
     "output_type": "display_data"
    }
   ],
   "source": [
    "%%R\n",
    "month<- myDF$MONTH\n",
    "hist(month)"
   ]
  },
  {
   "cell_type": "code",
   "execution_count": 10,
   "id": "31178016-1190-43d1-a006-bc8201258f44",
   "metadata": {},
   "outputs": [
    {
     "data": {
      "image/png": "[encoded data removed]"
     },
     "metadata": {},
     "output_type": "display_data"
    }
   ],
   "source": [
    "%%R\n",
    "dotchart(myDF$MONTH, labels = myDF$MONTH, pch = 21, bg = \"green\", pt.cex = 1.5)"
   ]
  },
  {
   "cell_type": "code",
   "execution_count": 11,
   "id": "7154238d-c539-4660-bac6-b57068035f00",
   "metadata": {},
   "outputs": [
    {
     "data": {
      "image/png": "[encoded data removed]"
     },
     "metadata": {},
     "output_type": "display_data"
    }
   ],
   "source": [
    "%%R\n",
    "plot(month)"
   ]
  },
  {
   "cell_type": "markdown",
   "id": "a9f2d6d2-edfb-4a68-8395-87673c51f3ca",
   "metadata": {},
   "source": [
    "The histogram appears to have an approximately equal frequency of flights between October and December with a slight decrease in the frequency flights in November in comparison to the other two months. The dot chart appears to show an equal number of flights between all three months, 10, 11, 12 which are October, November, and December respectively. Because the vector of months do not account for a continuous amount of time, it is difficult to say during which week or which day in each month the majority of flights are occurring based on these graphs.   "
   ]
  },
  {
   "cell_type": "markdown",
   "id": "f76442d6-d02e-4f26-b9d6-c3183e1d6929",
   "metadata": {},
   "source": [
    "## Pledge\n",
    "\n",
    "By submitting this work I hereby pledge that this is my own, personal work. I've acknowledged in the designated place at the top of this file all sources that I used to complete said work, including but not limited to: online resources, books, and electronic communications. I've noted all collaboration with fellow students and/or TA's. I did not copy or plagiarize another's work.\n",
    "\n",
    "> As a Boilermaker pursuing academic excellence, I pledge to be honest and true in all that I do. Accountable together – We are Purdue."
   ]
  },
  {
   "cell_type": "code",
   "execution_count": null,
   "id": "3c745c62-74af-4e1d-88cf-9abb70deb025",
   "metadata": {},
   "outputs": [],
   "source": []
  }
 ],
 "metadata": {
  "kernelspec": {
   "display_name": "f2022-s2023",
   "language": "python",
   "name": "f2022-s2023"
  },
  "language_info": {
   "codemirror_mode": {
    "name": "ipython",
    "version": 3
   },
   "file_extension": ".py",
   "mimetype": "text/x-python",
   "name": "python",
   "nbconvert_exporter": "python",
   "pygments_lexer": "ipython3",
   "version": "3.10.5"
  }
 },
 "nbformat": 4,
 "nbformat_minor": 5
}
