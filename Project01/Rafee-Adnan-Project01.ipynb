{
 "cells": [
  {
   "cell_type": "markdown",
   "id": "be02a957-7133-4d02-818e-fedeb3cecb05",
   "metadata": {},
   "source": [
    "# Project 1 -- Rafee Adnan"
   ]
  },
  {
   "cell_type": "markdown",
   "id": "a1228853-dd19-4ab2-89e0-0394d7d72de3",
   "metadata": {},
   "source": [
    "**TA Help:** John Smith, Alice Jones\n",
    "\n",
    "- Help with figuring out how to write a function.\n",
    "    \n",
    "**Collaboration:** Friend1, Friend2\n",
    "    \n",
    "- Helped figuring out how to load the dataset.\n",
    "- Helped debug error with my plot."
   ]
  },
  {
   "cell_type": "markdown",
   "id": "6180e742-8e39-4698-98ff-5b00c8cf8ea0",
   "metadata": {},
   "source": [
    "## Question 1"
   ]
  },
  {
   "cell_type": "markdown",
   "id": "46f79bb1-cd39-4539-a8bc-91dc4ab8de77",
   "metadata": {},
   "source": [
    "128000: Amount of cores for subcluster a\n",
    "\n",
    "256000: Amount of memory in GB for subcluster a"
   ]
  },
  {
   "cell_type": "markdown",
   "id": "dccd1cec-9e17-473b-b93c-c347e22c2c55",
   "metadata": {},
   "source": [
    "My computer has 8 gigabytes of RAM and 4 cores"
   ]
  },
  {
   "cell_type": "markdown",
   "id": "b456e57c-4a12-464b-999a-ef2df5af80c1",
   "metadata": {},
   "source": [
    "The first two answers were achieved by multiplying the number of cores by the number of nodes in the subcluster and by multiplying the amount of memory by the amount of nodes in the subcluster. The last answer was found by looking at my computer's task manager that shows the memory and the number of cores."
   ]
  },
  {
   "cell_type": "markdown",
   "id": "fc601975-35ed-4680-a4e1-0273ee3cc047",
   "metadata": {},
   "source": [
    "## Question 2"
   ]
  },
  {
   "cell_type": "code",
   "execution_count": 6,
   "id": "a16336a1-1ef0-41e8-bc7c-49387db27497",
   "metadata": {},
   "outputs": [
    {
     "name": "stdout",
     "output_type": "stream",
     "text": [
      "[1] \"a242.anvil.rcac.purdue.edu\"\n"
     ]
    }
   ],
   "source": [
    "%%R\n",
    "\n",
    "system(\"hostname\", intern=TRUE)"
   ]
  },
  {
   "cell_type": "markdown",
   "id": "14dc22d4-ddc3-41cc-a91a-cb0025bc0c80",
   "metadata": {},
   "source": [
    "The function in R above returns the hostname."
   ]
  },
  {
   "cell_type": "markdown",
   "id": "8e586edd-ff26-4ce2-8f6b-2424b26f2929",
   "metadata": {},
   "source": [
    "## Question 3"
   ]
  },
  {
   "cell_type": "code",
   "execution_count": 8,
   "id": "bbe0f40d-9655-4653-9ca8-886bdb61cb91",
   "metadata": {},
   "outputs": [
    {
     "name": "stdout",
     "output_type": "stream",
     "text": [
      "My list is: [1, 2, 3]\n"
     ]
    }
   ],
   "source": [
    "my_list = [1, 2, 3]\n",
    "print(f'My list is: {my_list}')"
   ]
  },
  {
   "cell_type": "code",
   "execution_count": 9,
   "id": "a3f56493-5f2b-4241-a640-87286b9fd2e0",
   "metadata": {},
   "outputs": [
    {
     "name": "stdout",
     "output_type": "stream",
     "text": [
      "Done.\n"
     ]
    },
    {
     "data": {
      "text/html": [
       "<table>\n",
       "    <tr>\n",
       "        <th>title_id</th>\n",
       "        <th>type</th>\n",
       "        <th>primary_title</th>\n",
       "        <th>original_title</th>\n",
       "        <th>is_adult</th>\n",
       "        <th>premiered</th>\n",
       "        <th>ended</th>\n",
       "        <th>runtime_minutes</th>\n",
       "        <th>genres</th>\n",
       "    </tr>\n",
       "    <tr>\n",
       "        <td>tt0000001</td>\n",
       "        <td>short</td>\n",
       "        <td>Carmencita</td>\n",
       "        <td>Carmencita</td>\n",
       "        <td>0</td>\n",
       "        <td>1894</td>\n",
       "        <td>None</td>\n",
       "        <td>1</td>\n",
       "        <td>Documentary,Short</td>\n",
       "    </tr>\n",
       "    <tr>\n",
       "        <td>tt0000002</td>\n",
       "        <td>short</td>\n",
       "        <td>Le clown et ses chiens</td>\n",
       "        <td>Le clown et ses chiens</td>\n",
       "        <td>0</td>\n",
       "        <td>1892</td>\n",
       "        <td>None</td>\n",
       "        <td>5</td>\n",
       "        <td>Animation,Short</td>\n",
       "    </tr>\n",
       "    <tr>\n",
       "        <td>tt0000003</td>\n",
       "        <td>short</td>\n",
       "        <td>Pauvre Pierrot</td>\n",
       "        <td>Pauvre Pierrot</td>\n",
       "        <td>0</td>\n",
       "        <td>1892</td>\n",
       "        <td>None</td>\n",
       "        <td>4</td>\n",
       "        <td>Animation,Comedy,Romance</td>\n",
       "    </tr>\n",
       "    <tr>\n",
       "        <td>tt0000004</td>\n",
       "        <td>short</td>\n",
       "        <td>Un bon bock</td>\n",
       "        <td>Un bon bock</td>\n",
       "        <td>0</td>\n",
       "        <td>1892</td>\n",
       "        <td>None</td>\n",
       "        <td>12</td>\n",
       "        <td>Animation,Short</td>\n",
       "    </tr>\n",
       "    <tr>\n",
       "        <td>tt0000005</td>\n",
       "        <td>short</td>\n",
       "        <td>Blacksmith Scene</td>\n",
       "        <td>Blacksmith Scene</td>\n",
       "        <td>0</td>\n",
       "        <td>1893</td>\n",
       "        <td>None</td>\n",
       "        <td>1</td>\n",
       "        <td>Comedy,Short</td>\n",
       "    </tr>\n",
       "</table>"
      ],
      "text/plain": [
       "[('tt0000001', 'short', 'Carmencita', 'Carmencita', 0, 1894, None, 1, 'Documentary,Short'),\n",
       " ('tt0000002', 'short', 'Le clown et ses chiens', 'Le clown et ses chiens', 0, 1892, None, 5, 'Animation,Short'),\n",
       " ('tt0000003', 'short', 'Pauvre Pierrot', 'Pauvre Pierrot', 0, 1892, None, 4, 'Animation,Comedy,Romance'),\n",
       " ('tt0000004', 'short', 'Un bon bock', 'Un bon bock', 0, 1892, None, 12, 'Animation,Short'),\n",
       " ('tt0000005', 'short', 'Blacksmith Scene', 'Blacksmith Scene', 0, 1893, None, 1, 'Comedy,Short')]"
      ]
     },
     "execution_count": 9,
     "metadata": {},
     "output_type": "execute_result"
    }
   ],
   "source": [
    "%%sql\n",
    "\n",
    "sqlite:////anvil/projects/tdm/data/movies_and_tv/imdb.db\n",
    "SELECT * FROM titles LIMIT 5;"
   ]
  },
  {
   "cell_type": "code",
   "execution_count": 11,
   "id": "3d69b477-5e8a-401e-b095-38c3a7cb100f",
   "metadata": {},
   "outputs": [
    {
     "name": "stdout",
     "output_type": "stream",
     "text": [
      "Miles: 3263678656 \n",
      "Kilometers:5.25238e+09\n"
     ]
    }
   ],
   "source": [
    "%%bash\n",
    "\n",
    "awk -F, '{miles=miles+$19}END{print \"Miles: \" miles, \"\\nKilometers:\" miles*1.609344}' /anvil/projects/tdm/data/flights/subset/1991.csv"
   ]
  },
  {
   "cell_type": "markdown",
   "id": "f54d4515-e1dc-4891-816c-8e6d82653e84",
   "metadata": {},
   "source": [
    "\n",
    "    "
   ]
  },
  {
   "cell_type": "markdown",
   "id": "47c6229f-35f7-400c-8366-c442baa5cf47",
   "metadata": {},
   "source": [
    "The first code cell created a list of numbers and printed the list out. The second code cell is an SQL command that retrieves information from the first 5 titles of the dataset in the directory: anvil/projects/tdm/data/movies_and_tv/imdb.db. The last code cell is a bash command that retrieves the number of miles from a subset of data in the directory: /anvil/projects/tdm/data/flights/subset/1991.csv and converts from miles to Kilometers."
   ]
  },
  {
   "cell_type": "markdown",
   "id": "da22f29c-d245-4d2b-9fc1-ca14cb6087d9",
   "metadata": {},
   "source": [
    "## Question 4"
   ]
  },
  {
   "cell_type": "markdown",
   "id": "7931f599-d769-4e10-8c28-7127b0462f0c",
   "metadata": {},
   "source": [
    "There are 13 markdown cells and 5 code cells in a project template."
   ]
  },
  {
   "cell_type": "markdown",
   "id": "0d552245-b4d6-474a-9cc9-fa7b8e674d55",
   "metadata": {},
   "source": [
    "This was achieved by counting the number of markdown cells and the number of code cells in a template. "
   ]
  },
  {
   "cell_type": "markdown",
   "id": "88c9cdac-3e92-498f-83fa-e089bfc44ac8",
   "metadata": {
    "tags": []
   },
   "source": [
    "## Question 5"
   ]
  },
  {
   "cell_type": "code",
   "execution_count": 12,
   "id": "d370d7c9-06db-42b9-b75f-240481a5c491",
   "metadata": {},
   "outputs": [
    {
     "data": {
      "text/plain": [
       "128000"
      ]
     },
     "execution_count": 12,
     "metadata": {},
     "output_type": "execute_result"
    }
   ],
   "source": [
    "#Python code here\n",
    "1000 * 128"
   ]
  },
  {
   "cell_type": "code",
   "execution_count": 11,
   "id": "cceeacc0-6eff-4e57-b90c-2f0067b55893",
   "metadata": {},
   "outputs": [
    {
     "data": {
      "text/plain": [
       "256000"
      ]
     },
     "execution_count": 11,
     "metadata": {},
     "output_type": "execute_result"
    }
   ],
   "source": [
    "#Python code here\n",
    "1000 * 256"
   ]
  },
  {
   "cell_type": "code",
   "execution_count": 11,
   "id": "eafdd1f3-9db7-4234-984d-fd28f2cb61cc",
   "metadata": {},
   "outputs": [
    {
     "name": "stdout",
     "output_type": "stream",
     "text": [
      "[1] 128000\n"
     ]
    }
   ],
   "source": [
    "%%R\n",
    "\n",
    "1000 * 128"
   ]
  },
  {
   "cell_type": "code",
   "execution_count": 9,
   "id": "94a6318d-3357-4419-a000-884ed66f4c9b",
   "metadata": {},
   "outputs": [
    {
     "name": "stdout",
     "output_type": "stream",
     "text": [
      "[1] 256000\n"
     ]
    }
   ],
   "source": [
    "%%R\n",
    "\n",
    "1000 * 256"
   ]
  },
  {
   "cell_type": "code",
   "execution_count": 12,
   "id": "e951ae5c-187d-4435-9506-0a8e4f2a8500",
   "metadata": {},
   "outputs": [],
   "source": [
    "#R code above"
   ]
  },
  {
   "cell_type": "markdown",
   "id": "0a8fd404-96de-40ee-86dd-f896bdf41273",
   "metadata": {},
   "source": [
    "These are the calculations for question number 1."
   ]
  },
  {
   "cell_type": "markdown",
   "id": "0490f218-35ad-4678-b2c8-76864de16fdb",
   "metadata": {
    "tags": []
   },
   "source": [
    "## Question 6"
   ]
  },
  {
   "cell_type": "code",
   "execution_count": 16,
   "id": "3ef3ee35-36f0-4bb5-a904-fcf6f3599d9e",
   "metadata": {},
   "outputs": [],
   "source": [
    "%%R\n",
    "\n",
    "dat <- read.csv(\"/anvil/projects/tdm/data/disney/flight_of_passage.csv\")"
   ]
  },
  {
   "cell_type": "code",
   "execution_count": 18,
   "id": "9367be5b-33a7-4cda-887f-14f149f2af0b",
   "metadata": {},
   "outputs": [
    {
     "name": "stdout",
     "output_type": "stream",
     "text": [
      "        date            datetime SACTMIN SPOSTMIN\n",
      "1 05/26/2017 2017-05-26 09:06:38      NA     -999\n",
      "2 05/26/2017 2017-05-26 09:10:11      47       NA\n",
      "3 05/26/2017 2017-05-26 09:10:12      NA        5\n",
      "4 05/26/2017 2017-05-26 09:17:09      NA       60\n",
      "5 05/26/2017 2017-05-26 09:24:07      NA       60\n",
      "6 05/26/2017 2017-05-26 09:30:10      NA       60\n"
     ]
    }
   ],
   "source": [
    "%%R\n",
    "\n",
    "head(dat)"
   ]
  },
  {
   "cell_type": "markdown",
   "id": "9fbf00fb-2418-460f-ae94-2a32b0c28952",
   "metadata": {},
   "source": [
    "The head function returns the first 6 rows of data from the dataset variable, \"dat\", that read into the dataset located in the file: /anvil/projects/tdm/data/disney/flight_of_passage.csv"
   ]
  },
  {
   "cell_type": "markdown",
   "id": "ca34ba1e-0ef4-43fd-bd0a-b753031f386f",
   "metadata": {
    "tags": []
   },
   "source": [
    "## Question 7"
   ]
  },
  {
   "cell_type": "markdown",
   "id": "ff8760af-21be-4ac8-a057-5ceaecab3880",
   "metadata": {},
   "source": [
    "Created r file and py file consisting of r code and python code respectively. "
   ]
  },
  {
   "cell_type": "markdown",
   "id": "f76442d6-d02e-4f26-b9d6-c3183e1d6929",
   "metadata": {},
   "source": [
    "## Pledge\n",
    "\n",
    "By submitting this work I hereby pledge that this is my own, personal work. I've acknowledged in the designated place at the top of this file all sources that I used to complete said work, including but not limited to: online resources, books, and electronic communications. I've noted all collaboration with fellow students and/or TA's. I did not copy or plagiarize another's work.\n",
    "\n",
    "> As a Boilermaker pursuing academic excellence, I pledge to be honest and true in all that I do. Accountable together – We are Purdue."
   ]
  }
 ],
 "metadata": {
  "kernelspec": {
   "display_name": "f2022-s2023",
   "language": "python",
   "name": "f2022-s2023"
  },
  "language_info": {
   "codemirror_mode": {
    "name": "ipython",
    "version": 3
   },
   "file_extension": ".py",
   "mimetype": "text/x-python",
   "name": "python",
   "nbconvert_exporter": "python",
   "pygments_lexer": "ipython3",
   "version": "3.10.5"
  }
 },
 "nbformat": 4,
 "nbformat_minor": 5
}
