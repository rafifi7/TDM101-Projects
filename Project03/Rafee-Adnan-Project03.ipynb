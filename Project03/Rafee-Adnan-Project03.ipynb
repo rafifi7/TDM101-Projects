{
 "cells": [
  {
   "cell_type": "markdown",
   "id": "be02a957-7133-4d02-818e-fedeb3cecb05",
   "metadata": {},
   "source": [
    "# Project 3 -- Rafee Adnan"
   ]
  },
  {
   "cell_type": "markdown",
   "id": "a1228853-dd19-4ab2-89e0-0394d7d72de3",
   "metadata": {},
   "source": [
    "**TA Help:** n/a\n",
    "\n",
    "**Collaboration:** n/a"
   ]
  },
  {
   "cell_type": "markdown",
   "id": "6180e742-8e39-4698-98ff-5b00c8cf8ea0",
   "metadata": {},
   "source": [
    "## Question 1"
   ]
  },
  {
   "cell_type": "code",
   "execution_count": 1,
   "id": "49445606-d363-41b4-b479-e319a9a84c01",
   "metadata": {},
   "outputs": [],
   "source": [
    "options(jupyter.rich_display = F)"
   ]
  },
  {
   "cell_type": "code",
   "execution_count": 2,
   "id": "3a6cf140-2df3-4f43-b364-10125200c14c",
   "metadata": {},
   "outputs": [
    {
     "data": {
      "text/plain": [
       " [1] \"7_dwarfs_train.csv\"                \"alien_saucers.csv\"                \n",
       " [3] \"dinosaur.csv\"                      \"entities.csv\"                     \n",
       " [5] \"expedition_everest.csv\"            \"flight_of_passage.csv\"            \n",
       " [7] \"kilimanjaro_safaris.csv\"           \"metadata.csv\"                     \n",
       " [9] \"navi_river.csv\"                    \"pirates_of_caribbean.csv\"         \n",
       "[11] \"rock_n_rollercoaster.csv\"          \"slinky_dog.csv\"                   \n",
       "[13] \"soarin.csv\"                        \"spaceship_earth.csv\"              \n",
       "[15] \"splash_mountain.csv\"               \"total.parquet\"                    \n",
       "[17] \"touringplans_data_dictionary.xlsx\" \"toy_story_mania.csv\"              \n",
       "[19] \"update.py\"                        "
      ]
     },
     "metadata": {},
     "output_type": "display_data"
    }
   ],
   "source": [
    "list.files(\"/anvil/projects/tdm/data/disney\")"
   ]
  },
  {
   "cell_type": "code",
   "execution_count": 3,
   "id": "298cc7fe-abf1-4da7-b74e-ca2790b94b0e",
   "metadata": {},
   "outputs": [],
   "source": [
    "myDF <- read.csv(\"/anvil/projects/tdm/data/disney/7_dwarfs_train.csv\", stringsAsFactors = TRUE)"
   ]
  },
  {
   "cell_type": "code",
   "execution_count": 4,
   "id": "d61a9505-8fe2-49b0-8d65-8639a5441e0a",
   "metadata": {},
   "outputs": [
    {
     "data": {
      "text/plain": [
       "[1] 11696214"
      ]
     },
     "metadata": {},
     "output_type": "display_data"
    }
   ],
   "source": [
    "file.info(\"/anvil/projects/tdm/data/disney/7_dwarfs_train.csv\")$size"
   ]
  },
  {
   "cell_type": "code",
   "execution_count": 5,
   "id": "e701448f-b592-48e5-b6d0-6d724cc0c154",
   "metadata": {},
   "outputs": [
    {
     "data": {
      "text/plain": [
       "   date       datetime            SACTMIN SPOSTMIN\n",
       "1  01/01/2015 2015-01-01 07:51:12 NA       45     \n",
       "2  01/01/2015 2015-01-01 08:02:13 NA       60     \n",
       "3  01/01/2015 2015-01-01 08:05:30 54       NA     \n",
       "4  01/01/2015 2015-01-01 08:09:12 NA       60     \n",
       "5  01/01/2015 2015-01-01 08:16:12 NA       60     \n",
       "6  01/01/2015 2015-01-01 08:22:16 55       NA     \n",
       "7  01/01/2015 2015-01-01 08:23:12 NA       60     \n",
       "8  01/01/2015 2015-01-01 08:29:12 NA       60     \n",
       "9  01/01/2015 2015-01-01 08:37:13 NA       90     \n",
       "10 01/01/2015 2015-01-01 08:44:11 NA      105     \n",
       "11 01/01/2015 2015-01-01 08:50:33 NA      105     \n",
       "12 01/01/2015 2015-01-01 08:51:12 NA      105     \n",
       "13 01/01/2015 2015-01-01 09:02:13 NA      105     \n",
       "14 01/01/2015 2015-01-01 09:09:16 NA      105     \n",
       "15 01/01/2015 2015-01-01 09:16:12 NA      120     \n",
       "16 01/01/2015 2015-01-01 09:23:12 NA      120     \n",
       "17 01/01/2015 2015-01-01 09:29:12 NA      120     \n",
       "18 01/01/2015 2015-01-01 09:34:32 NA      120     \n",
       "19 01/01/2015 2015-01-01 09:37:12 NA       80     \n",
       "20 01/01/2015 2015-01-01 09:44:11 NA       80     \n",
       "21 01/01/2015 2015-01-01 09:51:12 NA       80     "
      ]
     },
     "metadata": {},
     "output_type": "display_data"
    }
   ],
   "source": [
    "head(myDF, n = 21)"
   ]
  },
  {
   "cell_type": "code",
   "execution_count": 6,
   "id": "fd02f25d-e48c-48e4-ac1f-57aa7333c5b5",
   "metadata": {},
   "outputs": [
    {
     "data": {
      "text/plain": [
       "[1] 321631      4"
      ]
     },
     "metadata": {},
     "output_type": "display_data"
    }
   ],
   "source": [
    "dim(myDF)"
   ]
  },
  {
   "cell_type": "code",
   "execution_count": 7,
   "id": "c682fc43-e5c8-4831-a852-ee9bb0f7c319",
   "metadata": {},
   "outputs": [
    {
     "name": "stdout",
     "output_type": "stream",
     "text": [
      "'data.frame':\t321631 obs. of  4 variables:\n",
      " $ date    : Factor w/ 2334 levels \"01/01/2015\",\"01/01/2016\",..: 1 1 1 1 1 1 1 1 1 1 ...\n",
      " $ datetime: Factor w/ 321586 levels \"2015-01-01 07:51:12\",..: 1 2 3 4 5 6 7 8 9 10 ...\n",
      " $ SACTMIN : int  NA NA 54 NA NA 55 NA NA NA NA ...\n",
      " $ SPOSTMIN: int  45 60 NA 60 60 NA 60 60 90 105 ...\n"
     ]
    }
   ],
   "source": [
    "str(myDF)"
   ]
  },
  {
   "cell_type": "markdown",
   "id": "b456e57c-4a12-464b-999a-ef2df5af80c1",
   "metadata": {},
   "source": [
    "The dataset about 7 Dwarves Train has 321631 rows, 4 columns. The 4 columns are date, datetime, SACTMIN, and SPOSTMIN whose variable types are factor, factor, int, and int respectively."
   ]
  },
  {
   "cell_type": "markdown",
   "id": "fc601975-35ed-4680-a4e1-0273ee3cc047",
   "metadata": {},
   "source": [
    "## Question 2"
   ]
  },
  {
   "cell_type": "code",
   "execution_count": 11,
   "id": "a16336a1-1ef0-41e8-bc7c-49387db27497",
   "metadata": {},
   "outputs": [
    {
     "data": {
      "text/plain": [
       " [1]  45  60  NA  60  60  NA  60  60  90 105 105 105 105 105 120 120 120 120  80\n",
       "[20]  80  80  90  90  90  90  90  90  80  80  80  80  80  80  80  90  90  90 100\n",
       "[39] 100 120 150 120 120 120 120 120 120 120 120 120"
      ]
     },
     "metadata": {},
     "output_type": "display_data"
    }
   ],
   "source": [
    "head(myDF$SPOSTMIN, n = 50)"
   ]
  },
  {
   "cell_type": "code",
   "execution_count": 10,
   "id": "b75ddb2e-a78a-4fd2-a4a2-b7e798061657",
   "metadata": {},
   "outputs": [
    {
     "name": "stdout",
     "output_type": "stream",
     "text": [
      " 'table' int [1:55(1d)] 23062 32 897 1306 914 3638 2166 13939 4894 14941 ...\n",
      " - attr(*, \"dimnames\")=List of 1\n",
      "  ..$ : chr [1:55] \"-999\" \"0\" \"5\" \"10\" ...\n"
     ]
    }
   ],
   "source": [
    "str(table(myDF$SPOSTMIN))"
   ]
  },
  {
   "cell_type": "code",
   "execution_count": 12,
   "id": "436f676b-3a73-463a-8e75-9e9db791a1e6",
   "metadata": {},
   "outputs": [
    {
     "data": {
      "text/plain": [
       "    Min.  1st Qu.   Median     Mean  3rd Qu.     Max.     NA's \n",
       "-999.000   45.000   70.000   -2.064   95.000  300.000     7635 "
      ]
     },
     "metadata": {},
     "output_type": "display_data"
    }
   ],
   "source": [
    "summary(myDF$SPOSTMIN)"
   ]
  },
  {
   "cell_type": "code",
   "execution_count": 13,
   "id": "9f79b2d9-21a2-4a63-a481-9c07f8ebd364",
   "metadata": {},
   "outputs": [],
   "source": [
    "newDF <- subset(myDF, !is.na(myDF$SPOSTMIN))"
   ]
  },
  {
   "cell_type": "code",
   "execution_count": 14,
   "id": "d8837d3b-327c-415b-8425-9cb2f5e31326",
   "metadata": {},
   "outputs": [
    {
     "data": {
      "text/plain": [
       "  date       datetime            SACTMIN SPOSTMIN\n",
       "1 01/01/2015 2015-01-01 07:51:12 NA      45      \n",
       "2 01/01/2015 2015-01-01 08:02:13 NA      60      \n",
       "4 01/01/2015 2015-01-01 08:09:12 NA      60      \n",
       "5 01/01/2015 2015-01-01 08:16:12 NA      60      \n",
       "7 01/01/2015 2015-01-01 08:23:12 NA      60      \n",
       "8 01/01/2015 2015-01-01 08:29:12 NA      60      "
      ]
     },
     "metadata": {},
     "output_type": "display_data"
    }
   ],
   "source": [
    "head(newDF)"
   ]
  },
  {
   "cell_type": "markdown",
   "id": "14dc22d4-ddc3-41cc-a91a-cb0025bc0c80",
   "metadata": {},
   "source": [
    "a) After looking at the first 50 values of the column SPOSTMIN, I found that the value are either NA or a multiple of 5. There are 55 different values of SPOSTMIN.\n",
    "\n",
    "b) There are 7635 NA values according to the summary function.\n",
    "\n",
    "c) newDF <- subset(myDF, !is.na(myDF$SPOSTMIN)) is the code used to create the new subset with no NA values in the SPOSTMIN column."
   ]
  },
  {
   "cell_type": "markdown",
   "id": "8e586edd-ff26-4ce2-8f6b-2424b26f2929",
   "metadata": {},
   "source": [
    "## Question 3"
   ]
  },
  {
   "cell_type": "code",
   "execution_count": 91,
   "id": "bbe0f40d-9655-4653-9ca8-886bdb61cb91",
   "metadata": {},
   "outputs": [
    {
     "data": {
      "text/plain": [
       "[1] 48"
      ]
     },
     "metadata": {},
     "output_type": "display_data"
    }
   ],
   "source": [
    "christmas2021 <- myDF$SACTMIN[myDF$date == \"12/25/2021\"]\n",
    "mean(christmas2021, na.rm = TRUE)"
   ]
  },
  {
   "cell_type": "code",
   "execution_count": 94,
   "id": "9c7397fc-539c-4c39-8f44-b5f3272bfb76",
   "metadata": {},
   "outputs": [
    {
     "data": {
      "text/plain": [
       "[1] 44.7"
      ]
     },
     "metadata": {},
     "output_type": "display_data"
    }
   ],
   "source": [
    "july26th2021 <- myDF$SACTMIN[myDF$date == \"06/26/2021\"]\n",
    "mean(july26th2021, na.rm = TRUE)"
   ]
  },
  {
   "cell_type": "code",
   "execution_count": 102,
   "id": "9ed2f7d3-aab9-46c8-b81a-2f5f4174ee6b",
   "metadata": {},
   "outputs": [
    {
     "data": {
      "text/plain": [
       "\n",
       "11/08/2021 10/01/2021 11/09/2021 10/29/2021 10/15/2021 10/10/2021 \n",
       "       363        359        344        333        332        330 "
      ]
     },
     "metadata": {},
     "output_type": "display_data"
    }
   ],
   "source": [
    "head(sort(table(myDF$date), decreasing = TRUE))"
   ]
  },
  {
   "cell_type": "markdown",
   "id": "47c6229f-35f7-400c-8366-c442baa5cf47",
   "metadata": {},
   "source": [
    "a) In 2021, the average wait time on Christmas was 48 while the average wait time for July 26th was 44.7.\n",
    "\n",
    "b) In 2021, yes there is a difference of about 3.3 between Christmas and July 26th.\n",
    "\n",
    "c) The date in which most entries occur is 11/08/2021 with 363 entries."
   ]
  },
  {
   "cell_type": "markdown",
   "id": "da22f29c-d245-4d2b-9fc1-ca14cb6087d9",
   "metadata": {},
   "source": [
    "## Question 4"
   ]
  },
  {
   "cell_type": "code",
   "execution_count": 105,
   "id": "88bfd0eb-e015-4eda-a396-3d16afac8076",
   "metadata": {},
   "outputs": [
    {
     "data": {
      "text/plain": [
       "[1] 321631"
      ]
     },
     "metadata": {},
     "output_type": "display_data"
    }
   ],
   "source": [
    "length(myDF$SPOSTMIN)"
   ]
  },
  {
   "cell_type": "code",
   "execution_count": 106,
   "id": "2a4c84d5-d9be-4530-9585-f77ae4105215",
   "metadata": {},
   "outputs": [
    {
     "data": {
      "text/plain": [
       "[1] 313996"
      ]
     },
     "metadata": {},
     "output_type": "display_data"
    }
   ],
   "source": [
    "length(newDF$SPOSTMIN)"
   ]
  },
  {
   "cell_type": "code",
   "execution_count": 112,
   "id": "849f9862-06dd-4f94-a0ab-bbe62f767f7f",
   "metadata": {},
   "outputs": [
    {
     "name": "stderr",
     "output_type": "stream",
     "text": [
      "Warning message in (newDF$SPOSTMIN)/60 + (myDF$SPOSTMIN)/60:\n",
      "\"longer object length is not a multiple of shorter object length\"\n"
     ]
    }
   ],
   "source": [
    "myhours <- (newDF$SPOSTMIN)/60  + (myDF$SPOSTMIN)/60"
   ]
  },
  {
   "cell_type": "code",
   "execution_count": 113,
   "id": "1e58cd2b-0c7f-4397-80e5-235e85edd4ce",
   "metadata": {},
   "outputs": [
    {
     "data": {
      "text/plain": [
       "[1] 321631"
      ]
     },
     "metadata": {},
     "output_type": "display_data"
    }
   ],
   "source": [
    "length(myhours)"
   ]
  },
  {
   "cell_type": "code",
   "execution_count": 116,
   "id": "69fe007f-069d-47d0-899b-2eab92f6b30d",
   "metadata": {},
   "outputs": [
    {
     "data": {
      "text/plain": [
       "[1] 0.25"
      ]
     },
     "metadata": {},
     "output_type": "display_data"
    }
   ],
   "source": [
    "myDF$SPOSTMIN[313997]/60"
   ]
  },
  {
   "cell_type": "code",
   "execution_count": 117,
   "id": "5b308a62-0749-494c-affe-892a9717f769",
   "metadata": {},
   "outputs": [
    {
     "data": {
      "text/plain": [
       "[1] NA"
      ]
     },
     "metadata": {},
     "output_type": "display_data"
    }
   ],
   "source": [
    "newDF$SPOSTMIN[313997]/60"
   ]
  },
  {
   "cell_type": "code",
   "execution_count": 118,
   "id": "4ae4ad7f-0d48-4050-a4bb-4d2296427853",
   "metadata": {},
   "outputs": [
    {
     "data": {
      "text/plain": [
       "[1] 1"
      ]
     },
     "metadata": {},
     "output_type": "display_data"
    }
   ],
   "source": [
    "myhours[313997]\n",
    "#where is the .75 coming from?"
   ]
  },
  {
   "cell_type": "code",
   "execution_count": 120,
   "id": "460fc1d0-fe1d-4258-9071-7ae395241ae1",
   "metadata": {},
   "outputs": [
    {
     "data": {
      "text/plain": [
       "[1] 0.75"
      ]
     },
     "metadata": {},
     "output_type": "display_data"
    }
   ],
   "source": [
    "newDF$SPOSTMIN[1]/60"
   ]
  },
  {
   "cell_type": "markdown",
   "id": "0d552245-b4d6-474a-9cc9-fa7b8e674d55",
   "metadata": {},
   "source": [
    "a) The SPOSTMIN column in myDF has 321,631 values while it has 313,996 values in newDF.\n",
    "\n",
    "b) myhours has a length of 321,631.\n",
    "\n",
    "c) Because the length of newDF$SPOSTMIN is 313996, the 313997th value is NA. When you try to access the next value in the vector, it cycles back to the first value of the vector at position 1. So, the 313997th value of newDF is equal to the 1st value of newDF."
   ]
  },
  {
   "cell_type": "markdown",
   "id": "88c9cdac-3e92-498f-83fa-e089bfc44ac8",
   "metadata": {},
   "source": [
    "## Question 5"
   ]
  },
  {
   "cell_type": "code",
   "execution_count": 121,
   "id": "d370d7c9-06db-42b9-b75f-240481a5c491",
   "metadata": {},
   "outputs": [
    {
     "name": "stderr",
     "output_type": "stream",
     "text": [
      "Warning message in system(\"timedatectl\", intern = TRUE):\n",
      "\"running command 'timedatectl' had status 1\"\n",
      "\n",
      "Attaching package: 'lubridate'\n",
      "\n",
      "\n",
      "The following objects are masked from 'package:base':\n",
      "\n",
      "    date, intersect, setdiff, union\n",
      "\n",
      "\n",
      "Warning message:\n",
      "\"tz(): Don't know how to compute timezone for object of class factor; returning \"UTC\". This warning will become an error in the next major version of lubridate.\"\n"
     ]
    }
   ],
   "source": [
    "library(lubridate)\n",
    "myDF$weekday <- wday(myDF$datetime, label=TRUE)"
   ]
  },
  {
   "cell_type": "code",
   "execution_count": 135,
   "id": "6f52217d-372d-4939-a58c-4bd226a49e9b",
   "metadata": {},
   "outputs": [
    {
     "data": {
      "text/plain": [
       "[1] 37.92959"
      ]
     },
     "metadata": {},
     "output_type": "display_data"
    }
   ],
   "source": [
    "mean(myDF$SACTMIN[(myDF$weekday == \"Mon\") & (myDF$SACTMIN != -92918)], na.rm = TRUE)"
   ]
  },
  {
   "cell_type": "code",
   "execution_count": 125,
   "id": "36043144-fea8-4635-8bb9-ccb85123e76b",
   "metadata": {},
   "outputs": [
    {
     "data": {
      "text/plain": [
       "[1] 34.55502"
      ]
     },
     "metadata": {},
     "output_type": "display_data"
    }
   ],
   "source": [
    "mean(myDF$SACTMIN[myDF$weekday == \"Tue\"], na.rm = TRUE)"
   ]
  },
  {
   "cell_type": "code",
   "execution_count": 126,
   "id": "7e6b44e4-1442-41aa-bfbc-fecfa4034d64",
   "metadata": {},
   "outputs": [
    {
     "data": {
      "text/plain": [
       "[1] 36.44053"
      ]
     },
     "metadata": {},
     "output_type": "display_data"
    }
   ],
   "source": [
    "mean(myDF$SACTMIN[myDF$weekday == \"Wed\"], na.rm = TRUE)"
   ]
  },
  {
   "cell_type": "code",
   "execution_count": 127,
   "id": "60dfaac4-95e0-4307-a199-c030cc3dfdb6",
   "metadata": {},
   "outputs": [
    {
     "data": {
      "text/plain": [
       "[1] 36.17215"
      ]
     },
     "metadata": {},
     "output_type": "display_data"
    }
   ],
   "source": [
    "mean(myDF$SACTMIN[myDF$weekday == \"Thu\"], na.rm = TRUE)"
   ]
  },
  {
   "cell_type": "code",
   "execution_count": 128,
   "id": "d75b8162-b154-4ea6-ac7e-9d32bb66f57f",
   "metadata": {},
   "outputs": [
    {
     "data": {
      "text/plain": [
       "[1] 36.12491"
      ]
     },
     "metadata": {},
     "output_type": "display_data"
    }
   ],
   "source": [
    "mean(myDF$SACTMIN[myDF$weekday == \"Fri\"], na.rm = TRUE)"
   ]
  },
  {
   "cell_type": "code",
   "execution_count": 129,
   "id": "3ba8040d-d8ba-483e-b96c-6ec7629560e9",
   "metadata": {},
   "outputs": [
    {
     "data": {
      "text/plain": [
       "[1] 37.73216"
      ]
     },
     "metadata": {},
     "output_type": "display_data"
    }
   ],
   "source": [
    "mean(myDF$SACTMIN[myDF$weekday == \"Sat\"], na.rm = TRUE)"
   ]
  },
  {
   "cell_type": "code",
   "execution_count": 130,
   "id": "7890f23a-d2b7-43c7-af0e-d851f80d01fa",
   "metadata": {},
   "outputs": [
    {
     "data": {
      "text/plain": [
       "[1] 34.90372"
      ]
     },
     "metadata": {},
     "output_type": "display_data"
    }
   ],
   "source": [
    "mean(myDF$SACTMIN[myDF$weekday == \"Sun\"], na.rm = TRUE)"
   ]
  },
  {
   "cell_type": "code",
   "execution_count": 136,
   "id": "69057bc8-8985-4396-a437-225a56c6c810",
   "metadata": {},
   "outputs": [],
   "source": [
    "myresults <- tapply(myDF$SACTMIN[myDF$SACTMIN != -92918], myDF$weekday[myDF$SACTMIN != -92918], mean, na.rm = TRUE)"
   ]
  },
  {
   "cell_type": "code",
   "execution_count": 137,
   "id": "0296f0a6-f75c-430d-ac7b-009aa62ff02a",
   "metadata": {},
   "outputs": [
    {
     "data": {
      "image/png": "[encoded data removed]",
      "text/plain": [
       "plot without title"
      ]
     },
     "metadata": {
      "image/png": {
       "height": 420,
       "width": 420
      }
     },
     "output_type": "display_data"
    }
   ],
   "source": [
    "plot(myresults)"
   ]
  },
  {
   "cell_type": "code",
   "execution_count": 138,
   "id": "dca10848-59f5-46e2-8d50-2d78550afe6e",
   "metadata": {},
   "outputs": [
    {
     "name": "stderr",
     "output_type": "stream",
     "text": [
      "Warning message in dotchart(myresults):\n",
      "\"'x' is neither a vector nor a matrix: using as.numeric(x)\"\n"
     ]
    },
    {
     "data": {
      "image/png": "[encoded data removed]",
      "text/plain": [
       "plot without title"
      ]
     },
     "metadata": {
      "image/png": {
       "height": 420,
       "width": 420
      }
     },
     "output_type": "display_data"
    }
   ],
   "source": [
    "dotchart(myresults)"
   ]
  },
  {
   "cell_type": "code",
   "execution_count": 139,
   "id": "8ec2f9f5-3d43-491a-a519-ff4a728d61fd",
   "metadata": {},
   "outputs": [
    {
     "name": "stderr",
     "output_type": "stream",
     "text": [
      "Warning message:\n",
      "\"tz(): Don't know how to compute timezone for object of class factor; returning \"UTC\". This warning will become an error in the next major version of lubridate.\"\n"
     ]
    }
   ],
   "source": [
    "myDF$Month <- month(myDF$datetime, label=TRUE)"
   ]
  },
  {
   "cell_type": "code",
   "execution_count": 143,
   "id": "a9994335-40c4-4bb8-b340-fbf5c622080f",
   "metadata": {},
   "outputs": [
    {
     "data": {
      "text/plain": [
       "     Jan      Feb      Mar      Apr      May      Jun      Jul      Aug \n",
       "41.64757 43.62733 38.50000 34.66873 35.36293 39.98100 36.83942 32.08961 \n",
       "     Sep      Oct      Nov      Dec \n",
       "26.98632 33.45165 37.98672 37.74623 "
      ]
     },
     "metadata": {},
     "output_type": "display_data"
    }
   ],
   "source": [
    "monthresults <- tapply(myDF$SACTMIN[myDF$SACTMIN != -92918], myDF$Month[myDF$SACTMIN != -92918], mean, na.rm = TRUE)\n",
    "monthresults"
   ]
  },
  {
   "cell_type": "code",
   "execution_count": 144,
   "id": "41f3ecd9-666e-4f7b-9f48-aaf5ab434678",
   "metadata": {},
   "outputs": [
    {
     "data": {
      "image/png": "[encoded data removed]",
      "text/plain": [
       "plot without title"
      ]
     },
     "metadata": {
      "image/png": {
       "height": 420,
       "width": 420
      }
     },
     "output_type": "display_data"
    }
   ],
   "source": [
    "plot(monthresults)"
   ]
  },
  {
   "cell_type": "code",
   "execution_count": 145,
   "id": "a6cff385-a10b-4135-ab62-b2c03527b48f",
   "metadata": {},
   "outputs": [
    {
     "name": "stderr",
     "output_type": "stream",
     "text": [
      "Warning message in dotchart(monthresults):\n",
      "\"'x' is neither a vector nor a matrix: using as.numeric(x)\"\n"
     ]
    },
    {
     "data": {
      "image/png": "[encoded data removed]",
      "text/plain": [
       "plot without title"
      ]
     },
     "metadata": {
      "image/png": {
       "height": 420,
       "width": 420
      }
     },
     "output_type": "display_data"
    }
   ],
   "source": [
    "dotchart(monthresults)"
   ]
  },
  {
   "cell_type": "markdown",
   "id": "9fbf00fb-2418-460f-ae94-2a32b0c28952",
   "metadata": {},
   "source": [
    "a) Monday has the longest average wait time of 37.92959 minutes.\n",
    "\n",
    "b) The dotchart conveys information better because it automatically labels the axis with the days of the week rather than the number corresponding to the days of the week. It also has dotted lines to help visually connect each point's value to its respective day.\n",
    "\n",
    "c)  a) February has the longest average wait time of 43.62733 minutes.\n",
    "b) The dotchart conveys information better because it automatically labels the axis with the month rather than the number corresponding to the month. It also has dotted lines to help visually connect each point's value to its respective month."
   ]
  },
  {
   "cell_type": "markdown",
   "id": "f76442d6-d02e-4f26-b9d6-c3183e1d6929",
   "metadata": {},
   "source": [
    "## Pledge\n",
    "\n",
    "By submitting this work I hereby pledge that this is my own, personal work. I've acknowledged in the designated place at the top of this file all sources that I used to complete said work, including but not limited to: online resources, books, and electronic communications. I've noted all collaboration with fellow students and/or TA's. I did not copy or plagiarize another's work.\n",
    "\n",
    "> As a Boilermaker pursuing academic excellence, I pledge to be honest and true in all that I do. Accountable together – We are Purdue."
   ]
  }
 ],
 "metadata": {
  "kernelspec": {
   "display_name": "f2022-s2023-r",
   "language": "R",
   "name": "f2022-s2023-r"
  },
  "language_info": {
   "codemirror_mode": "r",
   "file_extension": ".r",
   "mimetype": "text/x-r-source",
   "name": "R",
   "pygments_lexer": "r",
   "version": "4.1.3"
  }
 },
 "nbformat": 4,
 "nbformat_minor": 5
}
