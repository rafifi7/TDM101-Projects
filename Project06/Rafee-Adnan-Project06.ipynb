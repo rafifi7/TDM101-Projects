{
 "cells": [
  {
   "cell_type": "markdown",
   "id": "be02a957-7133-4d02-818e-fedeb3cecb05",
   "metadata": {},
   "source": [
    "# Project 6 -- Rafee Adnan"
   ]
  },
  {
   "cell_type": "markdown",
   "id": "a1228853-dd19-4ab2-89e0-0394d7d72de3",
   "metadata": {},
   "source": [
    "**TA Help:** \n",
    "    \n",
    "**Collaboration:**"
   ]
  },
  {
   "cell_type": "markdown",
   "id": "6180e742-8e39-4698-98ff-5b00c8cf8ea0",
   "metadata": {},
   "source": [
    "## Question 1"
   ]
  },
  {
   "cell_type": "code",
   "execution_count": 2,
   "id": "c316daaf-a17b-45a2-8ca8-e593336bd238",
   "metadata": {},
   "outputs": [],
   "source": [
    "options(jupyter.rich_display = F)"
   ]
  },
  {
   "cell_type": "code",
   "execution_count": 3,
   "id": "321fc923-7aa5-4de6-9c4d-d1057a40aff9",
   "metadata": {},
   "outputs": [],
   "source": [
    "options(repr.matrix.max.cols=25, repr.matrix.max.rows=200)"
   ]
  },
  {
   "cell_type": "code",
   "execution_count": 4,
   "id": "692d1ed5-a437-489a-b7b9-96c9bee194eb",
   "metadata": {},
   "outputs": [],
   "source": [
    "eventsDF <- read.csv(\"/anvil/projects/tdm/data/olympics/athlete_events.csv\")"
   ]
  },
  {
   "cell_type": "code",
   "execution_count": 5,
   "id": "83b7b499-cbf5-4689-8eb6-a6ab2a138005",
   "metadata": {},
   "outputs": [
    {
     "data": {
      "text/plain": [
       "  ID Name                     Sex Age Height Weight Team           NOC\n",
       "1 1  A Dijiang                M   24  180    80     China          CHN\n",
       "2 2  A Lamusi                 M   23  170    60     China          CHN\n",
       "3 3  Gunnar Nielsen Aaby      M   24   NA    NA     Denmark        DEN\n",
       "4 4  Edgar Lindenau Aabye     M   34   NA    NA     Denmark/Sweden DEN\n",
       "5 5  Christine Jacoba Aaftink F   21  185    82     Netherlands    NED\n",
       "6 5  Christine Jacoba Aaftink F   21  185    82     Netherlands    NED\n",
       "  Games       Year Season City      Sport        \n",
       "1 1992 Summer 1992 Summer Barcelona Basketball   \n",
       "2 2012 Summer 2012 Summer London    Judo         \n",
       "3 1920 Summer 1920 Summer Antwerpen Football     \n",
       "4 1900 Summer 1900 Summer Paris     Tug-Of-War   \n",
       "5 1988 Winter 1988 Winter Calgary   Speed Skating\n",
       "6 1988 Winter 1988 Winter Calgary   Speed Skating\n",
       "  Event                              Medal\n",
       "1 Basketball Men's Basketball        NA   \n",
       "2 Judo Men's Extra-Lightweight       NA   \n",
       "3 Football Men's Football            NA   \n",
       "4 Tug-Of-War Men's Tug-Of-War        Gold \n",
       "5 Speed Skating Women's 500 metres   NA   \n",
       "6 Speed Skating Women's 1,000 metres NA   "
      ]
     },
     "metadata": {},
     "output_type": "display_data"
    }
   ],
   "source": [
    "head(eventsDF)"
   ]
  },
  {
   "cell_type": "code",
   "execution_count": 119,
   "id": "07b25b13-0d68-4d5f-952b-b9df9f49ad2a",
   "metadata": {},
   "outputs": [
    {
     "data": {
      "text/plain": [
       "\n",
       " 1896  1900  1904  1906  1908  1912  1920  1924  1928  1932  1936  1948  1952 \n",
       "  380  1936  1301  1733  3101  4040  4292  5693  5574  3321  7401  7480  9358 \n",
       " 1956  1960  1964  1968  1972  1976  1980  1984  1988  1992  1994  1996  1998 \n",
       " 6434  9235  9480 10479 11959 10502  8937 11588 14676 16413  3160 13780  3605 \n",
       " 2000  2002  2004  2006  2008  2010  2012  2014  2016 \n",
       "13821  4109 13443  4382 13602  4402 12920  4891 13688 "
      ]
     },
     "metadata": {},
     "output_type": "display_data"
    }
   ],
   "source": [
    "table(eventsDF$Year)"
   ]
  },
  {
   "cell_type": "code",
   "execution_count": 120,
   "id": "d38bddaf-1342-49ea-b76f-ce072bcd99ad",
   "metadata": {},
   "outputs": [
    {
     "data": {
      "text/plain": [
       "\n",
       "  AFG   AHO   ALB   ALG   AND   ANG   ANT   ANZ   ARG   ARM   ARU   ASA   AUS \n",
       "  126    79    70   551   169   267   133    86  3297   221    42    37  7638 \n",
       "  AUT   AZE   BAH   BAN   BAR   BDI   BEL   BEN   BER   BHU   BIH   BIZ   BLR \n",
       " 5141   283   374    55   219    39  3857    71   212    36   134    76  1787 \n",
       "  BOH   BOL   BOT   BRA   BRN   BRU   BUL   BUR   CAF   CAM   CAN   CAY   CGO \n",
       "  153   152    90  3848   126    10  3530    44    67    63  9733    83   105 \n",
       "  CHA   CHI   CHN   CIV   CMR   COD   COK   COL   COM   CPV   CRC   CRO   CRT \n",
       "   41   925  5141   193   312    93    40  1069    19    18   264   876    11 \n",
       "  CUB   CYP   CZE   DEN   DJI   DMA   DOM   ECU   EGY   ERI   ESA   ESP   EST \n",
       " 2479   225  1874  3570    38    19   277   277  1622    43   218  5313   876 \n",
       "  ETH   EUN   FIJ   FIN   FRA   FRG   FSM   GAB   GAM   GBR   GBS   GDR   GEO \n",
       "  378   864   232  5467 12758  3315    26    63    56 12256    21  2645   286 \n",
       "  GEQ   GER   GHA   GRE   GRN   GUA   GUI   GUM   GUY   HAI   HKG   HON   HUN \n",
       "   40  9830   359  3181    54   425    73   112   102   106   685   189  6607 \n",
       "  INA   IND   IOA   IRI   IRL   IRQ   ISL   ISR   ISV   ITA   IVB   JAM   JOR \n",
       "  412  1408    94   789  1325   232   627   665   294 10715    45   848    80 \n",
       "  JPN   KAZ   KEN   KGZ   KIR   KOR   KOS   KSA   KUW   LAO   LAT   LBA   LBR \n",
       " 8444  1429   772   227    11  4464     8   230   284    54   951    84    74 \n",
       "  LCA   LES   LIB   LIE   LTU   LUX   MAD   MAL   MAR   MAS   MAW   MDA   MDV \n",
       "   28    66   329   369   654   996   119    45   682   530    87   234    49 \n",
       "  MEX   MGL   MHL   MKD   MLI   MLT   MNE   MON   MOZ   MRI   MTN   MYA   NAM \n",
       " 2880   550    14    84    92   118    94   197    78   144    29   111    77 \n",
       "  NBO   NCA   NED   NEP   NFL   NGR   NIG   NOR   NRU   NZL   OMA   PAK   PAN \n",
       "    2   129  5839    94     1   882    47  4960    13  2342    66   562   139 \n",
       "  PAR   PER   PHI   PLE   PLW   PNG   POL   POR   PRK   PUR   QAT   RHO   ROT \n",
       "  135   532   694    21    25   108  6207  1522   807   927   192    12    12 \n",
       "  ROU   RSA   RUS   RWA   SAA   SAM   SCG   SEN   SEY   SGP   SKN   SLE   SLO \n",
       " 4405  1711  5143    56    93    63   321   393   111   349    42   114  1111 \n",
       "  SMR   SOL   SOM   SRB   SRI   SSD   STP   SUD   SUI   SUR   SVK   SWE   SWZ \n",
       "  181    27    32   392   146     3    15   107  6150    69  1055  8339    67 \n",
       "  SYR   TAN   TCH   TGA   THA   TJK   TKM   TLS   TOG   TPE   TTO   TUN   TUR \n",
       "  156   161  4404    46   747    70    54     9    59  1097   375   561  1356 \n",
       "  TUV   UAE   UAR   UGA   UKR   UNK   URS   URU   USA   UZB   VAN   VEN   VIE \n",
       "    7   144   123   260  2559     2  5685   576 18853   495    35   925   154 \n",
       "  VIN   VNM   WIF   YAR   YEM   YMD   YUG   ZAM   ZIM \n",
       "   42    62    20    11    32     5  2583   183   311 "
      ]
     },
     "metadata": {},
     "output_type": "display_data"
    }
   ],
   "source": [
    "table(eventsDF$NOC)"
   ]
  },
  {
   "cell_type": "code",
   "execution_count": 8,
   "id": "b26efcea-1712-4073-81c2-0fa99dd14190",
   "metadata": {},
   "outputs": [
    {
     "data": {
      "text/plain": [
       "\n",
       "  USA   FRA   GBR   ITA   GER   CAN   JPN   SWE   AUS   HUN   POL   SUI   NED \n",
       "18853 12758 12256 10715  9830  9733  8444  8339  7638  6607  6207  6150  5839 \n",
       "  URS   FIN   ESP   RUS   AUT   CHN   NOR   KOR   ROU   TCH   BEL   BRA   DEN \n",
       " 5685  5467  5313  5143  5141  5141  4960  4464  4405  4404  3857  3848  3570 \n",
       "  BUL   FRG   ARG   GRE   MEX   GDR   YUG   UKR   CUB   NZL   CZE   BLR   RSA \n",
       " 3530  3315  3297  3181  2880  2645  2583  2559  2479  2342  1874  1787  1711 \n",
       "  EGY   POR   KAZ   IND   TUR   IRL   SLO   TPE   COL   SVK   LUX   LAT   PUR \n",
       " 1622  1522  1429  1408  1356  1325  1111  1097  1069  1055   996   951   927 \n",
       "  CHI   VEN   NGR   CRO   EST   EUN   JAM   PRK   IRI   KEN   THA   PHI   HKG \n",
       "  925   925   882   876   876   864   848   807   789   772   747   694   685 \n",
       "  MAR   ISR   LTU   ISL   URU   PAK   TUN   ALG   MGL   PER   MAS   UZB   GUA \n",
       "  682   665   654   627   576   562   561   551   550   532   530   495   425 \n",
       "  INA   SEN   SRB   ETH   TTO   BAH   LIE   GHA   SGP   LIB   SCG   CMR   ZIM \n",
       "  412   393   392   378   375   374   369   359   349   329   321   312   311 \n",
       "  ISV   GEO   KUW   AZE   DOM   ECU   ANG   CRC   UGA   MDA   FIJ   IRQ   KSA \n",
       "  294   286   284   283   277   277   267   264   260   234   232   232   230 \n",
       "  KGZ   CYP   ARM   BAR   ESA   BER   MON   CIV   QAT   HON   ZAM   SMR   AND \n",
       "  227   225   221   219   218   212   197   193   192   189   183   181   169 \n",
       "  TAN   SYR   VIE   BOH   BOL   SRI   MRI   UAE   PAN   PAR   BIH   ANT   NCA \n",
       "  161   156   154   153   152   146   144   144   139   135   134   133   129 \n",
       "  AFG   BRN   UAR   MAD   MLT   SLE   GUM   MYA   SEY   PNG   SUD   HAI   CGO \n",
       "  126   126   123   119   118   114   112   111   111   108   107   106   105 \n",
       "  GUY   IOA   MNE   NEP   COD   SAA   MLI   BOT   MAW   ANZ   LBA   MKD   CAY \n",
       "  102    94    94    94    93    93    92    90    87    86    84    84    83 \n",
       "  JOR   AHO   MOZ   NAM   BIZ   LBR   GUI   BEN   ALB   TJK   SUR   CAF   SWZ \n",
       "   80    79    78    77    76    74    73    71    70    70    69    67    67 \n",
       "  LES   OMA   CAM   GAB   SAM   VNM   TOG   GAM   RWA   BAN   GRN   LAO   TKM \n",
       "   66    66    63    63    63    62    59    56    56    55    54    54    54 \n",
       "  MDV   NIG   TGA   IVB   MAL   BUR   ERI   ARU   SKN   VIN   CHA   COK   GEQ \n",
       "   49    47    46    45    45    44    43    42    42    42    41    40    40 \n",
       "  BDI   DJI   ASA   BHU   VAN   SOM   YEM   MTN   LCA   SOL   FSM   PLW   GBS \n",
       "   39    38    37    36    35    32    32    29    28    27    26    25    21 \n",
       "  PLE   WIF   COM   DMA   CPV   STP   MHL   NRU   RHO   ROT   CRT   KIR   YAR \n",
       "   21    20    19    19    18    15    14    13    12    12    11    11    11 \n",
       "  BRU   TLS   KOS   TUV   YMD   SSD   NBO   UNK   NFL \n",
       "   10     9     8     7     5     3     2     2     1 "
      ]
     },
     "metadata": {},
     "output_type": "display_data"
    }
   ],
   "source": [
    "sort(table(eventsDF$NOC), decreasing = TRUE)"
   ]
  },
  {
   "cell_type": "markdown",
   "id": "b456e57c-4a12-464b-999a-ef2df5af80c1",
   "metadata": {},
   "source": [
    "a) shown above\n",
    "\n",
    "b) shown above\n",
    "\n",
    "c) shown above "
   ]
  },
  {
   "cell_type": "markdown",
   "id": "fc601975-35ed-4680-a4e1-0273ee3cc047",
   "metadata": {},
   "source": [
    "## Question 2"
   ]
  },
  {
   "cell_type": "code",
   "execution_count": 13,
   "id": "a16336a1-1ef0-41e8-bc7c-49387db27497",
   "metadata": {},
   "outputs": [
    {
     "data": {
      "text/plain": [
       "[1] 175.339"
      ]
     },
     "metadata": {},
     "output_type": "display_data"
    }
   ],
   "source": [
    "mean(eventsDF$Height, na.rm = TRUE)"
   ]
  },
  {
   "cell_type": "code",
   "execution_count": 17,
   "id": "647360be-2898-407c-b114-e8c85534416c",
   "metadata": {},
   "outputs": [
    {
     "data": {
      "text/plain": [
       "     SCG      SRB      CRO      MNE      LTU      ISL      UAR      MLI \n",
       "187.5114 184.6352 183.6132 183.5638 182.0995 181.2454 181.0000 180.6066 \n",
       "     SEN      LAT      CAY      NED      TGA      EST      CAF      DEN \n",
       "180.1789 179.6445 179.5068 179.4889 179.3056 179.3019 179.2766 179.2010 \n",
       "     YUG      BIH      IVB      TUN      QAT      ANG      SVK      CZE \n",
       "178.6461 178.6339 178.6316 178.5284 178.3256 178.2041 178.1702 178.1694 \n",
       "     EGY      KGZ      NOR      WIF      SWE      ISV      NZL      RSA \n",
       "178.1045 178.0750 178.0024 178.0000 177.9421 177.9333 177.8329 177.7854 \n",
       "     FRG      BRA      BAH      FIJ      BER      PUR      AUT      GER \n",
       "177.6418 177.6371 177.4407 177.4203 177.4058 177.3762 177.3697 177.3445 \n",
       "     AHO      SLO      EUN      VIN      SLE      IOA      TTO      USA \n",
       "177.2941 177.2267 177.0696 177.0435 177.0396 177.0294 176.9741 176.8869 \n",
       "     AUS      GRE      ANZ      CYP      IRL      ARG      BAR      GUM \n",
       "176.8740 176.7833 176.7308 176.6754 176.6143 176.6047 176.5990 176.5854 \n",
       "     PAR      CHA      SMR      CIV      URU      MON      RUS      JAM \n",
       "176.5842 176.5588 176.5287 176.4151 176.3536 176.2609 176.2144 176.1685 \n",
       "     BEL      MDA      UZB      BUR      SOM      CPV      HUN      BOT \n",
       "176.1432 176.0180 176.0153 176.0000 176.0000 175.8889 175.8815 175.8095 \n",
       "     FIN      GBR      ASA      GDR      SEY      KAZ      COD      ITA \n",
       "175.7579 175.7225 175.6667 175.5531 175.5000 175.4657 175.3582 175.2989 \n",
       "     LIE      POL      FRA      SUI      SKN      GRN      ANT      URS \n",
       "175.2826 175.2650 175.2547 175.2216 175.2051 175.1667 175.1217 175.0632 \n",
       "     BIZ      GEO      YMD      CHI      CAN      ESP      TCH      CUB \n",
       "175.0548 175.0105 175.0000 174.9870 174.9787 174.9217 174.9180 174.9082 \n",
       "     MKD      DMA      LCA      IRI      SAM      NGR      ALG      CGO \n",
       "174.8904 174.8889 174.8889 174.8490 174.8261 174.7183 174.7029 174.5854 \n",
       "     TJK      KUW      GUY      SYR      MRI      CRC      BLR      UKR \n",
       "174.5692 174.5000 174.4762 174.4545 174.3423 174.3048 174.2564 174.1875 \n",
       "     VEN      BOH      HAI      PAK      SUD      IRQ      GHA      LUX \n",
       "174.1441 174.0000 173.9306 173.9101 173.9022 173.8896 173.8812 173.8726 \n",
       "     TUR      AND      BEN      CMR      LBR      MTN      MAR      HON \n",
       "173.8147 173.7037 173.6833 173.6346 173.6111 173.6071 173.5932 173.5468 \n",
       "     PER      POR      KOS      BRN      DJI      ZIM      LIB      SSD \n",
       "173.5452 173.5250 173.5000 173.4245 173.4194 173.3646 173.3632 173.3333 \n",
       "     ISR      TKM      ARU      JOR      KSA      ALB      GUI      NAM \n",
       "173.2453 173.2453 173.2195 173.1884 173.1444 173.0000 172.8871 172.8592 \n",
       "     BUL      ZAM      AZE      TOG      UAE      BDI      MOZ      CHN \n",
       "172.8309 172.8281 172.7174 172.6981 172.6538 172.6316 172.6316 172.6027 \n",
       "     ROU      NIG      STP      DOM      HKG      UGA      KOR      KEN \n",
       "172.5536 172.4000 172.3333 172.2170 172.2144 172.0583 171.9923 171.9815 \n",
       "     ARM      MEX      PAN      IND      SWZ      GAB      SUR      COK \n",
       "171.9378 171.9121 171.8824 171.6386 171.5273 171.5000 171.3684 171.3243 \n",
       "     BOL      GUA      ECU      SGP      COM      AFG      GAM      MAS \n",
       "171.2957 171.1489 171.1429 171.0766 170.8667 170.5926 170.5500 170.4903 \n",
       "     PNG      PHI      GEQ      ETH      NFL      ERI      MLT      ROT \n",
       "170.4257 170.2681 170.2609 170.2301 170.0000 169.9459 169.9186 169.9167 \n",
       "     COL      NCA      PLE      OMA      TAN      SRI      TPE      ESA \n",
       "169.9152 169.6667 169.6667 169.6562 169.6376 169.6260 169.6224 169.5607 \n",
       "     GBS      RHO      VAN      SOL      MGL      MHL      LBA      MAD \n",
       "169.5000 169.3333 169.2903 169.2308 169.1335 168.5385 168.4655 168.4643 \n",
       "     THA      JPN      YEM      RWA      INA      YAR      LES      MAL \n",
       "168.3542 168.2282 167.9600 167.9167 167.4882 167.4000 167.2549 167.2500 \n",
       "     NRU      KIR      CAM      BHU      LAO      BAN      BRU      MYA \n",
       "167.1818 166.9091 166.7193 166.5172 166.4314 166.1875 166.1111 166.1064 \n",
       "     MAW      VNM      TUV      PLW      VIE      NEP      MDV      PRK \n",
       "165.9500 165.7632 165.7500 165.4583 165.1370 163.9059 163.7619 161.5580 \n",
       "     TLS      FSM      SAA \n",
       "161.4444 161.2400 159.6667 "
      ]
     },
     "metadata": {},
     "output_type": "display_data"
    }
   ],
   "source": [
    "sort(tapply(eventsDF$Height, eventsDF$NOC, mean, na.rm = TRUE), decreasing = TRUE)"
   ]
  },
  {
   "cell_type": "code",
   "execution_count": 22,
   "id": "3c746238-94bb-4268-9f57-72230eb83805",
   "metadata": {},
   "outputs": [
    {
     "name": "stderr",
     "output_type": "stream",
     "text": [
      "Warning message in FUN(X[[i]], ...):\n",
      "\"no non-missing arguments to max; returning -Inf\"\n",
      "Warning message in FUN(X[[i]], ...):\n",
      "\"no non-missing arguments to max; returning -Inf\"\n"
     ]
    },
    {
     "data": {
      "text/plain": [
       " USA  GBR  CAN  FRA  GER  AUT  BEL  NED  DEN  LAT  SWE  ITA  JPN  POL  URU  BAH \n",
       "  97   84   81   81   80   76   74   74   73   72   72   71   71   71   71   70 \n",
       " BIZ  BUL  IRL  ESA  SUI  ESP  IND  PHI  MON  PUR  TCH  ISV  AUS  ISL  IVB  NOR \n",
       "  70   70   69   68   67   66   66   66   65   65   65   63   62   62   62   62 \n",
       " NZL  VAN  AND  BAR  ARG  FIN  FRG  VEN  RSA  SGP  CUB  HUN  POR  THA  BLR  MEX \n",
       "  62   62   61   61   60   60   60   60   59   59   58   58   58   58   57   57 \n",
       " PER  ROU  BRA  FIJ  GRE  AHO  BER  BOL  PAR  AZE  HKG  JAM  MAR  PLE  YUG  ZIM \n",
       "  57   57   56   56   56   55   55   55   55   54   54   54   54   54   54   54 \n",
       " LIB  LUX  TPE  COL  IOA  KAZ  RUS  TUR  ANG  ECU  PAN  UKR  CHI  CRC  JOR  SYR \n",
       "  53   53   53   52   52   52   52   52   51   51   51   51   50   50   50   50 \n",
       " WIF  ARU  DOM  EGY  GUA  MAS  OMA  SLO  URS  BOT  CRO  CZE  GUM  INA  KOR  KUW \n",
       "  50   49   49   49   49   49   49   49   49   48   48   48   48   48   48   48 \n",
       " LTU  NAM  VIE  DMA  GEO  PAK  RHO  SMR  ALB  CYP  EST  ISR  MLT  SAM  SEN  SRB \n",
       "  48   48   48   47   47   47   47   47   46   46   46   46   46   46   46   46 \n",
       " TUN  CAY  CHN  CIV  KEN  PRK  QAT  SCG  BIH  CAM  LIE  MGL  MYA  NEP  SRI  SVK \n",
       "  46   45   45   45   45   45   45   45   44   44   44   44   44   44   44   44 \n",
       " TJK  UAE  ASA  BRN  IRI  KGZ  MDA  MNE  SAA  TGA  TTO  VNM  BOH  CAF  EUN  GEQ \n",
       "  44   44   43   43   43   43   43   43   43   43   43   43   42   42   42   42 \n",
       " KSA  LCA  MAW  MOZ  SWZ  ARM  BHU  MRI  NGR  PNG  SLE  UGA  UZB  CGO  ETH  GDR \n",
       "  42   42   42   42   42   41   41   41   41   41   41   41   41   40   40   40 \n",
       " NCA  RWA  SKN  DJI  HON  MAL  SEY  SUR  ALG  ANT  CPV  GHA  GUI  HAI  LBA  PLW \n",
       "  40   40   40   39   39   39   39   39   38   38   38   38   38   38   38   38 \n",
       " STP  BEN  BUR  ERI  MLI  TAN  COD  FSM  GAB  GAM  GBS  LES  MKD  ROT  TKM  UAR \n",
       "  38   37   37   37   37   37   36   36   36   36   36   36   36   36   36   36 \n",
       " AFG  BDI  CMR  COK  NIG  SUD  GUY  IRQ  LBR  MAD  ZAM  ANZ  COM  GRN  LAO  SOL \n",
       "  35   35   35   35   35   35   34   34   34   34   34   33   33   33   33   33 \n",
       " YMD  BAN  KIR  MTN  SSD  TLS  TOG  YEM  CHA  MHL  SOM  YAR  NRU  VIN  KOS  MDV \n",
       "  33   32   32   32   32   32   32   32   31   31   31   31   30   30   29   29 \n",
       " BRU  NBO  TUV  NFL  CRT  UNK \n",
       "  27   24   24   21 -Inf -Inf "
      ]
     },
     "metadata": {},
     "output_type": "display_data"
    }
   ],
   "source": [
    "sort(tapply(eventsDF$Age, eventsDF$NOC, max, na.rm = TRUE), decreasing = TRUE)"
   ]
  },
  {
   "cell_type": "code",
   "execution_count": 23,
   "id": "b9c1c85c-5433-4a3c-b29e-f2e6aee781a6",
   "metadata": {},
   "outputs": [
    {
     "data": {
      "text/plain": [
       "      USA       CAN       GBR       FRA       ITA       GER       AUS       JPN \n",
       "1038127.3  566079.5  559131.0  558463.5  548203.0  531618.0  480131.0  474541.0 \n",
       "      POL       SWE       URS       RUS       HUN       CHN       FIN       ESP \n",
       " 407927.0  390374.5  353036.0  341198.0  339669.5  324678.5  312835.0  303010.5 \n",
       "      SUI       NED       KOR       ROU       AUT       FRG       BRA       NOR \n",
       " 293815.0  275614.0  259693.0  238362.5  236443.0  236416.0  231289.0  224803.0 \n",
       "      BUL       TCH       GDR       UKR       ARG       CUB       MEX       NZL \n",
       " 207891.5  195994.0  183501.5  167254.0  165680.0  162732.7  152596.5  144437.0 \n",
       "      GRE       CZE       DEN       BEL       YUG       BLR       KAZ       RSA \n",
       " 138550.5  137009.0  126779.0  124957.0  123557.0  118753.5   95243.0   78244.0 \n",
       "      SVK       POR       SLO       IRL       EGY       TPE       CRO       TUR \n",
       "  76811.0   75397.5   74403.0   73131.0   69892.5   68742.0   68158.0   68067.0 \n",
       "      COL       LAT       EST       IND       JAM       VEN       PUR       NGR \n",
       "  62784.5   61363.0   59692.5   58881.5   56676.0   55309.0   53990.0   53659.0 \n",
       "      EUN       IRI       LTU       KEN       THA       HKG       MAR       ISR \n",
       "  52790.0   51584.0   46439.0   45150.0   41678.5   40202.0   40010.0   39447.0 \n",
       "      TUN       PRK       CHI       UZB       ISL       ALG       PHI       MGL \n",
       "  38956.0   37541.0   37153.0   33673.5   33629.0   33591.0   32656.5   32396.0 \n",
       "      SRB       LUX       MAS       PER       PAK       SEN       BAH       SCG \n",
       "  31408.0   30248.0   29799.0   28786.0   26195.0   25849.0   25681.0   25509.0 \n",
       "      TTO       URU       GEO       INA       GUA       GHA       ETH       ZIM \n",
       "  25429.5   25297.0   21718.0   21242.0   21085.0   20914.0   20157.0   19698.0 \n",
       "      LIE       CMR       AZE       ANG       ISV       ECU       SGP       KUW \n",
       "  19416.0   18988.0   18733.0   18165.0   17619.0   17238.0   16829.0   16552.5 \n",
       "      MDA       FIJ       LIB       ARM       DOM       KGZ       UGA       CRC \n",
       "  16447.0   16166.0   16158.0   15419.5   14805.0   14734.0   14422.0   14226.0 \n",
       "      BAR       CYP       IRQ       QAT       KSA       SMR       CIV       ESA \n",
       "  13899.0   13668.0   12917.0   12894.0   12442.0   11546.0   11300.0   10909.0 \n",
       "      MON       BER       TAN       AND       HON       ZAM       UAE       BIH \n",
       "  10630.0    9850.0    9645.0    9537.0    9384.0    9179.0    8786.0    8706.0 \n",
       "      VIE       PAN       MNE       MRI       ANT       SRI       PAR       BOL \n",
       "   8462.0    8270.0    7974.0    7690.0    7676.0    7516.0    7497.0    7464.0 \n",
       "      BRN       SEY       MAD       SLE       PNG       SYR       GUM       SUD \n",
       "   7152.0    6924.0    6898.0    6819.0    6625.0    6546.0    6155.0    6133.0 \n",
       "      GUY       MYA       BOT       MLT       NCA       CAY       CGO       MAW \n",
       "   5971.0    5717.0    5664.0    5634.0    5534.0    5475.0    5445.0    5242.0 \n",
       "      HAI       NEP       MKD       BIZ       IOA       TJK       JOR       NAM \n",
       "   5144.0    5017.0    4992.0    4984.0    4984.0    4948.0    4733.5    4588.0 \n",
       "      ALB       COD       SAM       GUI       GAB       OMA       LBA       AFG \n",
       "   4361.0    4281.0    4245.5    4229.0    4205.0    4166.0    4099.0    4020.0 \n",
       "      BEN       AHO       TKM       TGA       SWZ       SUR       MLI       TOG \n",
       "   4000.0    3885.0    3797.0    3724.0    3663.0    3633.0    3594.0    3545.0 \n",
       "      LBR       CAM       CAF       MOZ       LES       IVB       LAO       BAN \n",
       "   3492.0    3435.0    3249.0    3241.0    3168.0    2952.0    2948.0    2944.0 \n",
       "      COK       ARU       GAM       SKN       BUR       GRN       MDV       BDI \n",
       "   2936.0    2919.0    2818.0    2720.0    2680.0    2431.0    2309.0    2304.0 \n",
       "      CHA       RWA       VNM       ASA       ERI       MTN       VAN       DJI \n",
       "   2238.0    2225.0    2219.0    2111.0    2074.0    1954.0    1875.0    1816.0 \n",
       "      LCA       BHU       SOM       GEQ       PLW       NIG       VIN       FSM \n",
       "   1769.0    1749.0    1739.0    1627.0    1619.0    1611.0    1535.0    1521.0 \n",
       "      YEM       WIF       GBS       NRU       DMA       SOL       PLE       CPV \n",
       "   1492.0    1443.0    1342.0    1246.0    1215.0    1162.0    1137.0    1133.0 \n",
       "      MAL       COM       STP       MHL       KIR       RHO       ANZ       ROT \n",
       "    962.5     959.0     953.0     914.0     862.0     785.0     772.0     761.0 \n",
       "      UAR       YAR       BRU       KOS       TUV       TLS       SSD       YMD \n",
       "    666.0     656.0     594.0     511.0     369.0     333.0     190.0     190.0 \n",
       "      SAA       NFL       BOH       CRT       NBO       UNK \n",
       "    165.0      57.0       0.0       0.0       0.0       0.0 "
      ]
     },
     "metadata": {},
     "output_type": "display_data"
    }
   ],
   "source": [
    "sort(tapply(eventsDF$Weight, eventsDF$NOC, sum, na.rm = TRUE), decreasing = TRUE)"
   ]
  },
  {
   "cell_type": "markdown",
   "id": "f5ab2906-6e92-4798-b81d-7e7e648679c2",
   "metadata": {},
   "source": [
    "a) shown above\n",
    "\n",
    "b) shown above\n",
    "\n",
    "c) shown above"
   ]
  },
  {
   "cell_type": "markdown",
   "id": "8e586edd-ff26-4ce2-8f6b-2424b26f2929",
   "metadata": {},
   "source": [
    "## Question 3"
   ]
  },
  {
   "cell_type": "code",
   "execution_count": 25,
   "id": "bbe0f40d-9655-4653-9ca8-886bdb61cb91",
   "metadata": {},
   "outputs": [],
   "source": [
    "drDF <- read.csv(\"/anvil/projects/tdm/data/death_records/DeathRecords.csv\")"
   ]
  },
  {
   "cell_type": "code",
   "execution_count": 26,
   "id": "a84a86dc-187b-45ec-b3d1-aa59c2b11eca",
   "metadata": {},
   "outputs": [
    {
     "data": {
      "text/plain": [
       "  Id ResidentStatus Education1989Revision Education2003Revision\n",
       "1 1  1              0                     2                    \n",
       "2 2  1              0                     2                    \n",
       "3 3  1              0                     7                    \n",
       "4 4  1              0                     6                    \n",
       "5 5  1              0                     3                    \n",
       "6 6  1              0                     5                    \n",
       "  EducationReportingFlag MonthOfDeath Sex AgeType Age AgeSubstitutionFlag\n",
       "1 1                      1            M   1       87  0                  \n",
       "2 1                      1            M   1       58  0                  \n",
       "3 1                      1            F   1       75  0                  \n",
       "4 1                      1            M   1       74  0                  \n",
       "5 1                      1            M   1       64  0                  \n",
       "6 1                      1            F   1       93  0                  \n",
       "  AgeRecode52 AgeRecode27 AgeRecode12 ... CauseRecode113 InfantCauseRecode130\n",
       "1 43          23          11          ...  70            0                   \n",
       "2 37          17           8          ...  62            0                   \n",
       "3 41          21          10          ...  86            0                   \n",
       "4 40          20           9          ...  68            0                   \n",
       "5 38          18           8          ...  62            0                   \n",
       "6 44          24          11          ... 111            0                   \n",
       "  CauseRecode39 NumberOfEntityAxisConditions NumberOfRecordAxisConditions Race\n",
       "1 24            1                            1                            1   \n",
       "2 21            3                            3                            1   \n",
       "3 28            2                            2                            1   \n",
       "4 22            3                            3                            1   \n",
       "5 21            1                            1                            1   \n",
       "6 37            5                            5                            1   \n",
       "  BridgedRaceFlag RaceImputationFlag RaceRecode3 RaceRecode5 HispanicOrigin\n",
       "1 0               0                  1           1           100           \n",
       "2 0               0                  1           1           100           \n",
       "3 0               0                  1           1           100           \n",
       "4 0               0                  1           1           100           \n",
       "5 0               0                  1           1           100           \n",
       "6 0               0                  1           1           100           \n",
       "  HispanicOriginRaceRecode\n",
       "1 6                       \n",
       "2 6                       \n",
       "3 6                       \n",
       "4 6                       \n",
       "5 6                       \n",
       "6 6                       "
      ]
     },
     "metadata": {},
     "output_type": "display_data"
    }
   ],
   "source": [
    "head(drDF)"
   ]
  },
  {
   "cell_type": "code",
   "execution_count": 27,
   "id": "9aa98bf2-5ad0-4fb5-9b6b-14567fddfc7a",
   "metadata": {},
   "outputs": [
    {
     "name": "stdout",
     "output_type": "stream",
     "text": [
      "'data.frame':\t2631171 obs. of  38 variables:\n",
      " $ Id                            : int  1 2 3 4 5 6 7 8 9 10 ...\n",
      " $ ResidentStatus                : int  1 1 1 1 1 1 1 1 1 1 ...\n",
      " $ Education1989Revision         : int  0 0 0 0 0 0 0 0 0 0 ...\n",
      " $ Education2003Revision         : int  2 2 7 6 3 5 4 4 3 3 ...\n",
      " $ EducationReportingFlag        : int  1 1 1 1 1 1 1 1 1 1 ...\n",
      " $ MonthOfDeath                  : int  1 1 1 1 1 1 1 1 1 1 ...\n",
      " $ Sex                           : chr  \"M\" \"M\" \"F\" \"M\" ...\n",
      " $ AgeType                       : int  1 1 1 1 1 1 1 1 1 1 ...\n",
      " $ Age                           : int  87 58 75 74 64 93 82 55 86 23 ...\n",
      " $ AgeSubstitutionFlag           : int  0 0 0 0 0 0 0 0 0 0 ...\n",
      " $ AgeRecode52                   : int  43 37 41 40 38 44 42 37 43 30 ...\n",
      " $ AgeRecode27                   : int  23 17 21 20 18 24 22 17 23 10 ...\n",
      " $ AgeRecode12                   : int  11 8 10 9 8 11 10 8 11 4 ...\n",
      " $ InfantAgeRecode22             : int  0 0 0 0 0 0 0 0 0 0 ...\n",
      " $ PlaceOfDeathAndDecedentsStatus: int  4 4 4 6 4 6 4 7 4 7 ...\n",
      " $ MaritalStatus                 : chr  \"M\" \"D\" \"W\" \"D\" ...\n",
      " $ DayOfWeekOfDeath              : int  4 3 2 1 2 4 6 6 6 4 ...\n",
      " $ CurrentDataYear               : int  2014 2014 2014 2014 2014 2014 2014 2014 2014 2014 ...\n",
      " $ InjuryAtWork                  : chr  \"U\" \"U\" \"U\" \"U\" ...\n",
      " $ MannerOfDeath                 : int  7 7 7 7 7 7 7 7 7 2 ...\n",
      " $ MethodOfDisposition           : chr  \"C\" \"C\" \"C\" \"C\" ...\n",
      " $ Autopsy                       : chr  \"N\" \"N\" \"N\" \"N\" ...\n",
      " $ ActivityCode                  : int  99 99 99 99 99 99 99 99 99 9 ...\n",
      " $ PlaceOfInjury                 : int  99 99 99 99 99 99 99 99 99 5 ...\n",
      " $ Icd10Code                     : chr  \"I64\" \"I250\" \"J449\" \"I48\" ...\n",
      " $ CauseRecode358                : int  238 214 267 228 214 280 215 214 175 429 ...\n",
      " $ CauseRecode113                : int  70 62 86 68 62 111 63 62 111 125 ...\n",
      " $ InfantCauseRecode130          : int  0 0 0 0 0 0 0 0 0 0 ...\n",
      " $ CauseRecode39                 : int  24 21 28 22 21 37 21 21 37 40 ...\n",
      " $ NumberOfEntityAxisConditions  : int  1 3 2 3 1 5 4 2 1 3 ...\n",
      " $ NumberOfRecordAxisConditions  : int  1 3 2 3 1 5 3 2 1 3 ...\n",
      " $ Race                          : int  1 1 1 1 1 1 1 2 1 1 ...\n",
      " $ BridgedRaceFlag               : int  0 0 0 0 0 0 0 1 0 0 ...\n",
      " $ RaceImputationFlag            : int  0 0 0 0 0 0 0 0 0 0 ...\n",
      " $ RaceRecode3                   : int  1 1 1 1 1 1 1 3 1 1 ...\n",
      " $ RaceRecode5                   : int  1 1 1 1 1 1 1 2 1 1 ...\n",
      " $ HispanicOrigin                : int  100 100 100 100 100 100 100 100 100 100 ...\n",
      " $ HispanicOriginRaceRecode      : int  6 6 6 6 6 6 6 7 6 6 ...\n"
     ]
    }
   ],
   "source": [
    "str(drDF)"
   ]
  },
  {
   "cell_type": "code",
   "execution_count": 32,
   "id": "c4e11e78-4f7e-4593-9bd6-4a54f5f097d4",
   "metadata": {},
   "outputs": [],
   "source": [
    "drDF$Weekdays <- (factor(drDF$DayOfWeekOfDeath, levels = c(1:7,9), labels = c(\"Sunday\", \"Monday\", \"Tuesday\", \"Wednesday\", \"Thursday\", \"Friday\", \"Saturday\", \"Unknown\")))"
   ]
  },
  {
   "cell_type": "code",
   "execution_count": 33,
   "id": "2ad9e55d-9f8d-4906-9f0a-947a0f092f65",
   "metadata": {},
   "outputs": [
    {
     "data": {
      "text/plain": [
       "  Id ResidentStatus Education1989Revision Education2003Revision\n",
       "1 1  1              0                     2                    \n",
       "2 2  1              0                     2                    \n",
       "3 3  1              0                     7                    \n",
       "4 4  1              0                     6                    \n",
       "5 5  1              0                     3                    \n",
       "6 6  1              0                     5                    \n",
       "  EducationReportingFlag MonthOfDeath Sex AgeType Age AgeSubstitutionFlag\n",
       "1 1                      1            M   1       87  0                  \n",
       "2 1                      1            M   1       58  0                  \n",
       "3 1                      1            F   1       75  0                  \n",
       "4 1                      1            M   1       74  0                  \n",
       "5 1                      1            M   1       64  0                  \n",
       "6 1                      1            F   1       93  0                  \n",
       "  AgeRecode52 AgeRecode27 AgeRecode12 ... InfantCauseRecode130 CauseRecode39\n",
       "1 43          23          11          ... 0                    24           \n",
       "2 37          17           8          ... 0                    21           \n",
       "3 41          21          10          ... 0                    28           \n",
       "4 40          20           9          ... 0                    22           \n",
       "5 38          18           8          ... 0                    21           \n",
       "6 44          24          11          ... 0                    37           \n",
       "  NumberOfEntityAxisConditions NumberOfRecordAxisConditions Race\n",
       "1 1                            1                            1   \n",
       "2 3                            3                            1   \n",
       "3 2                            2                            1   \n",
       "4 3                            3                            1   \n",
       "5 1                            1                            1   \n",
       "6 5                            5                            1   \n",
       "  BridgedRaceFlag RaceImputationFlag RaceRecode3 RaceRecode5 HispanicOrigin\n",
       "1 0               0                  1           1           100           \n",
       "2 0               0                  1           1           100           \n",
       "3 0               0                  1           1           100           \n",
       "4 0               0                  1           1           100           \n",
       "5 0               0                  1           1           100           \n",
       "6 0               0                  1           1           100           \n",
       "  HispanicOriginRaceRecode Weekdays \n",
       "1 6                        Wednesday\n",
       "2 6                        Tuesday  \n",
       "3 6                        Monday   \n",
       "4 6                        Sunday   \n",
       "5 6                        Monday   \n",
       "6 6                        Wednesday"
      ]
     },
     "metadata": {},
     "output_type": "display_data"
    }
   ],
   "source": [
    "head(drDF)"
   ]
  },
  {
   "cell_type": "code",
   "execution_count": 34,
   "id": "8e72380d-a99d-4a99-b996-50818b05fe23",
   "metadata": {},
   "outputs": [
    {
     "data": {
      "text/plain": [
       "[1] 4 3 2 1 2 4"
      ]
     },
     "metadata": {},
     "output_type": "display_data"
    }
   ],
   "source": [
    "head(drDF$DayOfWeekOfDeath)"
   ]
  },
  {
   "cell_type": "code",
   "execution_count": 35,
   "id": "05dc342c-1c96-4f6b-8137-2c0872ce211f",
   "metadata": {},
   "outputs": [
    {
     "data": {
      "text/plain": [
       "\n",
       "   Sunday    Monday   Tuesday Wednesday  Thursday    Friday  Saturday   Unknown \n",
       "   372388    375854    372792    380526    372464    378949    378070       128 "
      ]
     },
     "metadata": {},
     "output_type": "display_data"
    }
   ],
   "source": [
    "table(drDF$Weekdays)"
   ]
  },
  {
   "cell_type": "markdown",
   "id": "47c6229f-35f7-400c-8366-c442baa5cf47",
   "metadata": {},
   "source": [
    "a) shown above\n",
    "\n",
    "b) shown above\n",
    "\n",
    "c) shown above"
   ]
  },
  {
   "cell_type": "markdown",
   "id": "da22f29c-d245-4d2b-9fc1-ca14cb6087d9",
   "metadata": {},
   "source": [
    "## Question 4"
   ]
  },
  {
   "cell_type": "code",
   "execution_count": 36,
   "id": "8cffc767-d1c8-4d64-b7dc-f0d2ee8a80d1",
   "metadata": {},
   "outputs": [
    {
     "data": {
      "text/plain": [
       "       F        M \n",
       "76.67668 70.22786 "
      ]
     },
     "metadata": {},
     "output_type": "display_data"
    }
   ],
   "source": [
    "tapply(drDF$Age, drDF$Sex, mean, na.rm = TRUE)"
   ]
  },
  {
   "cell_type": "code",
   "execution_count": 39,
   "id": "cf461466-0981-492c-9ed1-a25ef57ed10d",
   "metadata": {},
   "outputs": [],
   "source": [
    "drFDF <- subset(drDF, drDF$Sex == \"F\")"
   ]
  },
  {
   "cell_type": "code",
   "execution_count": 46,
   "id": "2930de3f-0867-4efa-8258-88e9d6f112d0",
   "metadata": {},
   "outputs": [],
   "source": [
    "drMDF <- subset(drDF, drDF$Sex == \"M\")"
   ]
  },
  {
   "cell_type": "code",
   "execution_count": 45,
   "id": "f7775f6c-91c8-4044-b378-adbaebdb86b0",
   "metadata": {},
   "outputs": [
    {
     "data": {
      "text/plain": [
       "\n",
       "     D      M      S      U      W \n",
       "187807 324347 126868   5465 655223 "
      ]
     },
     "metadata": {},
     "output_type": "display_data"
    }
   ],
   "source": [
    "table(drFDF$MaritalStatus)"
   ]
  },
  {
   "cell_type": "code",
   "execution_count": 47,
   "id": "5a2b8f71-9c24-42c3-9364-43f42a8f4397",
   "metadata": {},
   "outputs": [
    {
     "data": {
      "text/plain": [
       "\n",
       "     D      M      S      U      W \n",
       "213152 655669 206175  13248 243217 "
      ]
     },
     "metadata": {},
     "output_type": "display_data"
    }
   ],
   "source": [
    "table(drMDF$MaritalStatus)"
   ]
  },
  {
   "cell_type": "code",
   "execution_count": 49,
   "id": "92d84315-8553-4c7f-9e84-fb55e8fb4021",
   "metadata": {},
   "outputs": [
    {
     "data": {
      "text/plain": [
       "$F\n",
       "\n",
       "     D      M      S      U      W \n",
       "187807 324347 126868   5465 655223 \n",
       "\n",
       "$M\n",
       "\n",
       "     D      M      S      U      W \n",
       "213152 655669 206175  13248 243217 \n"
      ]
     },
     "metadata": {},
     "output_type": "display_data"
    }
   ],
   "source": [
    "tapply(drDF$MaritalStatus, drDF$Sex, table)"
   ]
  },
  {
   "cell_type": "markdown",
   "id": "0d552245-b4d6-474a-9cc9-fa7b8e674d55",
   "metadata": {},
   "source": [
    "a) shown above\n",
    "\n",
    "b) shown above\n",
    "\n",
    "c) shown above"
   ]
  },
  {
   "cell_type": "markdown",
   "id": "88c9cdac-3e92-498f-83fa-e089bfc44ac8",
   "metadata": {},
   "source": [
    "## Question 5"
   ]
  },
  {
   "cell_type": "code",
   "execution_count": 50,
   "id": "d370d7c9-06db-42b9-b75f-240481a5c491",
   "metadata": {},
   "outputs": [
    {
     "data": {
      "text/plain": [
       "  ID Name                     Sex Age Height Weight Team           NOC\n",
       "1 1  A Dijiang                M   24  180    80     China          CHN\n",
       "2 2  A Lamusi                 M   23  170    60     China          CHN\n",
       "3 3  Gunnar Nielsen Aaby      M   24   NA    NA     Denmark        DEN\n",
       "4 4  Edgar Lindenau Aabye     M   34   NA    NA     Denmark/Sweden DEN\n",
       "5 5  Christine Jacoba Aaftink F   21  185    82     Netherlands    NED\n",
       "6 5  Christine Jacoba Aaftink F   21  185    82     Netherlands    NED\n",
       "  Games       Year Season City      Sport        \n",
       "1 1992 Summer 1992 Summer Barcelona Basketball   \n",
       "2 2012 Summer 2012 Summer London    Judo         \n",
       "3 1920 Summer 1920 Summer Antwerpen Football     \n",
       "4 1900 Summer 1900 Summer Paris     Tug-Of-War   \n",
       "5 1988 Winter 1988 Winter Calgary   Speed Skating\n",
       "6 1988 Winter 1988 Winter Calgary   Speed Skating\n",
       "  Event                              Medal\n",
       "1 Basketball Men's Basketball        NA   \n",
       "2 Judo Men's Extra-Lightweight       NA   \n",
       "3 Football Men's Football            NA   \n",
       "4 Tug-Of-War Men's Tug-Of-War        Gold \n",
       "5 Speed Skating Women's 500 metres   NA   \n",
       "6 Speed Skating Women's 1,000 metres NA   "
      ]
     },
     "metadata": {},
     "output_type": "display_data"
    }
   ],
   "source": [
    "head(eventsDF)"
   ]
  },
  {
   "cell_type": "code",
   "execution_count": 96,
   "id": "2d2f7c6f-9522-4a61-b64f-508562277799",
   "metadata": {},
   "outputs": [],
   "source": [
    "height <- (eventsDF$Height)"
   ]
  },
  {
   "cell_type": "code",
   "execution_count": 100,
   "id": "fb0d9bb0-aba5-4f2f-9a27-025c8936f186",
   "metadata": {},
   "outputs": [],
   "source": [
    "weight <- (eventsDF$Weight)"
   ]
  },
  {
   "cell_type": "code",
   "execution_count": 101,
   "id": "962a8e05-2651-4143-bd64-ca7fae38dc07",
   "metadata": {},
   "outputs": [
    {
     "data": {
      "image/png": "[encoded data removed]",
      "text/plain": [
       "plot without title"
      ]
     },
     "metadata": {
      "image/png": {
       "height": 420,
       "width": 420
      }
     },
     "output_type": "display_data"
    }
   ],
   "source": [
    "plot(height, weight)"
   ]
  },
  {
   "cell_type": "code",
   "execution_count": 102,
   "id": "c9439744-3614-4239-9766-73df0472c1a1",
   "metadata": {},
   "outputs": [
    {
     "data": {
      "text/plain": [
       "  Id ResidentStatus Education1989Revision Education2003Revision\n",
       "1 1  1              0                     2                    \n",
       "2 2  1              0                     2                    \n",
       "3 3  1              0                     7                    \n",
       "4 4  1              0                     6                    \n",
       "5 5  1              0                     3                    \n",
       "6 6  1              0                     5                    \n",
       "  EducationReportingFlag MonthOfDeath Sex AgeType Age AgeSubstitutionFlag\n",
       "1 1                      1            M   1       87  0                  \n",
       "2 1                      1            M   1       58  0                  \n",
       "3 1                      1            F   1       75  0                  \n",
       "4 1                      1            M   1       74  0                  \n",
       "5 1                      1            M   1       64  0                  \n",
       "6 1                      1            F   1       93  0                  \n",
       "  AgeRecode52 AgeRecode27 AgeRecode12 ... InfantCauseRecode130 CauseRecode39\n",
       "1 43          23          11          ... 0                    24           \n",
       "2 37          17           8          ... 0                    21           \n",
       "3 41          21          10          ... 0                    28           \n",
       "4 40          20           9          ... 0                    22           \n",
       "5 38          18           8          ... 0                    21           \n",
       "6 44          24          11          ... 0                    37           \n",
       "  NumberOfEntityAxisConditions NumberOfRecordAxisConditions Race\n",
       "1 1                            1                            1   \n",
       "2 3                            3                            1   \n",
       "3 2                            2                            1   \n",
       "4 3                            3                            1   \n",
       "5 1                            1                            1   \n",
       "6 5                            5                            1   \n",
       "  BridgedRaceFlag RaceImputationFlag RaceRecode3 RaceRecode5 HispanicOrigin\n",
       "1 0               0                  1           1           100           \n",
       "2 0               0                  1           1           100           \n",
       "3 0               0                  1           1           100           \n",
       "4 0               0                  1           1           100           \n",
       "5 0               0                  1           1           100           \n",
       "6 0               0                  1           1           100           \n",
       "  HispanicOriginRaceRecode Weekdays \n",
       "1 6                        Wednesday\n",
       "2 6                        Tuesday  \n",
       "3 6                        Monday   \n",
       "4 6                        Sunday   \n",
       "5 6                        Monday   \n",
       "6 6                        Wednesday"
      ]
     },
     "metadata": {},
     "output_type": "display_data"
    }
   ],
   "source": [
    "head(drDF)"
   ]
  },
  {
   "cell_type": "code",
   "execution_count": 118,
   "id": "e6e8796e-1089-4a9a-874f-c948c406b43a",
   "metadata": {},
   "outputs": [
    {
     "data": {
      "image/png": "[encoded data removed]",
      "text/plain": [
       "plot without title"
      ]
     },
     "metadata": {
      "image/png": {
       "height": 420,
       "width": 420
      }
     },
     "output_type": "display_data"
    }
   ],
   "source": [
    "barplot(table(factor(drDF$MonthOfDeath, levels = c(1:12), labels = c(\"January\", \"February\", \"March\", \"April\", \"May\", \"June\", \"July\", \"August\", \"September\", \"October\", \"November\", \"December\"))))"
   ]
  },
  {
   "cell_type": "markdown",
   "id": "9fbf00fb-2418-460f-ae94-2a32b0c28952",
   "metadata": {},
   "source": [
    "a) On the first plot for the Events Dataframe, there is a positive almost linear relationship between height and weight. This is because as the height increases the weight also intends to increase and this makes sense in real life. This was interesting because it proves that a lot of the data is reliable since it makes sense in a real life context. The second plot (made from the death records Dateframe) displays to the the number of deaths sorted by which month the death occurred in. I made it a barplot because it makes it easy to visually compare the heights of the bars with each other. From this barplot, one can see that the largest numbers of deaths occurred in December and January.  "
   ]
  },
  {
   "cell_type": "markdown",
   "id": "f76442d6-d02e-4f26-b9d6-c3183e1d6929",
   "metadata": {},
   "source": [
    "## Pledge\n",
    "\n",
    "By submitting this work I hereby pledge that this is my own, personal work. I've acknowledged in the designated place at the top of this file all sources that I used to complete said work, including but not limited to: online resources, books, and electronic communications. I've noted all collaboration with fellow students and/or TA's. I did not copy or plagiarize another's work.\n",
    "\n",
    "> As a Boilermaker pursuing academic excellence, I pledge to be honest and true in all that I do. Accountable together – We are Purdue."
   ]
  },
  {
   "cell_type": "code",
   "execution_count": null,
   "id": "39b94f54-b026-485a-b746-058d3c676671",
   "metadata": {},
   "outputs": [],
   "source": []
  }
 ],
 "metadata": {
  "kernelspec": {
   "display_name": "f2022-s2023-r",
   "language": "R",
   "name": "f2022-s2023-r"
  },
  "language_info": {
   "codemirror_mode": "r",
   "file_extension": ".r",
   "mimetype": "text/x-r-source",
   "name": "R",
   "pygments_lexer": "r",
   "version": "4.2.1"
  }
 },
 "nbformat": 4,
 "nbformat_minor": 5
}
