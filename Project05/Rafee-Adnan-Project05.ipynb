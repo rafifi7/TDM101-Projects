{
 "cells": [
  {
   "cell_type": "markdown",
   "id": "be02a957-7133-4d02-818e-fedeb3cecb05",
   "metadata": {},
   "source": [
    "# Project 5 -- Rafee Adnan"
   ]
  },
  {
   "cell_type": "markdown",
   "id": "a1228853-dd19-4ab2-89e0-0394d7d72de3",
   "metadata": {},
   "source": [
    "**TA Help:**\n",
    "    \n",
    "**Collaboration:** \n"
   ]
  },
  {
   "cell_type": "markdown",
   "id": "6180e742-8e39-4698-98ff-5b00c8cf8ea0",
   "metadata": {},
   "source": [
    "## Question 1"
   ]
  },
  {
   "cell_type": "code",
   "execution_count": 1,
   "id": "49445606-d363-41b4-b479-e319a9a84c01",
   "metadata": {},
   "outputs": [],
   "source": [
    "options(jupyter.rich_display = F)"
   ]
  },
  {
   "cell_type": "code",
   "execution_count": 2,
   "id": "bcadd254-694c-451a-b621-96a56a99d691",
   "metadata": {},
   "outputs": [],
   "source": [
    "options(repr.matrix.max.cols = 25, repr.matrix.max.rows = 25)"
   ]
  },
  {
   "cell_type": "code",
   "execution_count": 3,
   "id": "58ac8454-528c-40ee-b31f-2218b1177018",
   "metadata": {},
   "outputs": [],
   "source": [
    "myDF <- read.csv(\"/anvil/projects/tdm/data/election/escaped/itcont2020sample.txt\", sep=\"|\")"
   ]
  },
  {
   "cell_type": "code",
   "execution_count": 4,
   "id": "e7d26c9e-dab7-4f1c-bf3e-8b62442df962",
   "metadata": {},
   "outputs": [
    {
     "data": {
      "text/plain": [
       "  CMTE_ID   AMNDT_IND RPT_TP TRANSACTION_PGI IMAGE_NUM    TRANSACTION_TP\n",
       "1 C00401224 N         YE                     2.020013e+17 24T           \n",
       "2 C00401224 N         M4     P               2.020042e+17 24T           \n",
       "3 C00193433 N         YE     P               2.020012e+17 15            \n",
       "4 C00401224 N         YE                     2.020013e+17 24T           \n",
       "5 C00401224 N         MY                     2.019073e+17 24T           \n",
       "6 C00618371 N         Q3     P               2.019102e+17 15            \n",
       "  ENTITY_TP NAME             CITY         STATE ZIP_CODE EMPLOYER    \n",
       "1 IND       SOLOMON, VICTOR  CAPE CORAL   FL    33904    RETIRED     \n",
       "2 IND       MYERS, ELIZABETH SCOTTSVILLE  NY    14546    NOT EMPLOYED\n",
       "3 IND       HASKINS, GEORGE  HARTSDALE    NY    10530    NOT EMPLOYED\n",
       "4 IND       KOLBE, NINA      WASHINGTON   DC    20003    SELF        \n",
       "5 IND       ESSENBERG, PENNY GRAND RAPIDS MI    49534                \n",
       "6 IND       GIEBEL, BETTY    KISSIMMEE    FL    34744    HOMEMAKER   \n",
       "  OCCUPATION          TRANSACTION_DT TRANSACTION_AMT OTHER_ID  TRAN_ID         \n",
       "1 NOT EMPLOYED         7112019       15              C00042366 SA11AI_165851302\n",
       "2 NOT EMPLOYED         3042020       39              C00696948 SA11AI_216676150\n",
       "3 NOT EMPLOYED        12182019       15                        6260719         \n",
       "4 HEALTH PROFESSIONAL  8302019       10              C00637074 SA11AI_174544101\n",
       "5                      3212019       16              C00580068 SB28A_145393165 \n",
       "6 HOMEMAKER            7112019       42                        SA11AI.178611   \n",
       "  FILE_NUM MEMO_CD\n",
       "1 1378435         \n",
       "2 1402724         \n",
       "3 1371576         \n",
       "4 1378435         \n",
       "5 1344765         \n",
       "6 1358506         \n",
       "  MEMO_TEXT                                                                              \n",
       "1 EARMARKED FOR DSCC (C00042366)                                                         \n",
       "2 EARMARKED FOR BERNIE 2020 (C00696948)                                                  \n",
       "3                                                                                        \n",
       "4 EARMARKED FOR FINKENAUER FOR CONGRESS (C00637074)                                      \n",
       "5 REFUND OF CONTRIBUTION, INITIALLY EARMARKED FOR PROGRESSIVE TURNOUT PROJECT (C00580068)\n",
       "6                                                                                        \n",
       "  SUB_ID     \n",
       "1 4.03022e+18\n",
       "2 4.05142e+18\n",
       "3 4.01222e+18\n",
       "4 4.03022e+18\n",
       "5 4.08282e+18\n",
       "6 4.10182e+18"
      ]
     },
     "metadata": {},
     "output_type": "display_data"
    }
   ],
   "source": [
    "head(myDF)"
   ]
  },
  {
   "cell_type": "code",
   "execution_count": 5,
   "id": "130eef5e-23db-4b24-9eb5-4789823eaee2",
   "metadata": {},
   "outputs": [
    {
     "name": "stderr",
     "output_type": "stream",
     "text": [
      "Warning message in system(\"timedatectl\", intern = TRUE):\n",
      "\"running command 'timedatectl' had status 1\"\n"
     ]
    }
   ],
   "source": [
    "library(lubridate, warn.conflicts = FALSE)"
   ]
  },
  {
   "cell_type": "code",
   "execution_count": 6,
   "id": "ff11636f-4e7b-484e-a515-1aa1a3244c4a",
   "metadata": {},
   "outputs": [],
   "source": [
    "myDF$newdates <- mdy(myDF$TRANSACTION_DT)"
   ]
  },
  {
   "cell_type": "code",
   "execution_count": 7,
   "id": "c9e1fbcd-350a-4616-8d84-c1ace8a92d49",
   "metadata": {},
   "outputs": [
    {
     "data": {
      "text/plain": [
       "[1]  7112019  3042020 12182019  8302019  3212019  7112019"
      ]
     },
     "metadata": {},
     "output_type": "display_data"
    }
   ],
   "source": [
    "head(myDF$TRANSACTION_DT)"
   ]
  },
  {
   "cell_type": "code",
   "execution_count": 8,
   "id": "1d58a477-f7f9-4e2b-ba42-ebc2c61da733",
   "metadata": {},
   "outputs": [
    {
     "data": {
      "text/plain": [
       "[1] \"2019-07-11\" \"2020-03-04\" \"2019-12-18\" \"2019-08-30\" \"2019-03-21\"\n",
       "[6] \"2019-07-11\""
      ]
     },
     "metadata": {},
     "output_type": "display_data"
    }
   ],
   "source": [
    "head(myDF$newdates)"
   ]
  },
  {
   "cell_type": "code",
   "execution_count": 9,
   "id": "2af752f2-e72a-4b56-9ac2-86dca4fdad13",
   "metadata": {},
   "outputs": [
    {
     "data": {
      "text/plain": [
       "[1] 1067589940"
      ]
     },
     "metadata": {},
     "output_type": "display_data"
    }
   ],
   "source": [
    "sum(myDF$TRANSACTION_AMT)"
   ]
  },
  {
   "cell_type": "code",
   "execution_count": 10,
   "id": "e754e605-374e-48d9-8fd1-6dfbca5f4bab",
   "metadata": {},
   "outputs": [],
   "source": [
    "myResults <- tapply(myDF$TRANSACTION_AMT, myDF$newdates, sum) "
   ]
  },
  {
   "cell_type": "code",
   "execution_count": 11,
   "id": "8329106d-abe1-4fb5-bfed-d6ebe03d263b",
   "metadata": {},
   "outputs": [
    {
     "data": {
      "image/png": "[encoded data removed]",
      "text/plain": [
       "plot without title"
      ]
     },
     "metadata": {
      "image/png": {
       "height": 420,
       "width": 420
      }
     },
     "output_type": "display_data"
    }
   ],
   "source": [
    "plot(sort(unique(myDF$newdates)), myResults)"
   ]
  },
  {
   "cell_type": "markdown",
   "id": "b456e57c-4a12-464b-999a-ef2df5af80c1",
   "metadata": {},
   "source": [
    "a) The two most recent head function calls show that the newdates column is TRANSACTION_DT but in year-month-day order.\n",
    "\n",
    "b) shown above\n",
    "\n",
    "c) shown above"
   ]
  },
  {
   "cell_type": "markdown",
   "id": "fc601975-35ed-4680-a4e1-0273ee3cc047",
   "metadata": {},
   "source": [
    "## Question 2"
   ]
  },
  {
   "cell_type": "code",
   "execution_count": 12,
   "id": "a16336a1-1ef0-41e8-bc7c-49387db27497",
   "metadata": {},
   "outputs": [],
   "source": [
    "newDF <- subset(myDF, newdates >= mdy(1012019) \n",
    "                & newdates <= mdy(5152019))"
   ]
  },
  {
   "cell_type": "code",
   "execution_count": 13,
   "id": "80d49755-21f8-48f6-a3a2-599f6f00bfe2",
   "metadata": {},
   "outputs": [
    {
     "data": {
      "text/plain": [
       "[1] 495435     22"
      ]
     },
     "metadata": {},
     "output_type": "display_data"
    }
   ],
   "source": [
    "dim(newDF)"
   ]
  },
  {
   "cell_type": "code",
   "execution_count": 14,
   "id": "7ffeb5c3-f812-4c28-af6d-17a3d88da9f0",
   "metadata": {},
   "outputs": [
    {
     "data": {
      "text/plain": [
       "[1] 4678762      22"
      ]
     },
     "metadata": {},
     "output_type": "display_data"
    }
   ],
   "source": [
    "dim(myDF)"
   ]
  },
  {
   "cell_type": "code",
   "execution_count": 15,
   "id": "d1d07aed-9c16-4bf7-b51f-06f299cbc34f",
   "metadata": {},
   "outputs": [],
   "source": [
    "newResults <- tapply(newDF$TRANSACTION_AMT, newDF$newdates, sum) "
   ]
  },
  {
   "cell_type": "code",
   "execution_count": 16,
   "id": "3df5a49a-d163-4eee-b259-e213dcc6cc26",
   "metadata": {},
   "outputs": [
    {
     "data": {
      "text/plain": [
       "2019-01-01 2019-01-02 2019-01-03 2019-01-04 2019-01-05 2019-01-06 \n",
       "    286355     224173     343765     285968     130386     142742 "
      ]
     },
     "metadata": {},
     "output_type": "display_data"
    }
   ],
   "source": [
    "head(newResults)"
   ]
  },
  {
   "cell_type": "code",
   "execution_count": 17,
   "id": "057917d2-872b-400c-995d-df196dfece84",
   "metadata": {},
   "outputs": [
    {
     "data": {
      "image/png": "[encoded data removed]",
      "text/plain": [
       "plot without title"
      ]
     },
     "metadata": {
      "image/png": {
       "height": 420,
       "width": 420
      }
     },
     "output_type": "display_data"
    }
   ],
   "source": [
    "plot(sort(unique(newDF$newdates)), newResults)"
   ]
  },
  {
   "cell_type": "markdown",
   "id": "14dc22d4-ddc3-41cc-a91a-cb0025bc0c80",
   "metadata": {},
   "source": [
    "a) shown above\n",
    "\n",
    "b) shown above\n",
    "\n",
    "c) I noticed that there were much higher points between March and May than between January and March. "
   ]
  },
  {
   "cell_type": "markdown",
   "id": "8e586edd-ff26-4ce2-8f6b-2424b26f2929",
   "metadata": {},
   "source": [
    "## Question 3"
   ]
  },
  {
   "cell_type": "code",
   "execution_count": 18,
   "id": "bbe0f40d-9655-4653-9ca8-886bdb61cb91",
   "metadata": {},
   "outputs": [],
   "source": [
    "stateDonations <- tapply(myDF$TRANSACTION_AMT, myDF$STATE, sum) "
   ]
  },
  {
   "cell_type": "code",
   "execution_count": 19,
   "id": "f9f0b181-a4bd-4d2e-8582-e736bd8c5694",
   "metadata": {},
   "outputs": [
    {
     "data": {
      "text/plain": [
       "[1] 1067589940"
      ]
     },
     "metadata": {},
     "output_type": "display_data"
    }
   ],
   "source": [
    "sum(stateDonations)"
   ]
  },
  {
   "cell_type": "code",
   "execution_count": 20,
   "id": "9ca7d2f1-af20-47ab-a828-67a19b462349",
   "metadata": {},
   "outputs": [],
   "source": [
    "myDF$cityState <- paste(myDF$CITY, myDF$STATE, sep = \", \")"
   ]
  },
  {
   "cell_type": "code",
   "execution_count": 21,
   "id": "df80e466-964c-44f4-8f7e-184a7b57e98a",
   "metadata": {},
   "outputs": [
    {
     "data": {
      "text/plain": [
       "[1] \"CAPE CORAL, FL\"   \"SCOTTSVILLE, NY\"  \"HARTSDALE, NY\"    \"WASHINGTON, DC\"  \n",
       "[5] \"GRAND RAPIDS, MI\" \"KISSIMMEE, FL\"   "
      ]
     },
     "metadata": {},
     "output_type": "display_data"
    }
   ],
   "source": [
    "head(myDF$cityState)"
   ]
  },
  {
   "cell_type": "code",
   "execution_count": 22,
   "id": "9579bea1-08ff-4b77-b6e4-485196d9635c",
   "metadata": {},
   "outputs": [],
   "source": [
    "cityStateDonations <- tapply(myDF$TRANSACTION_AMT, myDF$cityState, sum)"
   ]
  },
  {
   "cell_type": "code",
   "execution_count": 23,
   "id": "cbbf608e-fcb6-4d9e-9971-42b662154b3d",
   "metadata": {},
   "outputs": [
    {
     "data": {
      "text/plain": [
       "     NEW YORK, NY SAN FRANCISCO, CA    WASHINGTON, DC   LOS ANGELES, CA \n",
       "        331576505          38701698          37152618          14141160 \n",
       "      HOUSTON, TX        DALLAS, TX \n",
       "         12463126          11642460 "
      ]
     },
     "metadata": {},
     "output_type": "display_data"
    }
   ],
   "source": [
    "head(sort(cityStateDonations, decreasing = TRUE))"
   ]
  },
  {
   "cell_type": "code",
   "execution_count": 24,
   "id": "f74297df-9325-43dc-a1f8-4c62e048561a",
   "metadata": {},
   "outputs": [
    {
     "data": {
      "text/plain": [
       "       DARIEN, NY   GARDEN CITY, NJ        WILSON, AR PLEASANT HILL, TN \n",
       "            -2800             -2800             -2800             -4295 \n",
       "        HOXIE, KS        HEFLIN, AL \n",
       "            -8150             -9983 "
      ]
     },
     "metadata": {},
     "output_type": "display_data"
    }
   ],
   "source": [
    "tail(sort(cityStateDonations, decreasing = TRUE))"
   ]
  },
  {
   "cell_type": "code",
   "execution_count": 25,
   "id": "696bea3a-3931-457d-a21b-95505d026706",
   "metadata": {},
   "outputs": [
    {
     "data": {
      "text/plain": [
       "               # B, CA              $0.00, PA             $20.00, PA \n",
       "                   200                    122                     40 \n",
       "            $49.02, PA             $72.53, PA 'CRESCENT CITY' CA, CA \n",
       "                    98                    145                     81 "
      ]
     },
     "metadata": {},
     "output_type": "display_data"
    }
   ],
   "source": [
    "head(cityStateDonations)"
   ]
  },
  {
   "cell_type": "markdown",
   "id": "47c6229f-35f7-400c-8366-c442baa5cf47",
   "metadata": {},
   "source": [
    "a) $1,067,589,940\n",
    "\n",
    "b) shown above\n",
    "\n",
    "c) There are NA values for the cities, states, and dollar amounts for some of the data points which cause weird results to show up as seen in the head of the cityStateDonations vector. There are also negative numbers towards the tail of the vector which can be explained by refunds or paying back people."
   ]
  },
  {
   "cell_type": "markdown",
   "id": "da22f29c-d245-4d2b-9fc1-ca14cb6087d9",
   "metadata": {},
   "source": [
    "## Question 4"
   ]
  },
  {
   "cell_type": "code",
   "execution_count": 26,
   "id": "8cffc767-d1c8-4d64-b7dc-f0d2ee8a80d1",
   "metadata": {},
   "outputs": [
    {
     "data": {
      "text/plain": [
       "[1] \"character\""
      ]
     },
     "metadata": {},
     "output_type": "display_data"
    }
   ],
   "source": [
    "class(myDF$NAME)"
   ]
  },
  {
   "cell_type": "code",
   "execution_count": 27,
   "id": "81e962fd-ef27-4816-9d9f-b1cccff89594",
   "metadata": {},
   "outputs": [],
   "source": [
    "splitNames <- sapply(strsplit(myDF$NAME, split = \", \"), \"[\", 2)"
   ]
  },
  {
   "cell_type": "code",
   "execution_count": 28,
   "id": "b8b6e00d-1ebe-4360-93c5-d18eeed3e1db",
   "metadata": {},
   "outputs": [],
   "source": [
    "myDF$firstName <- splitNames"
   ]
  },
  {
   "cell_type": "code",
   "execution_count": 29,
   "id": "25db6e3c-1ea8-4e25-9b3e-8143a3be2901",
   "metadata": {},
   "outputs": [
    {
     "data": {
      "text/plain": [
       "[1] \"SOLOMON, VICTOR\"  \"MYERS, ELIZABETH\" \"HASKINS, GEORGE\"  \"KOLBE, NINA\"     \n",
       "[5] \"ESSENBERG, PENNY\" \"GIEBEL, BETTY\"   "
      ]
     },
     "metadata": {},
     "output_type": "display_data"
    }
   ],
   "source": [
    "head(myDF$NAME)"
   ]
  },
  {
   "cell_type": "code",
   "execution_count": 30,
   "id": "a7d6a110-14e8-4245-bfe3-38741627c3d1",
   "metadata": {},
   "outputs": [
    {
     "data": {
      "text/plain": [
       "[1] \"VICTOR\"    \"ELIZABETH\" \"GEORGE\"    \"NINA\"      \"PENNY\"     \"BETTY\"    "
      ]
     },
     "metadata": {},
     "output_type": "display_data"
    }
   ],
   "source": [
    "head(myDF$firstName)"
   ]
  },
  {
   "cell_type": "code",
   "execution_count": 31,
   "id": "553cafe0-7f16-43a4-9f4b-4d0b501acfd5",
   "metadata": {},
   "outputs": [
    {
     "data": {
      "text/plain": [
       "[1] 4007115"
      ]
     },
     "metadata": {},
     "output_type": "display_data"
    }
   ],
   "source": [
    "sum(myDF$TRANSACTION_AMT[grepl(\", MARY \", myDF$NAME)])"
   ]
  },
  {
   "cell_type": "markdown",
   "id": "0d552245-b4d6-474a-9cc9-fa7b8e674d55",
   "metadata": {},
   "source": [
    "a) character is the type of variable that myDF$NAME is.\n",
    "\n",
    "b) From cell 123 and 124 above, the firstName column matches the first name of the NAME column in myDF. I used https://stat.ethz.ch/pipermail/r-help/2005-August/078026.html to help me complete this part.\n",
    "\n",
    "c) The sum of money donated by people named Mary is $4,007,115."
   ]
  },
  {
   "cell_type": "markdown",
   "id": "88c9cdac-3e92-498f-83fa-e089bfc44ac8",
   "metadata": {},
   "source": [
    "## Question 5"
   ]
  },
  {
   "cell_type": "code",
   "execution_count": 32,
   "id": "d370d7c9-06db-42b9-b75f-240481a5c491",
   "metadata": {},
   "outputs": [],
   "source": [
    "notemployed <- sum(myDF$TRANSACTION_AMT[myDF$EMPLOYER == \"NOT EMPLOYED\"], na.rm = TRUE)"
   ]
  },
  {
   "cell_type": "code",
   "execution_count": 33,
   "id": "fcaecbbf-80a9-45c3-ac76-f26d44c6f889",
   "metadata": {},
   "outputs": [],
   "source": [
    "employed <- sum(myDF$TRANSACTION_AMT[myDF$EMPLOYER != \"NOT EMPLOYED\" & myDF$EMPLOYER != \"\" & myDF$EMPLOYER != \"NONE\" ], na.rm = TRUE)"
   ]
  },
  {
   "cell_type": "code",
   "execution_count": 34,
   "id": "7cc1e3a3-6ac2-4166-bba0-943589b97e9a",
   "metadata": {},
   "outputs": [],
   "source": [
    "donType <- c(notemployed, employed) "
   ]
  },
  {
   "cell_type": "code",
   "execution_count": 35,
   "id": "8af36f4a-852d-471e-b093-95d21865aa05",
   "metadata": {},
   "outputs": [],
   "source": [
    "names(donType) <- c(\"NOT EMPLOYED\", \"EMPLOYED\")"
   ]
  },
  {
   "cell_type": "code",
   "execution_count": 36,
   "id": "4e390a2a-6317-4c41-bea6-a217f4dd62c6",
   "metadata": {},
   "outputs": [
    {
     "data": {
      "image/png": "[encoded data removed]",
      "text/plain": [
       "plot without title"
      ]
     },
     "metadata": {
      "image/png": {
       "height": 420,
       "width": 420
      }
     },
     "output_type": "display_data"
    }
   ],
   "source": [
    "barplot(donType)"
   ]
  },
  {
   "cell_type": "code",
   "execution_count": 37,
   "id": "6f44999e-be31-4674-8237-bd57ee8d85ca",
   "metadata": {},
   "outputs": [
    {
     "data": {
      "text/plain": [
       "NOT EMPLOYED     EMPLOYED \n",
       "    79250204    882041447 "
      ]
     },
     "metadata": {},
     "output_type": "display_data"
    }
   ],
   "source": [
    "donType"
   ]
  },
  {
   "cell_type": "code",
   "execution_count": 38,
   "id": "5612ba32-8cb7-4cb3-8bef-bd4d28d75368",
   "metadata": {},
   "outputs": [
    {
     "data": {
      "text/plain": [
       "     FOUNDER      RETIRED NOT EMPLOYED                  ATTORNEY          CEO \n",
       "   279442327     98774206     84855951     77364020     31326953     25055647 "
      ]
     },
     "metadata": {},
     "output_type": "display_data"
    }
   ],
   "source": [
    "head(sort(tapply(myDF$TRANSACTION_AMT, myDF$OCCUPATION, sum), decreasing=TRUE))"
   ]
  },
  {
   "cell_type": "code",
   "execution_count": 71,
   "id": "0a1a8892-b3bc-40bf-b0f4-fa45c5191e63",
   "metadata": {},
   "outputs": [],
   "source": [
    "numNotEmployeed <- sum(myDF$EMPLOYER == \"NOT EMPLOYED\", na.rm = TRUE)"
   ]
  },
  {
   "cell_type": "code",
   "execution_count": 72,
   "id": "36213f9a-8b0a-4c64-9f18-290664e407da",
   "metadata": {},
   "outputs": [],
   "source": [
    "numEmployed <- sum(myDF$EMPLOYER != \"NOT EMPLOYED\" & myDF$EMPLOYER != \"\" & myDF$EMPLOYER != \"NONE\", na.rm = TRUE)"
   ]
  },
  {
   "cell_type": "code",
   "execution_count": 73,
   "id": "a3aa512a-2c61-4dfb-8741-c134e78445f1",
   "metadata": {},
   "outputs": [],
   "source": [
    "employCount <- c(numNotEmployeed, numEmployed)"
   ]
  },
  {
   "cell_type": "code",
   "execution_count": 74,
   "id": "5e95d888-1bb3-461f-80a3-c168f1427938",
   "metadata": {},
   "outputs": [],
   "source": [
    "names(employCount) <- c(\"Not Employed\", \"Employed\")"
   ]
  },
  {
   "cell_type": "code",
   "execution_count": 77,
   "id": "b8416a13-852e-4cd4-9123-caf6e8abac0a",
   "metadata": {},
   "outputs": [
    {
     "data": {
      "image/png": "[encoded data removed]",
      "text/plain": [
       "plot without title"
      ]
     },
     "metadata": {
      "image/png": {
       "height": 420,
       "width": 420
      }
     },
     "output_type": "display_data"
    }
   ],
   "source": [
    "barplot(employCount)"
   ]
  },
  {
   "cell_type": "code",
   "execution_count": 79,
   "id": "b84747a6-b028-4720-99d4-6731e2b8f4e4",
   "metadata": {},
   "outputs": [
    {
     "data": {
      "text/plain": [
       "[1] 949959"
      ]
     },
     "metadata": {},
     "output_type": "display_data"
    }
   ],
   "source": [
    "numNotEmployeed"
   ]
  },
  {
   "cell_type": "code",
   "execution_count": 80,
   "id": "62e52de8-0294-453d-b015-f3cc4cf9d8b6",
   "metadata": {},
   "outputs": [
    {
     "data": {
      "text/plain": [
       "[1] 3283237"
      ]
     },
     "metadata": {},
     "output_type": "display_data"
    }
   ],
   "source": [
    "numEmployed"
   ]
  },
  {
   "cell_type": "markdown",
   "id": "9fbf00fb-2418-460f-ae94-2a32b0c28952",
   "metadata": {},
   "source": [
    "a) shown above\n",
    "\n",
    "b) Founder is the category of occupation that donates the most money.\n",
    "\n",
    "c) Something interesting that I discovered was that the number of people that are not employed according to the data frame is close to 1 million while there are over 3 million people who are employed."
   ]
  },
  {
   "cell_type": "markdown",
   "id": "f76442d6-d02e-4f26-b9d6-c3183e1d6929",
   "metadata": {},
   "source": [
    "## Pledge\n",
    "\n",
    "By submitting this work I hereby pledge that this is my own, personal work. I've acknowledged in the designated place at the top of this file all sources that I used to complete said work, including but not limited to: online resources, books, and electronic communications. I've noted all collaboration with fellow students and/or TA's. I did not copy or plagiarize another's work.\n",
    "\n",
    "> As a Boilermaker pursuing academic excellence, I pledge to be honest and true in all that I do. Accountable together – We are Purdue."
   ]
  },
  {
   "cell_type": "code",
   "execution_count": null,
   "id": "c0d7f348-b47c-4bfd-b262-ddbe86918bdb",
   "metadata": {},
   "outputs": [],
   "source": []
  }
 ],
 "metadata": {
  "kernelspec": {
   "display_name": "f2022-s2023-r",
   "language": "R",
   "name": "f2022-s2023-r"
  },
  "language_info": {
   "codemirror_mode": "r",
   "file_extension": ".r",
   "mimetype": "text/x-r-source",
   "name": "R",
   "pygments_lexer": "r",
   "version": "4.2.1"
  }
 },
 "nbformat": 4,
 "nbformat_minor": 5
}
